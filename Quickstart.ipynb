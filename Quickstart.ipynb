{
 "cells": [
  {
   "cell_type": "markdown",
   "metadata": {},
   "source": [
    "# Quickstart to Kubeflow\n",
    "\n",
    "For how to interact with the Kubeflow dashboard and creating notebook servers please see https://www.kubeflow.org/docs/components/notebooks/setup/.\n"
   ]
  },
  {
   "cell_type": "markdown",
   "metadata": {},
   "source": [
    "## Storage and Disks\n",
    "\n",
    "Your home directory is under /home/jovyan. Aim to use it for code and scripts as its size is limited.\n"
   ]
  },
  {
   "cell_type": "code",
   "execution_count": 1,
   "metadata": {
    "ExecuteTime": {
     "end_time": "2020-04-06T15:34:42.821079Z",
     "start_time": "2020-04-06T15:34:42.644636Z"
    },
    "execution": {
     "iopub.execute_input": "2021-06-16T19:14:42.630592Z",
     "iopub.status.busy": "2021-06-16T19:14:42.630373Z",
     "iopub.status.idle": "2021-06-16T19:14:43.560254Z",
     "shell.execute_reply": "2021-06-16T19:14:43.559387Z",
     "shell.execute_reply.started": "2021-06-16T19:14:42.630534Z"
    }
   },
   "outputs": [
    {
     "name": "stdout",
     "output_type": "stream",
     "text": [
      "/home/jovyan/jupyter-notebooks\n"
     ]
    }
   ],
   "source": [
    "! pwd"
   ]
  },
  {
   "cell_type": "markdown",
   "metadata": {},
   "source": [
    "Volumes or Data disks specified in the notebook server configuration are mounted as shown below."
   ]
  },
  {
   "cell_type": "code",
   "execution_count": 2,
   "metadata": {
    "ExecuteTime": {
     "end_time": "2020-04-06T15:35:33.803690Z",
     "start_time": "2020-04-06T15:35:33.653674Z"
    },
    "execution": {
     "iopub.execute_input": "2021-06-16T19:14:43.561854Z",
     "iopub.status.busy": "2021-06-16T19:14:43.561644Z",
     "iopub.status.idle": "2021-06-16T19:14:44.439200Z",
     "shell.execute_reply": "2021-06-16T19:14:44.438373Z",
     "shell.execute_reply.started": "2021-06-16T19:14:43.561829Z"
    }
   },
   "outputs": [
    {
     "name": "stdout",
     "output_type": "stream",
     "text": [
      "Filesystem      Size  Used Avail Use% Mounted on\n",
      "overlay         194G  109G   86G  56% /\n",
      "tmpfs            64M     0   64M   0% /dev\n",
      "tmpfs            32G     0   32G   0% /sys/fs/cgroup\n",
      "/dev/sdk         16G  2.8G   13G  18% /home/jovyan\n",
      "tmpfs            32G  8.0K   32G   1% /vault/secrets\n",
      "/dev/sda1       194G  109G   86G  56% /etc/hosts\n",
      "shm              64M  4.0K   64M   1% /dev/shm\n",
      "tmpfs            32G   12K   32G   1% /run/secrets/kubernetes.io/serviceaccount\n",
      "tmpfs            32G     0   32G   0% /proc/acpi\n",
      "tmpfs            32G     0   32G   0% /proc/scsi\n",
      "tmpfs            32G     0   32G   0% /sys/firmware\n"
     ]
    }
   ],
   "source": [
    "! df -h"
   ]
  },
  {
   "cell_type": "markdown",
   "metadata": {},
   "source": [
    "## Compute Resources\n",
    "\n",
    "Compute resources are available as in regular virtual machines. Monitoring can be done, for example via `htop` in a terminal.\n"
   ]
  },
  {
   "cell_type": "markdown",
   "metadata": {},
   "source": [
    "## GUI Setup\n",
    "\n",
    "The user can switch between Jupyter lab and Jupyter notebooks via \n",
    "\n",
    "* Jupyter Notebook: https://kubeflow.covid.cloud.statcan.ca/notebook/[user]/[notebook-name]/lab\n",
    "* Jupyter Lab: https://kubeflow.covid.cloud.statcan.ca/notebook/[user]/[notebook-name]/tree\n",
    "\n",
    "Another option is to enable Jupyter extensions which provide very rich enhancements from code linting to auto-correction. For that the extension manager needs to be enabled.\n"
   ]
  },
  {
   "cell_type": "markdown",
   "metadata": {},
   "source": [
    "## Choice of Python, R or Julia\n",
    "\n",
    "Jupyter kernels for Python, R or Julia can be selected at notebook creation. The default kernel for this notebook is Python 3 and hence the visualzation demonstration below.\n",
    "\n"
   ]
  },
  {
   "cell_type": "markdown",
   "metadata": {},
   "source": [
    "### Visualization via matplotlib is shown below"
   ]
  },
  {
   "cell_type": "code",
   "execution_count": 3,
   "metadata": {
    "ExecuteTime": {
     "end_time": "2020-04-06T16:12:06.108897Z",
     "start_time": "2020-04-06T16:12:01.503895Z"
    },
    "execution": {
     "iopub.execute_input": "2021-06-16T19:14:44.441246Z",
     "iopub.status.busy": "2021-06-16T19:14:44.440975Z",
     "iopub.status.idle": "2021-06-16T19:14:44.909771Z",
     "shell.execute_reply": "2021-06-16T19:14:44.908946Z",
     "shell.execute_reply.started": "2021-06-16T19:14:44.441220Z"
    }
   },
   "outputs": [],
   "source": [
    "import matplotlib.pyplot as plt\n",
    "%matplotlib inline"
   ]
  },
  {
   "cell_type": "code",
   "execution_count": 4,
   "metadata": {
    "ExecuteTime": {
     "end_time": "2020-04-06T16:11:57.043574Z",
     "start_time": "2020-04-06T16:11:57.030722Z"
    },
    "execution": {
     "iopub.execute_input": "2021-06-16T19:14:44.911224Z",
     "iopub.status.busy": "2021-06-16T19:14:44.910921Z",
     "iopub.status.idle": "2021-06-16T19:14:44.915454Z",
     "shell.execute_reply": "2021-06-16T19:14:44.914552Z",
     "shell.execute_reply.started": "2021-06-16T19:14:44.911193Z"
    }
   },
   "outputs": [
    {
     "name": "stdout",
     "output_type": "stream",
     "text": [
      "Have fun!\n"
     ]
    }
   ],
   "source": [
    "print('Have fun!')"
   ]
  },
  {
   "cell_type": "code",
   "execution_count": 5,
   "metadata": {
    "ExecuteTime": {
     "end_time": "2020-04-06T16:12:53.009560Z",
     "start_time": "2020-04-06T16:12:52.420670Z"
    },
    "execution": {
     "iopub.execute_input": "2021-06-16T19:14:44.916659Z",
     "iopub.status.busy": "2021-06-16T19:14:44.916424Z",
     "iopub.status.idle": "2021-06-16T19:14:45.125942Z",
     "shell.execute_reply": "2021-06-16T19:14:45.125262Z",
     "shell.execute_reply.started": "2021-06-16T19:14:44.916637Z"
    }
   },
   "outputs": [
    {
     "data": {
      "text/plain": [
       "[<matplotlib.lines.Line2D at 0x7f2abd6ae3a0>]"
      ]
     },
     "execution_count": 5,
     "metadata": {},
     "output_type": "execute_result"
    },
    {
     "data": {
      "image/png": "[encoded data removed]",
      "text/plain": [
       "<Figure size 432x288 with 1 Axes>"
      ]
     },
     "metadata": {
      "needs_background": "light"
     },
     "output_type": "display_data"
    }
   ],
   "source": [
    "plt.plot([1,2],[3,2])"
   ]
  },
  {
   "cell_type": "markdown",
   "metadata": {},
   "source": [
    "For Jupyter functionalities please refer to the multitude of tutorials."
   ]
  },
  {
   "cell_type": "markdown",
   "metadata": {},
   "source": [
    "This concludes this quickstart. Further application examples are provided in the sub-directories."
   ]
  }
 ],
 "metadata": {
  "kernelspec": {
   "display_name": "Python 3",
   "language": "python",
   "name": "python3"
  },
  "language_info": {
   "codemirror_mode": {
    "name": "ipython",
    "version": 3
   },
   "file_extension": ".py",
   "mimetype": "text/x-python",
   "name": "python",
   "nbconvert_exporter": "python",
   "pygments_lexer": "ipython3",
   "version": "3.8.8"
  },
  "toc": {
   "base_numbering": 1,
   "nav_menu": {},
   "number_sections": true,
   "sideBar": true,
   "skip_h1_title": false,
   "title_cell": "Table of Contents",
   "title_sidebar": "Contents",
   "toc_cell": false,
   "toc_position": {},
   "toc_section_display": true,
   "toc_window_display": false
  }
 },
 "nbformat": 4,
 "nbformat_minor": 4
}
