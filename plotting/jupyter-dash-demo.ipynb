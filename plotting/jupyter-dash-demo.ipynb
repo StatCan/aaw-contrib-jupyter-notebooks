{
 "cells": [
  {
   "cell_type": "markdown",
   "metadata": {},
   "source": [
    "# Application of Jupyter Dash\n",
    "Summary taken from [jupyter-dash readme](https://github.com/plotly/jupyter-dash)\n",
    "\n",
    "This library makes it easy to develop Plotly Dash apps interactively from within Jupyter environments (e.g. classic Notebook, JupyterLab, Visual Studio Code notebooks, nteract, PyCharm notebooks, etc.).\n",
    "\n",
    "**Note: These interactive displays do not save well in static `.ipynb` files, and thus won't show properly in a GitHub rendering or when you first open the `.ipynb` file.  Run these cells again to see the visuals.**\n",
    "\n",
    "# Example\n",
    "Example is taken from their medium article [Introducing JupyterDash](https://medium.com/plotly/introducing-jupyterdash-811f1f57c02e)"
   ]
  },
  {
   "cell_type": "code",
   "execution_count": 1,
   "metadata": {
    "execution": {
     "iopub.execute_input": "2021-06-16T18:19:28.649476Z",
     "iopub.status.busy": "2021-06-16T18:19:28.649210Z",
     "iopub.status.idle": "2021-06-16T18:19:29.829366Z",
     "shell.execute_reply": "2021-06-16T18:19:29.828477Z",
     "shell.execute_reply.started": "2021-06-16T18:19:28.649391Z"
    }
   },
   "outputs": [],
   "source": [
    "from jupyter_dash import JupyterDash\n",
    "import dash_html_components as html\n",
    "import plotly.express as px\n",
    "from dash.dependencies import Input, Output  # Load Data\n",
    "import dash_core_components as dcc\n",
    "from jupyter_dash.comms import _send_jupyter_config_comm_request\n",
    "_send_jupyter_config_comm_request()"
   ]
  },
  {
   "cell_type": "markdown",
   "metadata": {},
   "source": [
    "The next line **must** be run in its own cell"
   ]
  },
  {
   "cell_type": "code",
   "execution_count": null,
   "metadata": {
    "execution": {
     "iopub.execute_input": "2021-06-16T18:19:29.830758Z",
     "iopub.status.busy": "2021-06-16T18:19:29.830557Z"
    }
   },
   "outputs": [],
   "source": [
    "JupyterDash.infer_jupyter_proxy_config()"
   ]
  },
  {
   "cell_type": "markdown",
   "metadata": {},
   "source": [
    "Define the Dash app"
   ]
  },
  {
   "cell_type": "code",
   "execution_count": 3,
   "metadata": {
    "execution": {
     "iopub.execute_input": "2021-06-16T18:19:29.909487Z",
     "iopub.status.busy": "2021-06-16T18:19:29.833505Z",
     "iopub.status.idle": "2021-06-16T18:19:29.835024Z",
     "shell.execute_reply": "2021-06-16T18:19:30.078533Z",
     "shell.execute_reply.started": "2021-06-16T18:19:29.909462Z"
    }
   },
   "outputs": [],
   "source": [
    "df = px.data.tips()  # Build App\n",
    "app = JupyterDash(__name__)\n",
    "app.layout = html.Div([\n",
    "    html.H1(\"JupyterDash Demo\"),\n",
    "    dcc.Graph(id='graph'),\n",
    "    html.Label([\n",
    "        \"colorscale\",\n",
    "        dcc.Dropdown(\n",
    "            id='colorscale-dropdown', clearable=False,\n",
    "            value='plasma', options=[\n",
    "                {'label': c, 'value': c}\n",
    "                for c in px.colors.named_colorscales()\n",
    "            ])\n",
    "    ]),\n",
    "])\n",
    "\n",
    "\n",
    "# Define callback to update graph\n",
    "@app.callback(\n",
    "    Output('graph', 'figure'),\n",
    "    [Input(\"colorscale-dropdown\", \"value\")]\n",
    ")\n",
    "def update_figure(colorscale):\n",
    "    return px.scatter(\n",
    "        df, x=\"total_bill\", y=\"tip\", color=\"size\",\n",
    "        color_continuous_scale=colorscale,\n",
    "        render_mode=\"webgl\", title=\"Tips\"\n",
    "    )"
   ]
  },
  {
   "cell_type": "markdown",
   "metadata": {},
   "source": [
    "You can run the Dash app in different modes:\n",
    "\n",
    "* jupyterlab: Opens a new jupyterlab tab\n",
    "* inline: Opens the app in this notebook\n",
    "* external: Sets up a `kubeflow.covid.cloud...` link which will be accessible to anyone with access to this Notebook Server's namespace"
   ]
  },
  {
   "cell_type": "code",
   "execution_count": 4,
   "metadata": {
    "execution": {
     "iopub.execute_input": "2021-06-16T18:19:30.078899Z",
     "iopub.status.busy": "2021-06-16T18:19:29.835870Z",
     "iopub.status.idle": "2021-06-16T18:19:29.837091Z",
     "shell.execute_reply": "2021-06-16T18:19:30.113011Z",
     "shell.execute_reply.started": "2021-06-16T18:19:30.078870Z"
    }
   },
   "outputs": [
    {
     "name": "stderr",
     "output_type": "stream",
     "text": [
      " * Running on http://127.0.0.1:8889/ (Press CTRL+C to quit)\n",
      "127.0.0.1 - - [16/Jun/2021 18:19:30] \"GET /_alive_89c0de18-8f38-4bdb-9dd4-becfba92f103 HTTP/1.1\" 200 -\n"
     ]
    }
   ],
   "source": [
    "app.run_server(mode=\"jupyterlab\", port='8889', debug=False)"
   ]
  },
  {
   "cell_type": "code",
   "execution_count": 5,
   "metadata": {
    "execution": {
     "iopub.execute_input": "2021-06-16T18:19:30.113341Z",
     "iopub.status.busy": "2021-06-16T18:19:29.837686Z",
     "iopub.status.idle": "2021-06-16T18:19:29.838924Z",
     "shell.execute_reply": "2021-06-16T18:19:30.154731Z",
     "shell.execute_reply.started": "2021-06-16T18:19:30.113294Z"
    }
   },
   "outputs": [
    {
     "name": "stderr",
     "output_type": "stream",
     "text": [
      "/opt/conda/lib/python3.8/site-packages/jupyter_dash/jupyter_app.py:139: UserWarning: The 'environ['werkzeug.server.shutdown']' function is deprecated and will be removed in Werkzeug 2.1.\n",
      "  func()\n",
      "127.0.0.1 - - [16/Jun/2021 18:19:30] \"GET /_shutdown_89c0de18-8f38-4bdb-9dd4-becfba92f103 HTTP/1.1\" 200 -\n",
      " * Running on http://127.0.0.1:8889/ (Press CTRL+C to quit)\n",
      "127.0.0.1 - - [16/Jun/2021 18:19:30] \"GET /_alive_89c0de18-8f38-4bdb-9dd4-becfba92f103 HTTP/1.1\" 200 -\n"
     ]
    },
    {
     "data": {
      "text/html": [
       "\n",
       "        <iframe\n",
       "            width=\"100%\"\n",
       "            height=\"650\"\n",
       "            src=\"https://kubeflow.covid.cloud.statcan.ca/notebook/rohan-katkar/jupyter-lab/proxy/8889/\"\n",
       "            frameborder=\"0\"\n",
       "            allowfullscreen\n",
       "        ></iframe>\n",
       "        "
      ],
      "text/plain": [
       "<IPython.lib.display.IFrame at 0x7fe905d00550>"
      ]
     },
     "metadata": {},
     "output_type": "display_data"
    }
   ],
   "source": [
    "app.run_server(mode=\"inline\", port='8889', debug=False)"
   ]
  },
  {
   "cell_type": "code",
   "execution_count": 6,
   "metadata": {
    "execution": {
     "iopub.execute_input": "2021-06-16T18:19:30.155042Z",
     "iopub.status.busy": "2021-06-16T18:19:29.839847Z",
     "iopub.status.idle": "2021-06-16T18:19:30.478318Z",
     "shell.execute_reply": "2021-06-16T18:19:30.475786Z",
     "shell.execute_reply.started": "2021-06-16T18:19:30.155016Z"
    }
   },
   "outputs": [
    {
     "name": "stderr",
     "output_type": "stream",
     "text": [
      "127.0.0.1 - - [16/Jun/2021 18:19:30] \"GET /_shutdown_89c0de18-8f38-4bdb-9dd4-becfba92f103 HTTP/1.1\" 200 -\n",
      " * Running on http://127.0.0.1:8889/ (Press CTRL+C to quit)\n",
      "127.0.0.1 - - [16/Jun/2021 18:19:30] \"GET /_alive_89c0de18-8f38-4bdb-9dd4-becfba92f103 HTTP/1.1\" 200 -\n"
     ]
    },
    {
     "name": "stdout",
     "output_type": "stream",
     "text": [
      "Dash app running on https://kubeflow.covid.cloud.statcan.ca/notebook/rohan-katkar/jupyter-lab/proxy/8889/\n"
     ]
    }
   ],
   "source": [
    "app.run_server(mode=\"external\", port='8889', debug=False)"
   ]
  }
 ],
 "metadata": {
  "kernelspec": {
   "display_name": "Python 3",
   "language": "python",
   "name": "python3"
  },
  "language_info": {
   "codemirror_mode": {
    "name": "ipython",
    "version": 3
   },
   "file_extension": ".py",
   "mimetype": "text/x-python",
   "name": "python",
   "nbconvert_exporter": "python",
   "pygments_lexer": "ipython3",
   "version": "3.8.8"
  }
 },
 "nbformat": 4,
 "nbformat_minor": 4
}
