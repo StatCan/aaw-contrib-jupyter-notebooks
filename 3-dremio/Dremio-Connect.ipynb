{
 "cells": [
  {
   "cell_type": "markdown",
   "metadata": {},
   "source": [
    "# Connect to Dremio (use this as a template)\n",
    "\n",
    "You'll need to enter your credentials. They will not be stored."
   ]
  },
  {
   "cell_type": "code",
   "execution_count": null,
   "metadata": {},
   "outputs": [],
   "source": [
    "################################################\n",
    "#              Connect to Dremio               #\n",
    "################################################\n",
    "# Don't edit this\n",
    "from os import getenv\n",
    "from getpass import getpass\n",
    "import pyodbc\n",
    "import pandas as pd\n",
    "\n",
    "dremio_host = 'dremio-client.dremio.svc.cluster.local'\n",
    "dremio_port = 31010\n",
    "dremio_driver = getenv('DREMIO_DRIVER')\n",
    "\n",
    "cnxn = pyodbc.connect(';'.join([\n",
    "    f\"Driver={dremio_driver}\", \n",
    "    \"ConnectionType=Direct;\",\n",
    "    f\"HOST={dremio_host}\",\n",
    "    f\"PORT={dremio_port}\",\n",
    "    \"AuthenticationType=Plain\",\n",
    "    \"UID={}\".format(getpass('Dremio Username: ')),\n",
    "    \"PWD={}\".format(getpass('Dremio Password: '))]),\n",
    "    autocommit=True\n",
    ")\n",
    "\n",
    "print(\"Connected.\")"
   ]
  },
  {
   "cell_type": "markdown",
   "metadata": {},
   "source": [
    "## An overview of what's available"
   ]
  },
  {
   "cell_type": "code",
   "execution_count": null,
   "metadata": {},
   "outputs": [],
   "source": [
    "print(\"Catalogs:\")\n",
    "sql = \"\"\"SELECT * FROM INFORMATION_SCHEMA.CATALOGS LIMIT 5\"\"\"\n",
    "pd.read_sql(sql,cnxn)"
   ]
  },
  {
   "cell_type": "code",
   "execution_count": null,
   "metadata": {},
   "outputs": [],
   "source": [
    "print(\"Tables:\")\n",
    "sql = '''SELECT * FROM INFORMATION_SCHEMA.\"TABLES\" LIMIT 5'''\n",
    "pd.read_sql(sql,cnxn)"
   ]
  },
  {
   "cell_type": "code",
   "execution_count": null,
   "metadata": {},
   "outputs": [],
   "source": [
    "print(\"Columns:\")\n",
    "sql = \"\"\"SELECT * FROM INFORMATION_SCHEMA.COLUMNS LIMIT 5\"\"\"\n",
    "pd.read_sql(sql,cnxn)"
   ]
  },
  {
   "cell_type": "code",
   "execution_count": null,
   "metadata": {},
   "outputs": [],
   "source": [
    "# For more commands, see the SQL Reference\n",
    "# https://docs.dremio.com/sql-reference/\n",
    "\n",
    "################################################\n",
    "#           End of Connect to Dremio           #\n",
    "################################################"
   ]
  },
  {
   "cell_type": "markdown",
   "metadata": {},
   "source": [
    "# Get started with your analysis!"
   ]
  },
  {
   "cell_type": "code",
   "execution_count": null,
   "metadata": {},
   "outputs": [],
   "source": [
    "sql = '''SELECT * FROM dremiosharedstorage.shared.\"12100121_Metadata.csv\" '''\n",
    "pd.read_sql(sql,cnxn)\n",
    "\n",
    "sql = '''SELECT * FROM dremiosharedstorage.shared.\"12100121.csv\" LIMIT 10'''\n",
    "df = pd.read_sql(sql,cnxn)"
   ]
  },
  {
   "cell_type": "code",
   "execution_count": null,
   "metadata": {},
   "outputs": [],
   "source": [
    "df"
   ]
  },
  {
   "cell_type": "code",
   "execution_count": null,
   "metadata": {},
   "outputs": [],
   "source": [
    "# df = df.rename(columns=df.iloc[0]).drop(df.index[0])"
   ]
  },
  {
   "cell_type": "code",
   "execution_count": null,
   "metadata": {},
   "outputs": [],
   "source": [
    "import numpy as np"
   ]
  },
  {
   "cell_type": "code",
   "execution_count": null,
   "metadata": {},
   "outputs": [],
   "source": [
    "values = pd.to_numeric(df['VALUE'])\n",
    "df['VALUE'] = values"
   ]
  },
  {
   "cell_type": "code",
   "execution_count": null,
   "metadata": {},
   "outputs": [],
   "source": [
    "values.std()"
   ]
  },
  {
   "cell_type": "code",
   "execution_count": null,
   "metadata": {},
   "outputs": [],
   "source": [
    "values.mean()"
   ]
  },
  {
   "cell_type": "code",
   "execution_count": null,
   "metadata": {},
   "outputs": [],
   "source": [
    "pd.DataFrame.hist(df)"
   ]
  },
  {
   "cell_type": "code",
   "execution_count": null,
   "metadata": {},
   "outputs": [],
   "source": [
    "values"
   ]
  },
  {
   "cell_type": "code",
   "execution_count": null,
   "metadata": {},
   "outputs": [],
   "source": []
  }
 ],
 "metadata": {
  "kernelspec": {
   "display_name": "Python 3",
   "language": "python",
   "name": "python3"
  },
  "language_info": {
   "codemirror_mode": {
    "name": "ipython",
    "version": 3
   },
   "file_extension": ".py",
   "mimetype": "text/x-python",
   "name": "python",
   "nbconvert_exporter": "python",
   "pygments_lexer": "ipython3",
   "version": "3.7.6"
  }
 },
 "nbformat": 4,
 "nbformat_minor": 4
}
