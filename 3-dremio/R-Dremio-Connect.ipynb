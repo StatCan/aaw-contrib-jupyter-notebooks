{
 "cells": [
  {
   "cell_type": "markdown",
   "metadata": {},
   "source": [
    "# Connect to Dremio with R (use this as a template)"
   ]
  },
  {
   "cell_type": "code",
   "execution_count": 27,
   "metadata": {},
   "outputs": [
    {
     "name": "stdin",
     "output_type": "stream",
     "text": [
      "Dremio Username:  ··················\n",
      "Dremio Password:  ················\n"
     ]
    },
    {
     "name": "stdout",
     "output_type": "stream",
     "text": [
      "[1] \"Connected.\"\n"
     ]
    }
   ],
   "source": [
    "################################################\n",
    "#              Connect to Dremio               #\n",
    "################################################\n",
    "# Don't edit this\n",
    "if (!require(odbc)) { install.packages(\"odbc\"); require(\"odbc\") }\n",
    "if (!require(getPass)) { install.packages(\"getPass\"); require(\"getPass\") }\n",
    "require(DBI)\n",
    "\n",
    "dremio_host <- 'dremio-client.dremio.svc.cluster.local'\n",
    "dremio_port <- 31010\n",
    "dremio_driver <- Sys.getenv('DREMIO_DRIVER')\n",
    "\n",
    "cnxn <- DBI::dbConnect(\n",
    "    odbc::odbc(), \n",
    "    driver = \"Dremio ODBC Driver 64-bit\",\n",
    "    uid = getPass::getPass(prompt = \"Dremio Username: \"), \n",
    "    pwd = getPass::getPass(prompt = \"Dremio Password: \"), \n",
    "    host = dremio_host, \n",
    "    port = dremio_port,\n",
    "    AuthenticationType = \"Basic Authentication\", \n",
    "    ConnectionType = \"Direct\"\n",
    ")\n",
    "\n",
    "print(\"Connected.\")"
   ]
  },
  {
   "cell_type": "markdown",
   "metadata": {},
   "source": [
    "## An overview of what's available"
   ]
  },
  {
   "cell_type": "code",
   "execution_count": 28,
   "metadata": {},
   "outputs": [
    {
     "name": "stdout",
     "output_type": "stream",
     "text": [
      "[1] \"Catalogs:\"\n"
     ]
    },
    {
     "data": {
      "text/html": [
       "<table>\n",
       "<caption>A data.frame: 1 × 3</caption>\n",
       "<thead>\n",
       "\t<tr><th scope=col>CATALOG_NAME</th><th scope=col>CATALOG_DESCRIPTION</th><th scope=col>CATALOG_CONNECT</th></tr>\n",
       "\t<tr><th scope=col>&lt;chr&gt;</th><th scope=col>&lt;chr&gt;</th><th scope=col>&lt;chr&gt;</th></tr>\n",
       "</thead>\n",
       "<tbody>\n",
       "\t<tr><td>DREMIO</td><td>The internal metadata used by Dremio</td><td></td></tr>\n",
       "</tbody>\n",
       "</table>\n"
      ],
      "text/latex": [
       "A data.frame: 1 × 3\n",
       "\\begin{tabular}{lll}\n",
       " CATALOG\\_NAME & CATALOG\\_DESCRIPTION & CATALOG\\_CONNECT\\\\\n",
       " <chr> & <chr> & <chr>\\\\\n",
       "\\hline\n",
       "\t DREMIO & The internal metadata used by Dremio & \\\\\n",
       "\\end{tabular}\n"
      ],
      "text/markdown": [
       "\n",
       "A data.frame: 1 × 3\n",
       "\n",
       "| CATALOG_NAME &lt;chr&gt; | CATALOG_DESCRIPTION &lt;chr&gt; | CATALOG_CONNECT &lt;chr&gt; |\n",
       "|---|---|---|\n",
       "| DREMIO | The internal metadata used by Dremio | <!----> |\n",
       "\n"
      ],
      "text/plain": [
       "  CATALOG_NAME CATALOG_DESCRIPTION                  CATALOG_CONNECT\n",
       "1 DREMIO       The internal metadata used by Dremio                "
      ]
     },
     "metadata": {},
     "output_type": "display_data"
    }
   ],
   "source": [
    "print(\"Catalogs:\")\n",
    "sql = \"SELECT * FROM INFORMATION_SCHEMA.CATALOGS LIMIT 5\"\n",
    "request <- dbSendQuery(cnxn, sql)\n",
    "df <- dbFetch(request, n = 100)\n",
    "df"
   ]
  },
  {
   "cell_type": "code",
   "execution_count": 29,
   "metadata": {},
   "outputs": [
    {
     "name": "stdout",
     "output_type": "stream",
     "text": [
      "[1] \"Tables\"\n"
     ]
    },
    {
     "data": {
      "text/html": [
       "<style>\n",
       ".list-inline {list-style: none; margin:0; padding: 0}\n",
       ".list-inline>li {display: inline-block}\n",
       ".list-inline>li:not(:last-child)::after {content: \"\\00b7\"; padding: 0 .5ex}\n",
       "</style>\n",
       "<ol class=list-inline><li>'CATALOGS'</li><li>'COLUMNS'</li><li>'SCHEMATA'</li><li>'TABLES'</li><li>'VIEWS'</li><li>'boot'</li><li>'dependencies'</li><li>'fragments'</li><li>'materializations'</li><li>'memory'</li><li>'nodes'</li><li>'options'</li><li>'reflections'</li><li>'refreshes'</li><li>'services'</li><li>'slicing_threads'</li><li>'threads'</li><li>'version'</li><li>'datasets'</li><li>'mount_points'</li><li>'objects'</li><li>'storage_plugins'</li><li>'bank'</li><li>'melb_data'</li><li>'Dremio University'</li><li>'12100121.csv'</li><li>'12100121_MetaData.csv'</li><li>'13100766.csv'</li><li>'13100766_MetaData.csv'</li><li>'14100287.csv'</li><li>'14100287_MetaData.csv'</li><li>'14100289.csv'</li><li>'14100289_MetaData.csv'</li><li>'16100047.csv'</li><li>'16100047_MetaData.csv'</li><li>'18100004.csv'</li><li>'18100004_MetaData.csv'</li><li>'20100008.csv'</li><li>'20100008_MetaData.csv'</li><li>'23100008.csv'</li><li>'23100008_MetaData.csv'</li><li>'24100005.csv'</li><li>'24100005_MetaData.csv'</li><li>'36100434.csv'</li><li>'36100434_MetaData.csv'</li><li>'test12'</li></ol>\n"
      ],
      "text/latex": [
       "\\begin{enumerate*}\n",
       "\\item 'CATALOGS'\n",
       "\\item 'COLUMNS'\n",
       "\\item 'SCHEMATA'\n",
       "\\item 'TABLES'\n",
       "\\item 'VIEWS'\n",
       "\\item 'boot'\n",
       "\\item 'dependencies'\n",
       "\\item 'fragments'\n",
       "\\item 'materializations'\n",
       "\\item 'memory'\n",
       "\\item 'nodes'\n",
       "\\item 'options'\n",
       "\\item 'reflections'\n",
       "\\item 'refreshes'\n",
       "\\item 'services'\n",
       "\\item 'slicing\\_threads'\n",
       "\\item 'threads'\n",
       "\\item 'version'\n",
       "\\item 'datasets'\n",
       "\\item 'mount\\_points'\n",
       "\\item 'objects'\n",
       "\\item 'storage\\_plugins'\n",
       "\\item 'bank'\n",
       "\\item 'melb\\_data'\n",
       "\\item 'Dremio University'\n",
       "\\item '12100121.csv'\n",
       "\\item '12100121\\_MetaData.csv'\n",
       "\\item '13100766.csv'\n",
       "\\item '13100766\\_MetaData.csv'\n",
       "\\item '14100287.csv'\n",
       "\\item '14100287\\_MetaData.csv'\n",
       "\\item '14100289.csv'\n",
       "\\item '14100289\\_MetaData.csv'\n",
       "\\item '16100047.csv'\n",
       "\\item '16100047\\_MetaData.csv'\n",
       "\\item '18100004.csv'\n",
       "\\item '18100004\\_MetaData.csv'\n",
       "\\item '20100008.csv'\n",
       "\\item '20100008\\_MetaData.csv'\n",
       "\\item '23100008.csv'\n",
       "\\item '23100008\\_MetaData.csv'\n",
       "\\item '24100005.csv'\n",
       "\\item '24100005\\_MetaData.csv'\n",
       "\\item '36100434.csv'\n",
       "\\item '36100434\\_MetaData.csv'\n",
       "\\item 'test12'\n",
       "\\end{enumerate*}\n"
      ],
      "text/markdown": [
       "1. 'CATALOGS'\n",
       "2. 'COLUMNS'\n",
       "3. 'SCHEMATA'\n",
       "4. 'TABLES'\n",
       "5. 'VIEWS'\n",
       "6. 'boot'\n",
       "7. 'dependencies'\n",
       "8. 'fragments'\n",
       "9. 'materializations'\n",
       "10. 'memory'\n",
       "11. 'nodes'\n",
       "12. 'options'\n",
       "13. 'reflections'\n",
       "14. 'refreshes'\n",
       "15. 'services'\n",
       "16. 'slicing_threads'\n",
       "17. 'threads'\n",
       "18. 'version'\n",
       "19. 'datasets'\n",
       "20. 'mount_points'\n",
       "21. 'objects'\n",
       "22. 'storage_plugins'\n",
       "23. 'bank'\n",
       "24. 'melb_data'\n",
       "25. 'Dremio University'\n",
       "26. '12100121.csv'\n",
       "27. '12100121_MetaData.csv'\n",
       "28. '13100766.csv'\n",
       "29. '13100766_MetaData.csv'\n",
       "30. '14100287.csv'\n",
       "31. '14100287_MetaData.csv'\n",
       "32. '14100289.csv'\n",
       "33. '14100289_MetaData.csv'\n",
       "34. '16100047.csv'\n",
       "35. '16100047_MetaData.csv'\n",
       "36. '18100004.csv'\n",
       "37. '18100004_MetaData.csv'\n",
       "38. '20100008.csv'\n",
       "39. '20100008_MetaData.csv'\n",
       "40. '23100008.csv'\n",
       "41. '23100008_MetaData.csv'\n",
       "42. '24100005.csv'\n",
       "43. '24100005_MetaData.csv'\n",
       "44. '36100434.csv'\n",
       "45. '36100434_MetaData.csv'\n",
       "46. 'test12'\n",
       "\n",
       "\n"
      ],
      "text/plain": [
       " [1] \"CATALOGS\"              \"COLUMNS\"               \"SCHEMATA\"             \n",
       " [4] \"TABLES\"                \"VIEWS\"                 \"boot\"                 \n",
       " [7] \"dependencies\"          \"fragments\"             \"materializations\"     \n",
       "[10] \"memory\"                \"nodes\"                 \"options\"              \n",
       "[13] \"reflections\"           \"refreshes\"             \"services\"             \n",
       "[16] \"slicing_threads\"       \"threads\"               \"version\"              \n",
       "[19] \"datasets\"              \"mount_points\"          \"objects\"              \n",
       "[22] \"storage_plugins\"       \"bank\"                  \"melb_data\"            \n",
       "[25] \"Dremio University\"     \"12100121.csv\"          \"12100121_MetaData.csv\"\n",
       "[28] \"13100766.csv\"          \"13100766_MetaData.csv\" \"14100287.csv\"         \n",
       "[31] \"14100287_MetaData.csv\" \"14100289.csv\"          \"14100289_MetaData.csv\"\n",
       "[34] \"16100047.csv\"          \"16100047_MetaData.csv\" \"18100004.csv\"         \n",
       "[37] \"18100004_MetaData.csv\" \"20100008.csv\"          \"20100008_MetaData.csv\"\n",
       "[40] \"23100008.csv\"          \"23100008_MetaData.csv\" \"24100005.csv\"         \n",
       "[43] \"24100005_MetaData.csv\" \"36100434.csv\"          \"36100434_MetaData.csv\"\n",
       "[46] \"test12\"               "
      ]
     },
     "metadata": {},
     "output_type": "display_data"
    }
   ],
   "source": [
    "print(\"Tables\")\n",
    "dbListTables(con)"
   ]
  },
  {
   "cell_type": "code",
   "execution_count": 30,
   "metadata": {},
   "outputs": [
    {
     "name": "stdout",
     "output_type": "stream",
     "text": [
      "[1] \"Columns:\"\n"
     ]
    },
    {
     "name": "stderr",
     "output_type": "stream",
     "text": [
      "Warning message in new_result(connection@ptr, statement, immediate):\n",
      "“Cancelling previous query”\n"
     ]
    },
    {
     "data": {
      "text/html": [
       "<table>\n",
       "<caption>A data.frame: 5 × 17</caption>\n",
       "<thead>\n",
       "\t<tr><th scope=col>TABLE_CATALOG</th><th scope=col>TABLE_SCHEMA</th><th scope=col>TABLE_NAME</th><th scope=col>COLUMN_NAME</th><th scope=col>ORDINAL_POSITION</th><th scope=col>COLUMN_DEFAULT</th><th scope=col>IS_NULLABLE</th><th scope=col>DATA_TYPE</th><th scope=col>COLUMN_SIZE</th><th scope=col>CHARACTER_MAXIMUM_LENGTH</th><th scope=col>CHARACTER_OCTET_LENGTH</th><th scope=col>NUMERIC_PRECISION</th><th scope=col>NUMERIC_PRECISION_RADIX</th><th scope=col>NUMERIC_SCALE</th><th scope=col>DATETIME_PRECISION</th><th scope=col>INTERVAL_TYPE</th><th scope=col>INTERVAL_PRECISION</th></tr>\n",
       "\t<tr><th scope=col>&lt;chr&gt;</th><th scope=col>&lt;chr&gt;</th><th scope=col>&lt;chr&gt;</th><th scope=col>&lt;chr&gt;</th><th scope=col>&lt;int&gt;</th><th scope=col>&lt;chr&gt;</th><th scope=col>&lt;chr&gt;</th><th scope=col>&lt;chr&gt;</th><th scope=col>&lt;int&gt;</th><th scope=col>&lt;int&gt;</th><th scope=col>&lt;int&gt;</th><th scope=col>&lt;int&gt;</th><th scope=col>&lt;int&gt;</th><th scope=col>&lt;int&gt;</th><th scope=col>&lt;int&gt;</th><th scope=col>&lt;chr&gt;</th><th scope=col>&lt;int&gt;</th></tr>\n",
       "</thead>\n",
       "<tbody>\n",
       "\t<tr><td>DREMIO</td><td>@christian.ritter</td><td>bank</td><td>A</td><td>1</td><td>NA</td><td>YES</td><td>CHARACTER VARYING</td><td>65536</td><td>65536</td><td>262144</td><td>NA</td><td>NA</td><td>NA</td><td>NA</td><td>NA</td><td>NA</td></tr>\n",
       "\t<tr><td>DREMIO</td><td>@christian.ritter</td><td>bank</td><td>B</td><td>2</td><td>NA</td><td>YES</td><td>CHARACTER VARYING</td><td>65536</td><td>65536</td><td>262144</td><td>NA</td><td>NA</td><td>NA</td><td>NA</td><td>NA</td><td>NA</td></tr>\n",
       "\t<tr><td>DREMIO</td><td>@christian.ritter</td><td>bank</td><td>C</td><td>3</td><td>NA</td><td>YES</td><td>CHARACTER VARYING</td><td>65536</td><td>65536</td><td>262144</td><td>NA</td><td>NA</td><td>NA</td><td>NA</td><td>NA</td><td>NA</td></tr>\n",
       "\t<tr><td>DREMIO</td><td>@christian.ritter</td><td>bank</td><td>D</td><td>4</td><td>NA</td><td>YES</td><td>CHARACTER VARYING</td><td>65536</td><td>65536</td><td>262144</td><td>NA</td><td>NA</td><td>NA</td><td>NA</td><td>NA</td><td>NA</td></tr>\n",
       "\t<tr><td>DREMIO</td><td>@christian.ritter</td><td>bank</td><td>E</td><td>5</td><td>NA</td><td>YES</td><td>CHARACTER VARYING</td><td>65536</td><td>65536</td><td>262144</td><td>NA</td><td>NA</td><td>NA</td><td>NA</td><td>NA</td><td>NA</td></tr>\n",
       "</tbody>\n",
       "</table>\n"
      ],
      "text/latex": [
       "A data.frame: 5 × 17\n",
       "\\begin{tabular}{lllllllllllllllll}\n",
       " TABLE\\_CATALOG & TABLE\\_SCHEMA & TABLE\\_NAME & COLUMN\\_NAME & ORDINAL\\_POSITION & COLUMN\\_DEFAULT & IS\\_NULLABLE & DATA\\_TYPE & COLUMN\\_SIZE & CHARACTER\\_MAXIMUM\\_LENGTH & CHARACTER\\_OCTET\\_LENGTH & NUMERIC\\_PRECISION & NUMERIC\\_PRECISION\\_RADIX & NUMERIC\\_SCALE & DATETIME\\_PRECISION & INTERVAL\\_TYPE & INTERVAL\\_PRECISION\\\\\n",
       " <chr> & <chr> & <chr> & <chr> & <int> & <chr> & <chr> & <chr> & <int> & <int> & <int> & <int> & <int> & <int> & <int> & <chr> & <int>\\\\\n",
       "\\hline\n",
       "\t DREMIO & @christian.ritter & bank & A & 1 & NA & YES & CHARACTER VARYING & 65536 & 65536 & 262144 & NA & NA & NA & NA & NA & NA\\\\\n",
       "\t DREMIO & @christian.ritter & bank & B & 2 & NA & YES & CHARACTER VARYING & 65536 & 65536 & 262144 & NA & NA & NA & NA & NA & NA\\\\\n",
       "\t DREMIO & @christian.ritter & bank & C & 3 & NA & YES & CHARACTER VARYING & 65536 & 65536 & 262144 & NA & NA & NA & NA & NA & NA\\\\\n",
       "\t DREMIO & @christian.ritter & bank & D & 4 & NA & YES & CHARACTER VARYING & 65536 & 65536 & 262144 & NA & NA & NA & NA & NA & NA\\\\\n",
       "\t DREMIO & @christian.ritter & bank & E & 5 & NA & YES & CHARACTER VARYING & 65536 & 65536 & 262144 & NA & NA & NA & NA & NA & NA\\\\\n",
       "\\end{tabular}\n"
      ],
      "text/markdown": [
       "\n",
       "A data.frame: 5 × 17\n",
       "\n",
       "| TABLE_CATALOG &lt;chr&gt; | TABLE_SCHEMA &lt;chr&gt; | TABLE_NAME &lt;chr&gt; | COLUMN_NAME &lt;chr&gt; | ORDINAL_POSITION &lt;int&gt; | COLUMN_DEFAULT &lt;chr&gt; | IS_NULLABLE &lt;chr&gt; | DATA_TYPE &lt;chr&gt; | COLUMN_SIZE &lt;int&gt; | CHARACTER_MAXIMUM_LENGTH &lt;int&gt; | CHARACTER_OCTET_LENGTH &lt;int&gt; | NUMERIC_PRECISION &lt;int&gt; | NUMERIC_PRECISION_RADIX &lt;int&gt; | NUMERIC_SCALE &lt;int&gt; | DATETIME_PRECISION &lt;int&gt; | INTERVAL_TYPE &lt;chr&gt; | INTERVAL_PRECISION &lt;int&gt; |\n",
       "|---|---|---|---|---|---|---|---|---|---|---|---|---|---|---|---|---|\n",
       "| DREMIO | @christian.ritter | bank | A | 1 | NA | YES | CHARACTER VARYING | 65536 | 65536 | 262144 | NA | NA | NA | NA | NA | NA |\n",
       "| DREMIO | @christian.ritter | bank | B | 2 | NA | YES | CHARACTER VARYING | 65536 | 65536 | 262144 | NA | NA | NA | NA | NA | NA |\n",
       "| DREMIO | @christian.ritter | bank | C | 3 | NA | YES | CHARACTER VARYING | 65536 | 65536 | 262144 | NA | NA | NA | NA | NA | NA |\n",
       "| DREMIO | @christian.ritter | bank | D | 4 | NA | YES | CHARACTER VARYING | 65536 | 65536 | 262144 | NA | NA | NA | NA | NA | NA |\n",
       "| DREMIO | @christian.ritter | bank | E | 5 | NA | YES | CHARACTER VARYING | 65536 | 65536 | 262144 | NA | NA | NA | NA | NA | NA |\n",
       "\n"
      ],
      "text/plain": [
       "  TABLE_CATALOG TABLE_SCHEMA      TABLE_NAME COLUMN_NAME ORDINAL_POSITION\n",
       "1 DREMIO        @christian.ritter bank       A           1               \n",
       "2 DREMIO        @christian.ritter bank       B           2               \n",
       "3 DREMIO        @christian.ritter bank       C           3               \n",
       "4 DREMIO        @christian.ritter bank       D           4               \n",
       "5 DREMIO        @christian.ritter bank       E           5               \n",
       "  COLUMN_DEFAULT IS_NULLABLE DATA_TYPE         COLUMN_SIZE\n",
       "1 NA             YES         CHARACTER VARYING 65536      \n",
       "2 NA             YES         CHARACTER VARYING 65536      \n",
       "3 NA             YES         CHARACTER VARYING 65536      \n",
       "4 NA             YES         CHARACTER VARYING 65536      \n",
       "5 NA             YES         CHARACTER VARYING 65536      \n",
       "  CHARACTER_MAXIMUM_LENGTH CHARACTER_OCTET_LENGTH NUMERIC_PRECISION\n",
       "1 65536                    262144                 NA               \n",
       "2 65536                    262144                 NA               \n",
       "3 65536                    262144                 NA               \n",
       "4 65536                    262144                 NA               \n",
       "5 65536                    262144                 NA               \n",
       "  NUMERIC_PRECISION_RADIX NUMERIC_SCALE DATETIME_PRECISION INTERVAL_TYPE\n",
       "1 NA                      NA            NA                 NA           \n",
       "2 NA                      NA            NA                 NA           \n",
       "3 NA                      NA            NA                 NA           \n",
       "4 NA                      NA            NA                 NA           \n",
       "5 NA                      NA            NA                 NA           \n",
       "  INTERVAL_PRECISION\n",
       "1 NA                \n",
       "2 NA                \n",
       "3 NA                \n",
       "4 NA                \n",
       "5 NA                "
      ]
     },
     "metadata": {},
     "output_type": "display_data"
    }
   ],
   "source": [
    "print(\"Columns:\")\n",
    "sql = \"SELECT * FROM INFORMATION_SCHEMA.COLUMNS LIMIT 5\"\n",
    "request <- dbSendQuery(cnxn, sql)\n",
    "df <- dbFetch(request, n = 100)\n",
    "df"
   ]
  },
  {
   "cell_type": "code",
   "execution_count": 31,
   "metadata": {},
   "outputs": [
    {
     "data": {
      "text/html": [],
      "text/latex": [],
      "text/markdown": [],
      "text/plain": [
       "character(0)"
      ]
     },
     "metadata": {},
     "output_type": "display_data"
    }
   ],
   "source": [
    "dbListFields(cnxn, \"dremiosharedstorage.shared.\\\"12100121.csv\\\"\")"
   ]
  },
  {
   "cell_type": "code",
   "execution_count": null,
   "metadata": {},
   "outputs": [],
   "source": [
    "# If you want to close the connection\n",
    "# close(channel)"
   ]
  },
  {
   "cell_type": "code",
   "execution_count": null,
   "metadata": {},
   "outputs": [],
   "source": [
    "# For more commands, see the SQL Reference\n",
    "# https://docs.dremio.com/sql-reference/\n",
    "\n",
    "################################################\n",
    "#           End of Connect to Dremio           #\n",
    "################################################"
   ]
  },
  {
   "cell_type": "markdown",
   "metadata": {},
   "source": [
    "# Get started with your analysis!"
   ]
  },
  {
   "cell_type": "code",
   "execution_count": null,
   "metadata": {},
   "outputs": [],
   "source": [
    "sql = \"SELECT * FROM dremiosharedstorage.shared.\\\"12100121.csv\\\"\"\n",
    "request <- dbSendQuery(cnxn, sql)\n",
    "df <- dbFetch(request)\n",
    "df"
   ]
  },
  {
   "cell_type": "code",
   "execution_count": 34,
   "metadata": {},
   "outputs": [],
   "source": [
    "# The upstream data that I'm using didn't label the columns, so I have to.\n",
    "colnames(df) <- df[1,]\n",
    "df <- df[-1, ] "
   ]
  },
  {
   "cell_type": "code",
   "execution_count": 42,
   "metadata": {},
   "outputs": [
    {
     "data": {
      "text/html": [
       "<style>\n",
       ".list-inline {list-style: none; margin:0; padding: 0}\n",
       ".list-inline>li {display: inline-block}\n",
       ".list-inline>li:not(:last-child)::after {content: \"\\00b7\"; padding: 0 .5ex}\n",
       "</style>\n",
       "<ol class=list-inline><li>'REF_DATE'</li><li>'GEO'</li><li>'DGUID'</li><li>'Trade'</li><li>'Basis'</li><li>'Seasonal adjustment'</li><li>'North American Product Classification System (NAPCS)'</li><li>'UOM'</li><li>'UOM_ID'</li><li>'SCALAR_FACTOR'</li><li>'SCALAR_ID'</li><li>'VECTOR'</li><li>'COORDINATE'</li><li>'VALUE'</li><li>'STATUS'</li><li>'SYMBOL'</li><li>'TERMINATED'</li><li>'DECIMALS'</li></ol>\n"
      ],
      "text/latex": [
       "\\begin{enumerate*}\n",
       "\\item 'REF\\_DATE'\n",
       "\\item 'GEO'\n",
       "\\item 'DGUID'\n",
       "\\item 'Trade'\n",
       "\\item 'Basis'\n",
       "\\item 'Seasonal adjustment'\n",
       "\\item 'North American Product Classification System (NAPCS)'\n",
       "\\item 'UOM'\n",
       "\\item 'UOM\\_ID'\n",
       "\\item 'SCALAR\\_FACTOR'\n",
       "\\item 'SCALAR\\_ID'\n",
       "\\item 'VECTOR'\n",
       "\\item 'COORDINATE'\n",
       "\\item 'VALUE'\n",
       "\\item 'STATUS'\n",
       "\\item 'SYMBOL'\n",
       "\\item 'TERMINATED'\n",
       "\\item 'DECIMALS'\n",
       "\\end{enumerate*}\n"
      ],
      "text/markdown": [
       "1. 'REF_DATE'\n",
       "2. 'GEO'\n",
       "3. 'DGUID'\n",
       "4. 'Trade'\n",
       "5. 'Basis'\n",
       "6. 'Seasonal adjustment'\n",
       "7. 'North American Product Classification System (NAPCS)'\n",
       "8. 'UOM'\n",
       "9. 'UOM_ID'\n",
       "10. 'SCALAR_FACTOR'\n",
       "11. 'SCALAR_ID'\n",
       "12. 'VECTOR'\n",
       "13. 'COORDINATE'\n",
       "14. 'VALUE'\n",
       "15. 'STATUS'\n",
       "16. 'SYMBOL'\n",
       "17. 'TERMINATED'\n",
       "18. 'DECIMALS'\n",
       "\n",
       "\n"
      ],
      "text/plain": [
       " [1] \"REF_DATE\"                                            \n",
       " [2] \"GEO\"                                                 \n",
       " [3] \"DGUID\"                                               \n",
       " [4] \"Trade\"                                               \n",
       " [5] \"Basis\"                                               \n",
       " [6] \"Seasonal adjustment\"                                 \n",
       " [7] \"North American Product Classification System (NAPCS)\"\n",
       " [8] \"UOM\"                                                 \n",
       " [9] \"UOM_ID\"                                              \n",
       "[10] \"SCALAR_FACTOR\"                                       \n",
       "[11] \"SCALAR_ID\"                                           \n",
       "[12] \"VECTOR\"                                              \n",
       "[13] \"COORDINATE\"                                          \n",
       "[14] \"VALUE\"                                               \n",
       "[15] \"STATUS\"                                              \n",
       "[16] \"SYMBOL\"                                              \n",
       "[17] \"TERMINATED\"                                          \n",
       "[18] \"DECIMALS\"                                            "
      ]
     },
     "metadata": {},
     "output_type": "display_data"
    }
   ],
   "source": [
    "names(df)"
   ]
  },
  {
   "cell_type": "code",
   "execution_count": 43,
   "metadata": {},
   "outputs": [],
   "source": [
    "library(dplyr)"
   ]
  },
  {
   "cell_type": "code",
   "execution_count": 47,
   "metadata": {},
   "outputs": [],
   "source": [
    "values = df %>% select(VALUE)\n",
    "# string to number\n",
    "values <- as.data.frame(lapply(values, as.numeric))"
   ]
  },
  {
   "cell_type": "code",
   "execution_count": 49,
   "metadata": {},
   "outputs": [
    {
     "data": {
      "text/html": [
       "806.589728791532"
      ],
      "text/latex": [
       "806.589728791532"
      ],
      "text/markdown": [
       "806.589728791532"
      ],
      "text/plain": [
       "[1] 806.5897"
      ]
     },
     "metadata": {},
     "output_type": "display_data"
    }
   ],
   "source": [
    "mean(values$VALUE)"
   ]
  },
  {
   "cell_type": "code",
   "execution_count": 51,
   "metadata": {},
   "outputs": [
    {
     "data": {
      "text/html": [
       "2823.45820549039"
      ],
      "text/latex": [
       "2823.45820549039"
      ],
      "text/markdown": [
       "2823.45820549039"
      ],
      "text/plain": [
       "[1] 2823.458"
      ]
     },
     "metadata": {},
     "output_type": "display_data"
    }
   ],
   "source": [
    "sd(values$VALUE)"
   ]
  },
  {
   "cell_type": "code",
   "execution_count": 74,
   "metadata": {},
   "outputs": [],
   "source": [
    "v = values$VALUE\n",
    "#hist(c(values$VALUE), \"Values\", breaks = 20)\n",
    "hist(v, main=\"legend\", breaks = 100)"
   ]
  },
  {
   "cell_type": "code",
   "execution_count": 85,
   "metadata": {},
   "outputs": [
    {
     "data": {
      "image/png": "[encoded data removed]",
      "text/plain": [
       "Plot with title “legend”"
      ]
     },
     "metadata": {
      "image/png": {
       "height": 420,
       "width": 420
      },
      "text/plain": {
       "height": 420,
       "width": 420
      }
     },
     "output_type": "display_data"
    }
   ],
   "source": [
    "# Exclude outliers\n",
    "\n",
    "hist(v[v < 4000], main=\"legend\", xlim=c(-50, 4000), breaks = 60)"
   ]
  },
  {
   "cell_type": "code",
   "execution_count": null,
   "metadata": {},
   "outputs": [],
   "source": []
  }
 ],
 "metadata": {
  "kernelspec": {
   "display_name": "R",
   "language": "R",
   "name": "ir"
  },
  "language_info": {
   "codemirror_mode": "r",
   "file_extension": ".r",
   "mimetype": "text/x-r-source",
   "name": "R",
   "pygments_lexer": "r",
   "version": "3.6.2"
  }
 },
 "nbformat": 4,
 "nbformat_minor": 4
}
