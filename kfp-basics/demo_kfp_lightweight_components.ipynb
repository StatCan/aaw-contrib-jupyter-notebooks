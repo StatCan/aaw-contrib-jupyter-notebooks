{
 "cells": [
  {
   "cell_type": "markdown",
   "metadata": {},
   "source": [
    "**Difficulty: Beginner**"
   ]
  },
  {
   "cell_type": "markdown",
   "metadata": {},
   "source": [
    "# Summary:"
   ]
  },
  {
   "cell_type": "markdown",
   "metadata": {},
   "source": [
    "## A few do's and don'ts on creating Lightweight (containerless*) Kubeflow Pipeline components using `func_to_container_op`.  \n",
    "\\* The pipeline components still run from containers, but you do not need to explicitly create and push these containers somewhere.  Instead, Kubeflow uses a base container you specify and runs your code from within that container.  See more detail below.\n",
    "\n",
    "**Highlights include:**\n",
    "\n",
    "**General:**\n",
    "* For simple or very iterative tasks, lightweight components may reduce your development burden\n",
    "* Inputs and outputs for Lightweight components are strings by default.  Use the typing package to enable int or float.  More complex data must be serialzed and passed as string (ex: JSON).  Large data should probably be passed as a reference to a file stored elsewhere (eg: MinIO path, common data store link, etc.)\n",
    "\n",
    "**When code needs helper functions:**\n",
    "* If possible, define all helper functions needed in a pipeline component inside the function itself rather than outside.\n",
    "* If sharing helpers between functions, set `use_code_pickling=True` to automatically pass the helpers with the container functions\n",
    "* **Note:** Apply `use_code_pickling=True` with care, especially if you cannot ensure the Python version here in the notebook will be the same as the version in your pipeline container.  If you see odd behaviour, it could be this.\n",
    "\n",
    "**When code needs Python dependencies:**\n",
    "* When you need dependencies that are already installed on the base image you're running off of, simply `import` them from inside the component function rather than above the code.  This will ensure they're imported at runtime in the pipeline\n",
    "* When you need dependencies that are not installed on the base image, you can pip install them (via `func_to_container_op(packages_to_install=[...])` or by making system calls to pip yourself like [here](https://github.com/kubeflow/pipelines/blob/master/samples/core/lightweight_component/lightweight_component.ipynb)).  This can install packages from anywhere pip can (pypi, github, etc).\n",
    "\n",
    "**Note:** If you're developing code that is well encapsulated across multiple files (eg: my main.py imports from ./utilities.py and ./other_code.py) the easiest way to develop is to push the code to GitHub and then pip install from your GitHub repo in the container (see the Github example below)"
   ]
  },
  {
   "cell_type": "markdown",
   "metadata": {},
   "source": [
    "# Examples of Authoring and Iterating Kubeflow Pipelines using Lightweight Components"
   ]
  },
  {
   "cell_type": "markdown",
   "metadata": {},
   "source": [
    "Machine learning applications are often a chain of encapsulated (or encapsulatable) steps.  [Kubeflow Pipelines](https://www.kubeflow.org/docs/pipelines/overview/pipelines-overview/) is a platform for authoring, orchestrating, monitoring, and reusing these pipelines. \n",
    "\n",
    "Pipelines are defined by a directed acyclic graph (DAG) of data/execution flow between components.  At their core, each component is a self-contained set of user code, packaged as a docker container.  They each perform one step in the pipeline, optionally consuming the products of upstream tasks and/or providing results for downstream tasks.  They can be as complex as building a Tensorflow model or as simple as selecting a column from a data file.\n",
    "\n",
    "The typical workflow for building Pipeline Components is:\n",
    "* code up the logic for your component and test it locally.  This could be in Python, R, ..., but in the end it needs to work like an executable you could run from a command line\n",
    "* package the code as a docker image and store that container somewhere Kubeflow can find\n",
    "* define a pipeline step that runs that docker container (probably with some command line arguments passed from the pipeline)\n",
    "\n",
    "In addition to this typical workflow of authoring self-contained docker images, there are also several ways to make pipeline steps without explicitly creating a container.  These **[lightweight components](https://www.kubeflow.org/docs/pipelines/sdk/lightweight-python-components/)** automate some of the setup for you to make things easier.  The typical workflow for building lightweight components is:\n",
    "* code up the logic for your component in Python from within the notebook you're defining your pipeline (examples shown later)\n",
    "* define a pipeline step that runs your **Python function** from within a generic, base docker container you specify (say the generic [tensorflow container](https://hub.docker.com/r/tensorflow/tensorflow/tags))\n",
    "\n",
    "Although this approach has limits, it may enable easier authoring and iterating on pipeline components because you don't need to rebuild your docker image each time.  This demo shows a few examples of these workflows, along with their limitations."
   ]
  },
  {
   "cell_type": "markdown",
   "metadata": {},
   "source": [
    "# User Settings\n",
    "\n",
    "(modify these for your own use)\n"
   ]
  },
  {
   "cell_type": "code",
   "execution_count": 1,
   "metadata": {
    "execution": {
     "iopub.execute_input": "2021-06-16T18:08:55.666869Z",
     "iopub.status.busy": "2021-06-16T18:08:55.666519Z",
     "iopub.status.idle": "2021-06-16T18:08:55.674582Z",
     "shell.execute_reply": "2021-06-16T18:08:55.673638Z",
     "shell.execute_reply.started": "2021-06-16T18:08:55.666799Z"
    },
    "tags": []
   },
   "outputs": [],
   "source": [
    "# Name of the experiment that all pipeline runs will be nested in on\n",
    "# https://kubeflow.covid.cloud.statcan.ca/_/pipeline/#/experiments\n",
    "experiment_name = \"demo-kfp-lightweight-components\""
   ]
  },
  {
   "cell_type": "markdown",
   "metadata": {},
   "source": [
    "# General Settings\n",
    "\n",
    "(likely can leave these alone)\n"
   ]
  },
  {
   "cell_type": "code",
   "execution_count": 30,
   "metadata": {
    "execution": {
     "iopub.execute_input": "2021-06-16T18:08:41.178688Z",
     "iopub.status.busy": "2021-06-16T18:08:41.178445Z",
     "iopub.status.idle": "2021-06-16T18:08:43.914193Z",
     "shell.execute_reply": "2021-06-16T18:08:43.913240Z",
     "shell.execute_reply.started": "2021-06-16T18:08:41.178663Z"
    },
    "tags": []
   },
   "outputs": [
    {
     "name": "stdout",
     "output_type": "stream",
     "text": [
      "Requirement already satisfied: delorean==1.0.0 in /home/jovyan/.local/lib/python3.8/site-packages (1.0.0)\n",
      "Requirement already satisfied: python-dateutil>=2.4.2 in /opt/conda/lib/python3.8/site-packages (from delorean==1.0.0) (2.8.0)\n",
      "Requirement already satisfied: tzlocal>=1.2 in /opt/conda/lib/python3.8/site-packages (from delorean==1.0.0) (2.1)\n",
      "Requirement already satisfied: pytz>=2015.7 in /opt/conda/lib/python3.8/site-packages (from delorean==1.0.0) (2021.1)\n",
      "Requirement already satisfied: babel>=2.1.1 in /opt/conda/lib/python3.8/site-packages (from delorean==1.0.0) (2.9.1)\n",
      "Requirement already satisfied: humanize>=0.5.1 in /home/jovyan/.local/lib/python3.8/site-packages (from delorean==1.0.0) (3.9.0)\n",
      "Requirement already satisfied: setuptools in /opt/conda/lib/python3.8/site-packages (from humanize>=0.5.1->delorean==1.0.0) (49.6.0.post20210108)\n",
      "Requirement already satisfied: six>=1.5 in /opt/conda/lib/python3.8/site-packages (from python-dateutil>=2.4.2->delorean==1.0.0) (1.15.0)\n"
     ]
    }
   ],
   "source": [
    "# Restart kernel after this step\n",
    "!pip install delorean==1.0.0"
   ]
  },
  {
   "cell_type": "markdown",
   "metadata": {},
   "source": [
    "***Note:*** Restart Kernel after above cell"
   ]
  },
  {
   "cell_type": "code",
   "execution_count": 2,
   "metadata": {
    "execution": {
     "iopub.execute_input": "2021-06-16T18:08:57.190906Z",
     "iopub.status.busy": "2021-06-16T18:08:57.190629Z",
     "iopub.status.idle": "2021-06-16T18:08:57.879206Z",
     "shell.execute_reply": "2021-06-16T18:08:57.878262Z",
     "shell.execute_reply.started": "2021-06-16T18:08:57.190881Z"
    },
    "tags": []
   },
   "outputs": [
    {
     "name": "stdout",
     "output_type": "stream",
     "text": [
      "This example notebook was executed using python 3.8.8\n",
      "Using base_image_python: python:3.8.8-buster\n"
     ]
    }
   ],
   "source": [
    "# Define a base image to be used in generating component ops from python functions.\n",
    "# kfp uses this image to run a python session for the component func_to_container_op\n",
    "# This uses a generic python image, but you can use whichever one provides the best \n",
    "# starting point for your code (generally an image that has everything dependency \n",
    "# you need preinstalled, but not much else.  For example, if you're building \n",
    "# tensorflow models, you should probably start with tensorflow preinstalled, such as\n",
    "# a tensorflow base image)\n",
    "import sys\n",
    "\n",
    "python_version_as_string = f\"{sys.version_info.major}.{sys.version_info.minor}.{sys.version_info.micro}\"\n",
    "BASE_IMAGE = f\"python:{python_version_as_string}-buster\"\n",
    "print(f\"This example notebook was executed using python {python_version_as_string}\")\n",
    "print(f\"Using base_image_python: {BASE_IMAGE}\")\n",
    "\n",
    "import kfp\n",
    "from kfp import dsl\n",
    "from kfp.components import func_to_container_op"
   ]
  },
  {
   "cell_type": "markdown",
   "metadata": {},
   "source": [
    "# Lightweight Components from Self-Contained Python Code"
   ]
  },
  {
   "cell_type": "markdown",
   "metadata": {},
   "source": [
    "The Kubeflow Pipeline function `func_to_container_op` lets you turn a generic Python function into a full pipeline component.  To do this, behind the scenes Kubeflow Pipelines effectively rewrites your function as a script to be run from within the base image you provide (the base image is defined as an argument to `func_to_container_op` as seen below).  \n",
    "\n",
    "For simple, self contained Python code, this is an effective way to define Pipeline Components quickly.  For example, we can define a pipeline step that accepts two strings and concatenates."
   ]
  },
  {
   "cell_type": "markdown",
   "metadata": {},
   "source": [
    "First, we define a base Python function that contains all the logic of our single pipeline step"
   ]
  },
  {
   "cell_type": "code",
   "execution_count": 3,
   "metadata": {
    "execution": {
     "iopub.execute_input": "2021-06-16T18:08:58.112363Z",
     "iopub.status.busy": "2021-06-16T18:08:58.112076Z",
     "iopub.status.idle": "2021-06-16T18:08:58.116251Z",
     "shell.execute_reply": "2021-06-16T18:08:58.115434Z",
     "shell.execute_reply.started": "2021-06-16T18:08:58.112338Z"
    },
    "tags": []
   },
   "outputs": [],
   "source": [
    "def concat_string(a, b) -> str:\n",
    "    return f\"({a} | {b})\""
   ]
  },
  {
   "cell_type": "markdown",
   "metadata": {},
   "source": [
    "Testing locally to make sure it works:"
   ]
  },
  {
   "cell_type": "code",
   "execution_count": 4,
   "metadata": {
    "execution": {
     "iopub.execute_input": "2021-06-16T18:08:58.643644Z",
     "iopub.status.busy": "2021-06-16T18:08:58.643227Z",
     "iopub.status.idle": "2021-06-16T18:08:58.648359Z",
     "shell.execute_reply": "2021-06-16T18:08:58.647504Z",
     "shell.execute_reply.started": "2021-06-16T18:08:58.643618Z"
    },
    "tags": []
   },
   "outputs": [
    {
     "name": "stdout",
     "output_type": "stream",
     "text": [
      "(String 1 | String 2)\n"
     ]
    }
   ],
   "source": [
    "# Test locally\n",
    "print(concat_string(\"String 1\", \"String 2\"))"
   ]
  },
  {
   "cell_type": "markdown",
   "metadata": {},
   "source": [
    "And now converting this from a Python function to a kubeflow component factory (a function that can be used to define instances of this particular type of pipeline component)"
   ]
  },
  {
   "cell_type": "code",
   "execution_count": 5,
   "metadata": {
    "execution": {
     "iopub.execute_input": "2021-06-16T18:08:58.717246Z",
     "iopub.status.busy": "2021-06-16T18:08:58.716983Z",
     "iopub.status.idle": "2021-06-16T18:08:58.743584Z",
     "shell.execute_reply": "2021-06-16T18:08:58.742495Z",
     "shell.execute_reply.started": "2021-06-16T18:08:58.717223Z"
    },
    "tags": []
   },
   "outputs": [],
   "source": [
    "concat_string_component = func_to_container_op(concat_string,\n",
    "                                               base_image=BASE_IMAGE\n",
    "                                               )"
   ]
  },
  {
   "cell_type": "markdown",
   "metadata": {},
   "source": [
    "And we define our Pipeline as a function that uses our component(s), decorated by the dsl.pipeline decorator.  In this case, we have two concat_string_components, one that concatenates str1+str2, and another that concatenates (str1+str2) with str3"
   ]
  },
  {
   "cell_type": "code",
   "execution_count": 6,
   "metadata": {
    "execution": {
     "iopub.execute_input": "2021-06-16T18:08:58.828861Z",
     "iopub.status.busy": "2021-06-16T18:08:58.828633Z",
     "iopub.status.idle": "2021-06-16T18:08:58.833223Z",
     "shell.execute_reply": "2021-06-16T18:08:58.832472Z",
     "shell.execute_reply.started": "2021-06-16T18:08:58.828838Z"
    },
    "tags": []
   },
   "outputs": [],
   "source": [
    "@dsl.pipeline(\n",
    "    name=\"My demo-kfp-lightweight-components pipeline\",\n",
    "    description=\"This one keeps it nice and simple\",\n",
    ")\n",
    "def pipeline(str1, str2, str3):\n",
    "    # Note that we use the concat_string_component, not the\n",
    "    # original concat_string() function\n",
    "    concat_result_1 = concat_string_component(str1, str2)\n",
    "\n",
    "    # By using cancat_result_1's output, we define the dependency of\n",
    "    # concat_result_2 on concat_result_1\n",
    "    concat_result_2 = concat_string_component(concat_result_1.output, str3)"
   ]
  },
  {
   "cell_type": "markdown",
   "metadata": {},
   "source": [
    "We can submit our pipeline from code with arguments like this:"
   ]
  },
  {
   "cell_type": "code",
   "execution_count": 7,
   "metadata": {
    "execution": {
     "iopub.execute_input": "2021-06-16T18:08:58.879499Z",
     "iopub.status.busy": "2021-06-16T18:08:58.879229Z",
     "iopub.status.idle": "2021-06-16T18:08:59.188886Z",
     "shell.execute_reply": "2021-06-16T18:08:59.187920Z",
     "shell.execute_reply.started": "2021-06-16T18:08:58.879476Z"
    },
    "tags": []
   },
   "outputs": [
    {
     "data": {
      "text/html": [
       "<a href=\"/_/pipeline/#/experiments/details/1154dda4-6fb8-4ead-bb61-24329015060a\" target=\"_blank\" >Experiment details</a>."
      ],
      "text/plain": [
       "<IPython.core.display.HTML object>"
      ]
     },
     "metadata": {},
     "output_type": "display_data"
    },
    {
     "data": {
      "text/html": [
       "<a href=\"/_/pipeline/#/runs/details/f72a522a-cd79-4dd0-b0e6-01bf2d355b8d\" target=\"_blank\" >Run details</a>."
      ],
      "text/plain": [
       "<IPython.core.display.HTML object>"
      ]
     },
     "metadata": {},
     "output_type": "display_data"
    },
    {
     "data": {
      "text/plain": [
       "RunPipelineResult(run_id=f72a522a-cd79-4dd0-b0e6-01bf2d355b8d)"
      ]
     },
     "execution_count": 7,
     "metadata": {},
     "output_type": "execute_result"
    }
   ],
   "source": [
    "kfp.Client().create_run_from_pipeline_func(\n",
    "    pipeline,\n",
    "    arguments={'str1': 'String 1', 'str2': 'String 2', 'str3': 'String 3'},\n",
    "    experiment_name=experiment_name\n",
    ")"
   ]
  },
  {
   "cell_type": "markdown",
   "metadata": {},
   "source": [
    "Which produces the pipeline and output:\n",
    "\n",
    "![Simple pipeline](images/demo_kfp_lightweight_components_pipeline1_complete.png)"
   ]
  },
  {
   "cell_type": "markdown",
   "metadata": {},
   "source": [
    "Note that what happens here is the `kfp.Client().create_run_from_pipeline_func` is taking our `pipeline()` we defined and translating it into a pipeline definition (`pipeline.yaml.zip`) that it then passes to Kubeflow Pipelines to actually run. "
   ]
  },
  {
   "cell_type": "markdown",
   "metadata": {},
   "source": [
    "This workflow is great for very simple actions.  For something less trivial, however, we often have dependencies on helper functions or packages..."
   ]
  },
  {
   "cell_type": "markdown",
   "metadata": {},
   "source": [
    "# Lightweight Components that need Dependencies or Helpers"
   ]
  },
  {
   "cell_type": "markdown",
   "metadata": {},
   "source": [
    "## What not to do with dependencies and helpers"
   ]
  },
  {
   "cell_type": "markdown",
   "metadata": {},
   "source": [
    "Care is required whenever a pipeline component defined using `create_run_from_pipeline_func` requires anything outside the code written directly in the wrapped function.  Common gotchas include:\n",
    "\n",
    "* defining helper functions outside the pipeline component\n",
    "* using packages in the pipeline component without importing them, or importing packages that are not installed in the base image at all"
   ]
  },
  {
   "cell_type": "markdown",
   "metadata": {},
   "source": [
    "For example, while it runs fine locally, this function that depends on a helper will fail in a pipeline:"
   ]
  },
  {
   "cell_type": "code",
   "execution_count": 8,
   "metadata": {
    "execution": {
     "iopub.execute_input": "2021-06-16T18:08:59.795304Z",
     "iopub.status.busy": "2021-06-16T18:08:59.795028Z",
     "iopub.status.idle": "2021-06-16T18:08:59.800364Z",
     "shell.execute_reply": "2021-06-16T18:08:59.799639Z",
     "shell.execute_reply.started": "2021-06-16T18:08:59.795281Z"
    },
    "tags": []
   },
   "outputs": [],
   "source": [
    "def my_sum_helper(*numbers):\n",
    "    total = 0\n",
    "    for x in numbers:\n",
    "        total += x\n",
    "    return total\n",
    "\n",
    "\n",
    "# Note: Arguments for components created with func_to_container_op expect string\n",
    "# To enable float or int types, use type hinting.  For more complex inputs,\n",
    "# serialize with JSON or store data to a location and pass the path\n",
    "def my_sum(a: float, b: float, c: float) -> float:\n",
    "    \"\"\"\n",
    "    A function that sums its numeric arguments\n",
    "    \"\"\"\n",
    "    return my_sum_helper(a, b, c)"
   ]
  },
  {
   "cell_type": "markdown",
   "metadata": {},
   "source": [
    "Looks good here..."
   ]
  },
  {
   "cell_type": "code",
   "execution_count": 9,
   "metadata": {
    "execution": {
     "iopub.execute_input": "2021-06-16T18:08:59.870067Z",
     "iopub.status.busy": "2021-06-16T18:08:59.869817Z",
     "iopub.status.idle": "2021-06-16T18:08:59.874877Z",
     "shell.execute_reply": "2021-06-16T18:08:59.873952Z",
     "shell.execute_reply.started": "2021-06-16T18:08:59.870040Z"
    },
    "tags": []
   },
   "outputs": [
    {
     "name": "stdout",
     "output_type": "stream",
     "text": [
      "6\n"
     ]
    }
   ],
   "source": [
    "print(my_sum(1, 2, 3))"
   ]
  },
  {
   "cell_type": "code",
   "execution_count": 10,
   "metadata": {
    "execution": {
     "iopub.execute_input": "2021-06-16T18:08:59.913645Z",
     "iopub.status.busy": "2021-06-16T18:08:59.913334Z",
     "iopub.status.idle": "2021-06-16T18:08:59.921963Z",
     "shell.execute_reply": "2021-06-16T18:08:59.920888Z",
     "shell.execute_reply.started": "2021-06-16T18:08:59.913623Z"
    },
    "tags": []
   },
   "outputs": [],
   "source": [
    "my_sum_component = func_to_container_op(my_sum,\n",
    "                                        base_image=BASE_IMAGE\n",
    "                                        )"
   ]
  },
  {
   "cell_type": "markdown",
   "metadata": {},
   "source": [
    "But not here..."
   ]
  },
  {
   "cell_type": "code",
   "execution_count": 11,
   "metadata": {
    "execution": {
     "iopub.execute_input": "2021-06-16T18:08:59.961642Z",
     "iopub.status.busy": "2021-06-16T18:08:59.961355Z",
     "iopub.status.idle": "2021-06-16T18:08:59.965598Z",
     "shell.execute_reply": "2021-06-16T18:08:59.964733Z",
     "shell.execute_reply.started": "2021-06-16T18:08:59.961621Z"
    },
    "tags": []
   },
   "outputs": [],
   "source": [
    "@dsl.pipeline(\n",
    "    name=\"My demo-kfp-lightweight-components pipeline\",\n",
    "    description=\"This one is a bit more complicated and fails\",\n",
    ")\n",
    "def pipeline(a, b, c):\n",
    "    sum_result = my_sum_component(a, b, c)"
   ]
  },
  {
   "cell_type": "code",
   "execution_count": 12,
   "metadata": {
    "execution": {
     "iopub.execute_input": "2021-06-16T18:09:00.008424Z",
     "iopub.status.busy": "2021-06-16T18:09:00.008124Z",
     "iopub.status.idle": "2021-06-16T18:09:00.300305Z",
     "shell.execute_reply": "2021-06-16T18:09:00.299620Z",
     "shell.execute_reply.started": "2021-06-16T18:09:00.008392Z"
    },
    "tags": []
   },
   "outputs": [
    {
     "data": {
      "text/html": [
       "<a href=\"/_/pipeline/#/experiments/details/1154dda4-6fb8-4ead-bb61-24329015060a\" target=\"_blank\" >Experiment details</a>."
      ],
      "text/plain": [
       "<IPython.core.display.HTML object>"
      ]
     },
     "metadata": {},
     "output_type": "display_data"
    },
    {
     "data": {
      "text/html": [
       "<a href=\"/_/pipeline/#/runs/details/a7614e29-7560-40be-8d0b-868736913240\" target=\"_blank\" >Run details</a>."
      ],
      "text/plain": [
       "<IPython.core.display.HTML object>"
      ]
     },
     "metadata": {},
     "output_type": "display_data"
    },
    {
     "data": {
      "text/plain": [
       "RunPipelineResult(run_id=a7614e29-7560-40be-8d0b-868736913240)"
      ]
     },
     "execution_count": 12,
     "metadata": {},
     "output_type": "execute_result"
    }
   ],
   "source": [
    "kfp.Client().create_run_from_pipeline_func(\n",
    "    pipeline,\n",
    "    arguments={'a': 1.0, 'b': 2.0, 'c': 3.0},\n",
    "    experiment_name=experiment_name\n",
    ")"
   ]
  },
  {
   "cell_type": "markdown",
   "metadata": {},
   "source": [
    "Result: \n",
    "\n",
    "![Simple pipeline](images/demo_kfp_lightweight_components_pipeline_with_helper_my_sum_failed.png)"
   ]
  },
  {
   "cell_type": "markdown",
   "metadata": {},
   "source": [
    "Similarly, this function that depends on the json package will also work locally but fail in the pipeline"
   ]
  },
  {
   "cell_type": "code",
   "execution_count": 13,
   "metadata": {
    "execution": {
     "iopub.execute_input": "2021-06-16T18:09:00.301881Z",
     "iopub.status.busy": "2021-06-16T18:09:00.301694Z",
     "iopub.status.idle": "2021-06-16T18:09:00.306340Z",
     "shell.execute_reply": "2021-06-16T18:09:00.305553Z",
     "shell.execute_reply.started": "2021-06-16T18:09:00.301859Z"
    },
    "tags": []
   },
   "outputs": [],
   "source": [
    "import json\n",
    "\n",
    "\n",
    "def sum_via_json(numbers_as_json):\n",
    "    \"\"\"\n",
    "    A summation function that sums a list of numbers defined as a JSON string\n",
    "\n",
    "    Output is returned as a JSON formatted string (which is really just \n",
    "    str(number), but still...)\n",
    "    \"\"\"\n",
    "    numbers = json.loads(numbers_as_json)\n",
    "    summed = sum(numbers)\n",
    "    return json.dumps(summed)"
   ]
  },
  {
   "cell_type": "markdown",
   "metadata": {},
   "source": [
    "Testing locally works great:"
   ]
  },
  {
   "cell_type": "code",
   "execution_count": 14,
   "metadata": {
    "execution": {
     "iopub.execute_input": "2021-06-16T18:09:00.308050Z",
     "iopub.status.busy": "2021-06-16T18:09:00.307849Z",
     "iopub.status.idle": "2021-06-16T18:09:00.328541Z",
     "shell.execute_reply": "2021-06-16T18:09:00.327886Z",
     "shell.execute_reply.started": "2021-06-16T18:09:00.308029Z"
    },
    "tags": []
   },
   "outputs": [
    {
     "name": "stdout",
     "output_type": "stream",
     "text": [
      "result = 6\n"
     ]
    }
   ],
   "source": [
    "numbers_as_json = json.dumps([1, 2, 3])\n",
    "result_as_json = sum_via_json(numbers_as_json)\n",
    "result = json.loads(result_as_json)\n",
    "print(f\"result = {result}\")"
   ]
  },
  {
   "cell_type": "markdown",
   "metadata": {},
   "source": [
    "But running through a pipeline does not..."
   ]
  },
  {
   "cell_type": "code",
   "execution_count": 15,
   "metadata": {
    "execution": {
     "iopub.execute_input": "2021-06-16T18:09:00.329760Z",
     "iopub.status.busy": "2021-06-16T18:09:00.329581Z",
     "iopub.status.idle": "2021-06-16T18:09:00.355686Z",
     "shell.execute_reply": "2021-06-16T18:09:00.354245Z",
     "shell.execute_reply.started": "2021-06-16T18:09:00.329739Z"
    },
    "tags": []
   },
   "outputs": [],
   "source": [
    "sum_via_json_component = func_to_container_op(sum_via_json,\n",
    "                                              base_image=BASE_IMAGE\n",
    "                                              )"
   ]
  },
  {
   "cell_type": "code",
   "execution_count": 16,
   "metadata": {
    "execution": {
     "iopub.execute_input": "2021-06-16T18:09:00.357410Z",
     "iopub.status.busy": "2021-06-16T18:09:00.357111Z",
     "iopub.status.idle": "2021-06-16T18:09:00.374060Z",
     "shell.execute_reply": "2021-06-16T18:09:00.373376Z",
     "shell.execute_reply.started": "2021-06-16T18:09:00.357373Z"
    },
    "tags": []
   },
   "outputs": [],
   "source": [
    "@dsl.pipeline(\n",
    "    name=\"My demo-kfp-lightweight-components pipeline\",\n",
    "    description=\"This one is a bit more complicated and fails\",\n",
    ")\n",
    "def pipeline(numbers_as_json):\n",
    "    sum_result = sum_via_json_component(numbers_as_json)"
   ]
  },
  {
   "cell_type": "code",
   "execution_count": 17,
   "metadata": {
    "execution": {
     "iopub.execute_input": "2021-06-16T18:09:00.375257Z",
     "iopub.status.busy": "2021-06-16T18:09:00.375015Z",
     "iopub.status.idle": "2021-06-16T18:09:00.663478Z",
     "shell.execute_reply": "2021-06-16T18:09:00.662434Z",
     "shell.execute_reply.started": "2021-06-16T18:09:00.375235Z"
    },
    "tags": []
   },
   "outputs": [
    {
     "data": {
      "text/html": [
       "<a href=\"/_/pipeline/#/experiments/details/1154dda4-6fb8-4ead-bb61-24329015060a\" target=\"_blank\" >Experiment details</a>."
      ],
      "text/plain": [
       "<IPython.core.display.HTML object>"
      ]
     },
     "metadata": {},
     "output_type": "display_data"
    },
    {
     "data": {
      "text/html": [
       "<a href=\"/_/pipeline/#/runs/details/89a47261-c161-4aec-8f67-a6f1a5bdfdd1\" target=\"_blank\" >Run details</a>."
      ],
      "text/plain": [
       "<IPython.core.display.HTML object>"
      ]
     },
     "metadata": {},
     "output_type": "display_data"
    },
    {
     "data": {
      "text/plain": [
       "RunPipelineResult(run_id=89a47261-c161-4aec-8f67-a6f1a5bdfdd1)"
      ]
     },
     "execution_count": 17,
     "metadata": {},
     "output_type": "execute_result"
    }
   ],
   "source": [
    "kfp.Client().create_run_from_pipeline_func(\n",
    "    pipeline,\n",
    "    arguments={'numbers_as_json': [1, 2, 3]},\n",
    "    experiment_name=experiment_name\n",
    ")"
   ]
  },
  {
   "cell_type": "markdown",
   "metadata": {},
   "source": [
    "Result: \n",
    "\n",
    "![Simple pipeline](images/demo_kfp_lightweight_components_pipeline_with_dependency_failed.png)"
   ]
  },
  {
   "cell_type": "markdown",
   "metadata": {},
   "source": [
    "## How to handle dependencies and helpers"
   ]
  },
  {
   "cell_type": "markdown",
   "metadata": {},
   "source": [
    "For helpers, they can be defined within the pipeline:"
   ]
  },
  {
   "cell_type": "code",
   "execution_count": 18,
   "metadata": {
    "execution": {
     "iopub.execute_input": "2021-06-16T18:09:00.665095Z",
     "iopub.status.busy": "2021-06-16T18:09:00.664803Z",
     "iopub.status.idle": "2021-06-16T18:09:00.675998Z",
     "shell.execute_reply": "2021-06-16T18:09:00.675109Z",
     "shell.execute_reply.started": "2021-06-16T18:09:00.665070Z"
    },
    "tags": []
   },
   "outputs": [],
   "source": [
    "# Note: Arguments for components created with func_to_container_op expect string\n",
    "# To enable float or int types, use type hinting.  For more complex inputs,\n",
    "# serialize with JSON or store data to a location and pass the path\n",
    "def my_sum_internal_helper(a: float, b: float, c: float) -> float:\n",
    "    \"\"\"\n",
    "    A function that sums its numeric arguments\n",
    "    \"\"\"\n",
    "    def my_sum_helper(*numbers):\n",
    "        total = 0\n",
    "        for x in numbers:\n",
    "            total += x\n",
    "        return total\n",
    "\n",
    "    return my_sum_helper(a, b, c)\n",
    "\n",
    "\n",
    "my_sum_internal_helper_component = func_to_container_op(my_sum_internal_helper,\n",
    "                                                        base_image=BASE_IMAGE\n",
    "                                                        )"
   ]
  },
  {
   "cell_type": "markdown",
   "metadata": {},
   "source": [
    "Or, they can be defined outside the helper and pickled with the code"
   ]
  },
  {
   "cell_type": "code",
   "execution_count": 19,
   "metadata": {
    "execution": {
     "iopub.execute_input": "2021-06-16T18:09:00.677256Z",
     "iopub.status.busy": "2021-06-16T18:09:00.677007Z",
     "iopub.status.idle": "2021-06-16T18:09:00.701829Z",
     "shell.execute_reply": "2021-06-16T18:09:00.701147Z",
     "shell.execute_reply.started": "2021-06-16T18:09:00.677234Z"
    },
    "tags": []
   },
   "outputs": [],
   "source": [
    "def my_sum_helper(*numbers):\n",
    "    total = 0\n",
    "    for x in numbers:\n",
    "        total += x\n",
    "    return total\n",
    "\n",
    "\n",
    "def my_sum_external_helper(a: float, b: float, c: float) -> float:\n",
    "    \"\"\"\n",
    "    A function that sums its numeric arguments\n",
    "    \"\"\"\n",
    "    return my_sum_helper(a, b, c)\n",
    "\n",
    "\n",
    "# NOTE the extra argument here\n",
    "my_sum_external_helper_component = func_to_container_op(my_sum_external_helper,\n",
    "                                                        base_image=BASE_IMAGE,\n",
    "                                                        packages_to_install = ['cloudpickle'],\n",
    "                                                        use_code_pickling=True,  # <----\n",
    "                                                        )"
   ]
  },
  {
   "cell_type": "markdown",
   "metadata": {},
   "source": [
    "Code pickling will wrap up simple helper functions with the code.  Docs suggest it can do more, but initial testing couldn't get that to work (anyone who gets packages or complex imports working through use_code_pickling should let us know!)\n",
    "\n",
    "Code pickling can have some downsides (mainly related to Python version differences between where it is picked and where it is executed).  If you don't need it, you should probably leave it off."
   ]
  },
  {
   "cell_type": "code",
   "execution_count": 20,
   "metadata": {
    "execution": {
     "iopub.execute_input": "2021-06-16T18:09:01.324576Z",
     "iopub.status.busy": "2021-06-16T18:09:01.324242Z",
     "iopub.status.idle": "2021-06-16T18:09:01.330721Z",
     "shell.execute_reply": "2021-06-16T18:09:01.329771Z",
     "shell.execute_reply.started": "2021-06-16T18:09:01.324549Z"
    },
    "tags": []
   },
   "outputs": [],
   "source": [
    "@dsl.pipeline(\n",
    "    name=\"My demo-kfp-lightweight-components pipeline\",\n",
    "    description=\"This one is a bit more complicated, but works!\",\n",
    ")\n",
    "def pipeline(a, b, c):\n",
    "    sum_result_internal = my_sum_internal_helper_component(a, b, c)\n",
    "    sum_result_external = my_sum_external_helper_component(a, b, c)\n",
    "    final_sum = my_sum_internal_helper_component(sum_result_internal.output,\n",
    "                                                 sum_result_external.output,\n",
    "                                                 0)"
   ]
  },
  {
   "cell_type": "code",
   "execution_count": 21,
   "metadata": {
    "execution": {
     "iopub.execute_input": "2021-06-16T18:09:01.370502Z",
     "iopub.status.busy": "2021-06-16T18:09:01.370200Z",
     "iopub.status.idle": "2021-06-16T18:09:01.727019Z",
     "shell.execute_reply": "2021-06-16T18:09:01.726225Z",
     "shell.execute_reply.started": "2021-06-16T18:09:01.370475Z"
    },
    "tags": []
   },
   "outputs": [
    {
     "data": {
      "text/html": [
       "<a href=\"/_/pipeline/#/experiments/details/1154dda4-6fb8-4ead-bb61-24329015060a\" target=\"_blank\" >Experiment details</a>."
      ],
      "text/plain": [
       "<IPython.core.display.HTML object>"
      ]
     },
     "metadata": {},
     "output_type": "display_data"
    },
    {
     "data": {
      "text/html": [
       "<a href=\"/_/pipeline/#/runs/details/6bb87e50-bb5a-47f4-9b5b-d651cd72b233\" target=\"_blank\" >Run details</a>."
      ],
      "text/plain": [
       "<IPython.core.display.HTML object>"
      ]
     },
     "metadata": {},
     "output_type": "display_data"
    },
    {
     "data": {
      "text/plain": [
       "RunPipelineResult(run_id=6bb87e50-bb5a-47f4-9b5b-d651cd72b233)"
      ]
     },
     "execution_count": 21,
     "metadata": {},
     "output_type": "execute_result"
    }
   ],
   "source": [
    "kfp.Client().create_run_from_pipeline_func(\n",
    "    pipeline,\n",
    "    arguments={'a': 1.0, 'b': 2.0, 'c': 3.0},\n",
    "    experiment_name=experiment_name\n",
    ")"
   ]
  },
  {
   "cell_type": "markdown",
   "metadata": {},
   "source": [
    "Working pipeline! \n",
    "\n",
    "![Working pipeline](images/demo_kfp_lightweight_components_pipeline_with_helper_my_sum_successful.png)"
   ]
  },
  {
   "cell_type": "markdown",
   "metadata": {},
   "source": [
    "For dependencies, several options exist depending on whether the package you want is already installed on the base image.\n",
    "\n",
    "If the package you want is installed on the image, you can simply `import` it from within your pipeline component.  Revisiting the JSON example from above, this will work (because JSON is available on BASE_IMAGE):"
   ]
  },
  {
   "cell_type": "code",
   "execution_count": 22,
   "metadata": {
    "execution": {
     "iopub.execute_input": "2021-06-16T18:09:01.728500Z",
     "iopub.status.busy": "2021-06-16T18:09:01.728288Z",
     "iopub.status.idle": "2021-06-16T18:09:01.733263Z",
     "shell.execute_reply": "2021-06-16T18:09:01.732468Z",
     "shell.execute_reply.started": "2021-06-16T18:09:01.728474Z"
    },
    "tags": []
   },
   "outputs": [],
   "source": [
    "def sum_via_json(numbers_as_json: str) -> str:\n",
    "    \"\"\"\n",
    "    A summation function that sums a list of numbers defined as a JSON string\n",
    "\n",
    "    Output is returned as a JSON formatted string (which is really just \n",
    "    str(number), but still...)\n",
    "    \"\"\"\n",
    "    # Import necessary libraries inside the function, as the only code written\n",
    "    # in the pipeline component's function will be executed by the pipeline\n",
    "    # (plus some wrapper material KFP creates for you)\n",
    "    import json\n",
    "    numbers = json.loads(numbers_as_json)\n",
    "    summed = sum(numbers)\n",
    "    return json.dumps(summed)"
   ]
  },
  {
   "cell_type": "markdown",
   "metadata": {},
   "source": [
    "Testing locally works great:"
   ]
  },
  {
   "cell_type": "code",
   "execution_count": 23,
   "metadata": {
    "execution": {
     "iopub.execute_input": "2021-06-16T18:09:02.364444Z",
     "iopub.status.busy": "2021-06-16T18:09:02.364040Z",
     "iopub.status.idle": "2021-06-16T18:09:02.370642Z",
     "shell.execute_reply": "2021-06-16T18:09:02.369510Z",
     "shell.execute_reply.started": "2021-06-16T18:09:02.364416Z"
    },
    "tags": []
   },
   "outputs": [
    {
     "name": "stdout",
     "output_type": "stream",
     "text": [
      "result = 6\n"
     ]
    }
   ],
   "source": [
    "numbers_as_json = json.dumps([1, 2, 3])\n",
    "result_as_json = sum_via_json(numbers_as_json)\n",
    "result = json.loads(result_as_json)\n",
    "print(f\"result = {result}\")"
   ]
  },
  {
   "cell_type": "code",
   "execution_count": 24,
   "metadata": {
    "execution": {
     "iopub.execute_input": "2021-06-16T18:09:02.421961Z",
     "iopub.status.busy": "2021-06-16T18:09:02.421760Z",
     "iopub.status.idle": "2021-06-16T18:09:02.430162Z",
     "shell.execute_reply": "2021-06-16T18:09:02.429331Z",
     "shell.execute_reply.started": "2021-06-16T18:09:02.421939Z"
    },
    "tags": []
   },
   "outputs": [],
   "source": [
    "sum_via_json_component = func_to_container_op(sum_via_json,\n",
    "                                              base_image=BASE_IMAGE\n",
    "                                              )"
   ]
  },
  {
   "cell_type": "markdown",
   "metadata": {},
   "source": [
    "If the package we need is not available on the base image, we can either install it [ourselves](https://github.com/kubeflow/pipelines/blob/master/samples/core/lightweight_component/lightweight_component.ipynb) or use func_to_container_op"
   ]
  },
  {
   "cell_type": "code",
   "execution_count": 25,
   "metadata": {
    "execution": {
     "iopub.execute_input": "2021-06-16T18:09:02.465796Z",
     "iopub.status.busy": "2021-06-16T18:09:02.465516Z",
     "iopub.status.idle": "2021-06-16T18:09:02.469799Z",
     "shell.execute_reply": "2021-06-16T18:09:02.469059Z",
     "shell.execute_reply.started": "2021-06-16T18:09:02.465773Z"
    },
    "tags": []
   },
   "outputs": [],
   "source": [
    "def annotate_with_pip_installed_package(json_string):\n",
    "    import delorean\n",
    "    return json_string + \" | \" + str(delorean.Delorean(timezone=\"US/Eastern\"))"
   ]
  },
  {
   "cell_type": "code",
   "execution_count": 26,
   "metadata": {
    "execution": {
     "iopub.execute_input": "2021-06-16T18:09:02.521207Z",
     "iopub.status.busy": "2021-06-16T18:09:02.521002Z",
     "iopub.status.idle": "2021-06-16T18:09:02.741487Z",
     "shell.execute_reply": "2021-06-16T18:09:02.740428Z",
     "shell.execute_reply.started": "2021-06-16T18:09:02.521184Z"
    },
    "tags": []
   },
   "outputs": [
    {
     "data": {
      "text/plain": [
       "\"some string, could be json | Delorean(datetime=datetime.datetime(2021, 6, 16, 14, 9, 2, 737495), timezone='US/Eastern')\""
      ]
     },
     "execution_count": 26,
     "metadata": {},
     "output_type": "execute_result"
    }
   ],
   "source": [
    "annotate_with_pip_installed_package(\"some string, could be json\")"
   ]
  },
  {
   "cell_type": "markdown",
   "metadata": {},
   "source": [
    "And turning this into a component factory"
   ]
  },
  {
   "cell_type": "code",
   "execution_count": 27,
   "metadata": {
    "execution": {
     "iopub.execute_input": "2021-06-16T18:09:02.742924Z",
     "iopub.status.busy": "2021-06-16T18:09:02.742723Z",
     "iopub.status.idle": "2021-06-16T18:09:02.754340Z",
     "shell.execute_reply": "2021-06-16T18:09:02.753559Z",
     "shell.execute_reply.started": "2021-06-16T18:09:02.742901Z"
    },
    "tags": []
   },
   "outputs": [],
   "source": [
    "# Add string list of package names exactly how you'd pass\n",
    "# them to pip, with or without version\n",
    "packages_to_install = ['delorean==1.0.0']\n",
    "annotate_with_pip_installed_package_component = func_to_container_op(annotate_with_pip_installed_package,\n",
    "                                              base_image=BASE_IMAGE,\n",
    "                                              packages_to_install=packages_to_install,  # <---\n",
    "                                              )"
   ]
  },
  {
   "cell_type": "code",
   "execution_count": 28,
   "metadata": {
    "execution": {
     "iopub.execute_input": "2021-06-16T18:09:03.290313Z",
     "iopub.status.busy": "2021-06-16T18:09:03.289982Z",
     "iopub.status.idle": "2021-06-16T18:09:03.295172Z",
     "shell.execute_reply": "2021-06-16T18:09:03.294187Z",
     "shell.execute_reply.started": "2021-06-16T18:09:03.290269Z"
    },
    "tags": []
   },
   "outputs": [],
   "source": [
    "@dsl.pipeline(\n",
    "    name=\"My demo-kfp-lightweight-components pipeline\",\n",
    "    description=\"This one keeps it nice and simple\",\n",
    ")\n",
    "def pipeline(numbers_as_json):\n",
    "    sum_result = sum_via_json_component(numbers_as_json)\n",
    "    annotated_result = annotate_with_pip_installed_package_component(sum_result.output)"
   ]
  },
  {
   "cell_type": "code",
   "execution_count": 29,
   "metadata": {
    "execution": {
     "iopub.execute_input": "2021-06-16T18:09:05.807824Z",
     "iopub.status.busy": "2021-06-16T18:09:05.807485Z",
     "iopub.status.idle": "2021-06-16T18:09:06.112643Z",
     "shell.execute_reply": "2021-06-16T18:09:06.111736Z",
     "shell.execute_reply.started": "2021-06-16T18:09:05.807800Z"
    }
   },
   "outputs": [
    {
     "data": {
      "text/html": [
       "<a href=\"/_/pipeline/#/experiments/details/1154dda4-6fb8-4ead-bb61-24329015060a\" target=\"_blank\" >Experiment details</a>."
      ],
      "text/plain": [
       "<IPython.core.display.HTML object>"
      ]
     },
     "metadata": {},
     "output_type": "display_data"
    },
    {
     "data": {
      "text/html": [
       "<a href=\"/_/pipeline/#/runs/details/209dcf8b-7a7c-4377-a080-5695229ff0cc\" target=\"_blank\" >Run details</a>."
      ],
      "text/plain": [
       "<IPython.core.display.HTML object>"
      ]
     },
     "metadata": {},
     "output_type": "display_data"
    },
    {
     "data": {
      "text/plain": [
       "RunPipelineResult(run_id=209dcf8b-7a7c-4377-a080-5695229ff0cc)"
      ]
     },
     "execution_count": 29,
     "metadata": {},
     "output_type": "execute_result"
    }
   ],
   "source": [
    "kfp.Client().create_run_from_pipeline_func(\n",
    "    pipeline,\n",
    "    arguments={'numbers_as_json': json.dumps([1, 2, 3])},\n",
    "    experiment_name=experiment_name\n",
    ")"
   ]
  },
  {
   "cell_type": "markdown",
   "metadata": {},
   "source": [
    "And we see everything works!\n",
    "\n",
    "![everything works!](images/demo_kfp_lightweight_components_pipeline_with_dependencies_successful.png)"
   ]
  },
  {
   "cell_type": "markdown",
   "metadata": {},
   "source": [
    "## Iterative development using your own code"
   ]
  },
  {
   "cell_type": "markdown",
   "metadata": {},
   "source": [
    "For dependencies using your own code, one way to quickly iterate is by pushing your code to git and then installing it in the pipeline component every iteration.  For example, say we were locally iterating on this [project](https://github.com/ca-scribner/lrl).  We could do our development, push the code, and then use the following:"
   ]
  },
  {
   "cell_type": "code",
   "execution_count": 30,
   "metadata": {
    "execution": {
     "iopub.execute_input": "2021-06-16T18:09:06.610646Z",
     "iopub.status.busy": "2021-06-16T18:09:06.610330Z",
     "iopub.status.idle": "2021-06-16T18:09:06.614274Z",
     "shell.execute_reply": "2021-06-16T18:09:06.613455Z",
     "shell.execute_reply.started": "2021-06-16T18:09:06.610584Z"
    }
   },
   "outputs": [],
   "source": [
    "# pip install here is local only.  This enables local testing but doesn't help\n",
    "# the pipeline\n",
    "# !pip install git+https://github.com/ca-scribner/lrl\n",
    "\n",
    "# We leave it commented here to show how testing the pipeline step locally \n",
    "# will fail, but running in the pipeline with kfp installing your packages\n",
    "# for you will succeed"
   ]
  },
  {
   "cell_type": "code",
   "execution_count": 34,
   "metadata": {
    "execution": {
     "iopub.execute_input": "2021-06-16T18:10:41.291418Z",
     "iopub.status.busy": "2021-06-16T18:10:41.291011Z",
     "iopub.status.idle": "2021-06-16T18:10:41.296628Z",
     "shell.execute_reply": "2021-06-16T18:10:41.295641Z",
     "shell.execute_reply.started": "2021-06-16T18:10:41.291390Z"
    },
    "tags": []
   },
   "outputs": [],
   "source": [
    "def pipeline_step(something_just_because: str) -> str:\n",
    "    import lrl\n",
    "    rt = lrl.environments.get_racetrack(track='20x10_U',\n",
    "                             x_vel_limits=(-2, 2),\n",
    "                             y_vel_limits=(-2, 2),\n",
    "                             x_accel_limits=(-2, 2),\n",
    "                             y_accel_limits=(-2, 2),\n",
    "                             max_total_accel=2,\n",
    "                             )\n",
    "\n",
    "    # Return a list of strings that looks like:\n",
    "    # ['GGGGGGGGGGGGGGGGGGGG',\n",
    "    #  'GGGGGGGGGGGGGGGGGGGG',\n",
    "    #  'GGG     OOOO      GG',\n",
    "    #  'GGG     GGGG      GG',\n",
    "    #  'GGOOOOGGGGGGGGOOOOGG',\n",
    "    #  'GGOOOGGGGGGGGGGOOOGG',\n",
    "    #  'GG    GGGGGGGG    GG',\n",
    "    #  'GG      SGGGGG    GG',\n",
    "    #  'GGGGGGGGGGGGGGFFFFGG',\n",
    "    #  'GGGGGGGGGGGGGGFFFFGG']\n",
    "    # (converted to a string, as lightweight component needs)\n",
    "    return str(rt.track)"
   ]
  },
  {
   "cell_type": "code",
   "execution_count": 35,
   "metadata": {
    "execution": {
     "iopub.execute_input": "2021-06-16T18:10:42.108713Z",
     "iopub.status.busy": "2021-06-16T18:10:42.108473Z",
     "iopub.status.idle": "2021-06-16T18:10:45.502159Z",
     "shell.execute_reply": "2021-06-16T18:10:45.501417Z",
     "shell.execute_reply.started": "2021-06-16T18:10:42.108688Z"
    },
    "tags": []
   },
   "outputs": [
    {
     "data": {
      "text/plain": [
       "\"['GGGGGGGGGGGGGGGGGGGG', 'GGGGGGGGGGGGGGGGGGGG', 'GGG     OOOO      GG', 'GGG     GGGG      GG', 'GGOOOOGGGGGGGGOOOOGG', 'GGOOOGGGGGGGGGGOOOGG', 'GG    GGGGGGGG    GG', 'GG      SGGGGG    GG', 'GGGGGGGGGGGGGGFFFFGG', 'GGGGGGGGGGGGGGFFFFGG']\""
      ]
     },
     "execution_count": 35,
     "metadata": {},
     "output_type": "execute_result"
    }
   ],
   "source": [
    "pipeline_step('a')"
   ]
  },
  {
   "cell_type": "code",
   "execution_count": 36,
   "metadata": {
    "execution": {
     "iopub.execute_input": "2021-06-16T18:10:45.503720Z",
     "iopub.status.busy": "2021-06-16T18:10:45.503503Z",
     "iopub.status.idle": "2021-06-16T18:10:45.516333Z",
     "shell.execute_reply": "2021-06-16T18:10:45.515417Z",
     "shell.execute_reply.started": "2021-06-16T18:10:45.503696Z"
    },
    "tags": []
   },
   "outputs": [],
   "source": [
    "# Add string list of package names exactly how you'd pass\n",
    "# them to pip, with or without version\n",
    "packages_to_install = ['git+https://github.com/ca-scribner/lrl']\n",
    "pipeline_component = func_to_container_op(pipeline_step,\n",
    "                                              base_image=BASE_IMAGE,\n",
    "                                              packages_to_install=packages_to_install,\n",
    "                                              )"
   ]
  },
  {
   "cell_type": "code",
   "execution_count": 37,
   "metadata": {
    "execution": {
     "iopub.execute_input": "2021-06-16T18:10:45.517751Z",
     "iopub.status.busy": "2021-06-16T18:10:45.517573Z",
     "iopub.status.idle": "2021-06-16T18:10:45.537101Z",
     "shell.execute_reply": "2021-06-16T18:10:45.536211Z",
     "shell.execute_reply.started": "2021-06-16T18:10:45.517729Z"
    }
   },
   "outputs": [],
   "source": [
    "@dsl.pipeline(\n",
    "    name=\"My demo-kfp-lightweight-components pipeline\",\n",
    "    description=\"This one keeps it nice and simple\",\n",
    ")\n",
    "def pipeline(some_arg):\n",
    "    result = pipeline_component(some_arg)"
   ]
  },
  {
   "cell_type": "code",
   "execution_count": 38,
   "metadata": {
    "execution": {
     "iopub.execute_input": "2021-06-16T18:10:45.538326Z",
     "iopub.status.busy": "2021-06-16T18:10:45.538145Z",
     "iopub.status.idle": "2021-06-16T18:10:45.872038Z",
     "shell.execute_reply": "2021-06-16T18:10:45.871093Z",
     "shell.execute_reply.started": "2021-06-16T18:10:45.538304Z"
    }
   },
   "outputs": [
    {
     "data": {
      "text/html": [
       "<a href=\"/_/pipeline/#/experiments/details/1154dda4-6fb8-4ead-bb61-24329015060a\" target=\"_blank\" >Experiment details</a>."
      ],
      "text/plain": [
       "<IPython.core.display.HTML object>"
      ]
     },
     "metadata": {},
     "output_type": "display_data"
    },
    {
     "data": {
      "text/html": [
       "<a href=\"/_/pipeline/#/runs/details/cc62fcff-7d2c-4c39-b543-4d0d5b95244d\" target=\"_blank\" >Run details</a>."
      ],
      "text/plain": [
       "<IPython.core.display.HTML object>"
      ]
     },
     "metadata": {},
     "output_type": "display_data"
    },
    {
     "data": {
      "text/plain": [
       "RunPipelineResult(run_id=cc62fcff-7d2c-4c39-b543-4d0d5b95244d)"
      ]
     },
     "execution_count": 38,
     "metadata": {},
     "output_type": "execute_result"
    }
   ],
   "source": [
    "kfp.Client().create_run_from_pipeline_func(\n",
    "    pipeline,\n",
    "    arguments={'some_arg': \"I am not very important\"},\n",
    "    experiment_name=experiment_name\n",
    ")"
   ]
  },
  {
   "cell_type": "markdown",
   "metadata": {},
   "source": [
    "(Pipeline runs successfully, but not shown)"
   ]
  },
  {
   "cell_type": "markdown",
   "metadata": {},
   "source": [
    "# Lightweight components with integer inputs and multiple outputs"
   ]
  },
  {
   "cell_type": "code",
   "execution_count": 39,
   "metadata": {
    "execution": {
     "iopub.execute_input": "2021-06-16T18:10:45.873115Z",
     "iopub.status.busy": "2021-06-16T18:10:45.872882Z",
     "iopub.status.idle": "2021-06-16T18:10:45.886662Z",
     "shell.execute_reply": "2021-06-16T18:10:45.885809Z",
     "shell.execute_reply.started": "2021-06-16T18:10:45.873090Z"
    }
   },
   "outputs": [],
   "source": [
    "# This import happens outside the function because it is used to \n",
    "# DEFINE the function, not as something inside the function\n",
    "from typing import NamedTuple\n",
    "\n",
    "def funky_divide(dividend: float, divisor: float) -> NamedTuple(\"funky_divide_output\", [('quotient', float), ('remainder', float), ('as_string', str)]):\n",
    "    \"\"\"\n",
    "    Returns a tuple of (dividend // divisor, dividend % divisor)\n",
    "    \n",
    "    Note that we use type hints to tell func_to_container_op that:\n",
    "    - our inputs are floats, not strings\n",
    "    - our output has several parts, each with their own type\n",
    "    \"\"\"\n",
    "    quotient = dividend // divisor\n",
    "    remainder = dividend % divisor\n",
    "    as_string = f\"{quotient} and {remainder}/{divisor}\"\n",
    "    \n",
    "    from collections import namedtuple\n",
    "    # Define the namedtuple's structure\n",
    "    output = namedtuple(\"funky_divide_output\", [\"quotient\", \"remainder\", \"as_string\"])\n",
    "    my_output = output(quotient, remainder, as_string)\n",
    "    return my_output\n",
    "    \n",
    "funky_divide_op_factory = func_to_container_op(funky_divide, \n",
    "                                               base_image=BASE_IMAGE\n",
    "                                              )"
   ]
  },
  {
   "cell_type": "code",
   "execution_count": 40,
   "metadata": {
    "execution": {
     "iopub.execute_input": "2021-06-16T18:10:45.887975Z",
     "iopub.status.busy": "2021-06-16T18:10:45.887778Z",
     "iopub.status.idle": "2021-06-16T18:10:45.914591Z",
     "shell.execute_reply": "2021-06-16T18:10:45.913801Z",
     "shell.execute_reply.started": "2021-06-16T18:10:45.887952Z"
    }
   },
   "outputs": [
    {
     "data": {
      "text/plain": [
       "funky_divide_output(quotient=1, remainder=2, as_string='1 and 2/3')"
      ]
     },
     "execution_count": 40,
     "metadata": {},
     "output_type": "execute_result"
    }
   ],
   "source": [
    "funky_divide(5, 3)"
   ]
  },
  {
   "cell_type": "code",
   "execution_count": 41,
   "metadata": {
    "execution": {
     "iopub.execute_input": "2021-06-16T18:10:45.916287Z",
     "iopub.status.busy": "2021-06-16T18:10:45.916053Z",
     "iopub.status.idle": "2021-06-16T18:10:45.933365Z",
     "shell.execute_reply": "2021-06-16T18:10:45.932730Z",
     "shell.execute_reply.started": "2021-06-16T18:10:45.916266Z"
    }
   },
   "outputs": [],
   "source": [
    "@dsl.pipeline(\n",
    "    name=\"My demo-kfp-lightweight-components pipeline\",\n",
    "    description=\"Now we've got lots of fun complications!\",\n",
    ")\n",
    "def pipeline(x, y):\n",
    "#     res = my_divmod(x, y)\n",
    "    funky_divide_1 = funky_divide_op_factory(x, y)\n",
    "    \n",
    "    # Now divide the quotient from _1 by the remainder from _1\n",
    "    funky_divide_2 = funky_divide_op_factory(funky_divide_1.outputs['quotient'], funky_divide_1.outputs['remainder'])\n"
   ]
  },
  {
   "cell_type": "code",
   "execution_count": 42,
   "metadata": {
    "execution": {
     "iopub.execute_input": "2021-06-16T18:10:46.488222Z",
     "iopub.status.busy": "2021-06-16T18:10:46.487930Z",
     "iopub.status.idle": "2021-06-16T18:10:46.883361Z",
     "shell.execute_reply": "2021-06-16T18:10:46.882329Z",
     "shell.execute_reply.started": "2021-06-16T18:10:46.488197Z"
    }
   },
   "outputs": [
    {
     "data": {
      "text/html": [
       "<a href=\"/_/pipeline/#/experiments/details/1154dda4-6fb8-4ead-bb61-24329015060a\" target=\"_blank\" >Experiment details</a>."
      ],
      "text/plain": [
       "<IPython.core.display.HTML object>"
      ]
     },
     "metadata": {},
     "output_type": "display_data"
    },
    {
     "data": {
      "text/html": [
       "<a href=\"/_/pipeline/#/runs/details/498c95e5-28dd-4c41-a31f-00502d1d85eb\" target=\"_blank\" >Run details</a>."
      ],
      "text/plain": [
       "<IPython.core.display.HTML object>"
      ]
     },
     "metadata": {},
     "output_type": "display_data"
    },
    {
     "data": {
      "text/plain": [
       "RunPipelineResult(run_id=498c95e5-28dd-4c41-a31f-00502d1d85eb)"
      ]
     },
     "execution_count": 42,
     "metadata": {},
     "output_type": "execute_result"
    }
   ],
   "source": [
    "kfp.Client().create_run_from_pipeline_func(\n",
    "    pipeline,\n",
    "    arguments={'x': 10., 'y': 4.},\n",
    "    experiment_name=experiment_name\n",
    ")"
   ]
  }
 ],
 "metadata": {
  "kernelspec": {
   "display_name": "Python 3",
   "language": "python",
   "name": "python3"
  },
  "language_info": {
   "codemirror_mode": {
    "name": "ipython",
    "version": 3
   },
   "file_extension": ".py",
   "mimetype": "text/x-python",
   "name": "python",
   "nbconvert_exporter": "python",
   "pygments_lexer": "ipython3",
   "version": "3.8.8"
  }
 },
 "nbformat": 4,
 "nbformat_minor": 4
}
