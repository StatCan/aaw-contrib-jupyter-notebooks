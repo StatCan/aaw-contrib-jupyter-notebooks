{
 "cells": [
  {
   "cell_type": "markdown",
   "metadata": {},
   "source": [
    "# Summary:"
   ]
  },
  {
   "cell_type": "markdown",
   "metadata": {},
   "source": [
    "A few do's and don'ts on creating Lightweight (containerless*) Kubeflow Pipeline components using `func_to_container_op`.  Highlights include:\n",
    "\n",
    "**General:**\n",
    "* For simple or very iterative tasks, lightweight components may reduce your development burden\n",
    "* Inputs and outputs for Lightweight components are strings by default.  Use the typing package to enable int or float.  More complex data must be serialzed and passed as string (ex: JSON).  Large data should probably be passed as a reference to a file (eg: minio path, common data store link, etc.)\n",
    "\n",
    "**Helper functions:**\n",
    "* If possible, define all helper functions needed in a pipeline component inside the function itself rather than outside.\n",
    "* If sharing helpers between functions, set `use_code_pickling=True` to automatically pass the helpers with the container functions\n",
    "* **Note:** Use with care, especially if you cannot ensure your pipeline version here in the notebook is the same as the one in your pipeline container\n",
    "\n",
    "**Dependencies:**\n",
    "* When you need dependencies that are already installed on the base image you're using for the KFP component, simply `import` them from inside the component function\n",
    "* When you need dependencies that are not present on the base image, you can pip install them (yourself through code or using the packages_to_install argument).  This can install packages from anywhere pip can (pypi, github, etc).\n",
    "\n",
    "**Note:** If you have your own local functions supporting your container, the easiest way to use it is by pushing to github and then pip installing from github in your container (see the last example)"
   ]
  },
  {
   "cell_type": "markdown",
   "metadata": {},
   "source": [
    "# Examples of Authoring and Iterating Kubeflow Pipelines using Lightweight Components"
   ]
  },
  {
   "cell_type": "markdown",
   "metadata": {},
   "source": [
    "Machine learning applications are often a chain of encapsulated (or encapsulatable) steps.  [Kubeflow Pipelines](https://www.kubeflow.org/docs/pipelines/overview/pipelines-overview/) is a platform for authoring, orchestrating, monitoring, and reusing these pipelines. \n",
    "\n",
    "**TODO: Add links to general kubeflow tutorials.  Explain what is expected (basic idea of pipelines, etc).  Add gotchas like passing numbers without typehints (think thats required), explain namedtuple for multiple output, etc?**\n",
    "\n",
    "Pipelines are defined by a directed acyclic graph (DAG) of data/execution flow between components.  At their core, each component is a self-contained set of user code, packaged as a docker image.  They each perform one step in the pipeline, optionally consuming the products of upstream tasks.  They can be as complex as building a Tensorflow model or as simple as selecting a column from a data file.\n",
    "\n",
    "In addition to authoring Pipeline Components from self-contained containers, support exists for several approaches to lightweight components.  Lightweight components use Kubeflow Pipelines helpers to avoid the author having to make a new container for each component (or for each iteration of a component).  Although this approach has limits, it may enable easier authoring of simple components or make it easier to iteratively write complex components.  This demo shows a few examples of these workflows, along with their limitations."
   ]
  },
  {
   "cell_type": "markdown",
   "metadata": {},
   "source": [
    "# User Settings\n",
    "\n",
    "(modify these for your own use)\n"
   ]
  },
  {
   "cell_type": "code",
   "execution_count": 1,
   "metadata": {},
   "outputs": [],
   "source": [
    "# Name of the experiment that all pipeline runs will be nested in on\n",
    "# https://kubeflow.covid.cloud.statcan.ca/_/pipeline/#/experiments\n",
    "experiment_name = \"demo-kfp-lightweight-components\""
   ]
  },
  {
   "cell_type": "markdown",
   "metadata": {},
   "source": [
    "# General Settings\n",
    "\n",
    "(likely can leave these alone)\n"
   ]
  },
  {
   "cell_type": "code",
   "execution_count": 2,
   "metadata": {},
   "outputs": [],
   "source": [
    "# Define a base image to be used in generating component ops from python functions.\n",
    "# kfp uses this image to run a python session for the component\n",
    "# func_to_container_op\n",
    "BASE_IMAGE = \"scribby182/demo-kfp-pipeline-authoring:latest\"\n",
    "\n",
    "import kfp\n",
    "from kfp import dsl\n",
    "from kfp.components import func_to_container_op"
   ]
  },
  {
   "cell_type": "markdown",
   "metadata": {},
   "source": [
    "# Lightweight Components from Self-Contained Python Code"
   ]
  },
  {
   "cell_type": "markdown",
   "metadata": {},
   "source": [
    "One approach to lightweight components is through the Kubeflow Pipeline function ```func_to_container_op()```.  This function accepts a pipeline component defined as a python function and assembles it into a full component by layering it on top of a base image.  Behind the scenes, this is achieved by Kubeflow Pipelines effectively rewriting your function as a script to be run from within the base image you provide (defined as an argument to ```func_to_container_op```).  \n",
    "\n",
    "For simple, self contained python code, this is an effective way to define Pipeline Components quickly.  For example, we can define a pipeline that accepts two strings and concatenates them, then concatenates that product with a third string, like so:"
   ]
  },
  {
   "cell_type": "code",
   "execution_count": 3,
   "metadata": {},
   "outputs": [],
   "source": [
    "def concat_string(a, b) -> str:\n",
    "    return f\"({a} | {b})\""
   ]
  },
  {
   "cell_type": "markdown",
   "metadata": {},
   "source": [
    "which works like:"
   ]
  },
  {
   "cell_type": "code",
   "execution_count": 4,
   "metadata": {},
   "outputs": [
    {
     "name": "stdout",
     "output_type": "stream",
     "text": [
      "(String 1 | String 2)\n"
     ]
    }
   ],
   "source": [
    "print(concat_string(\"String 1\", \"String 2\"))"
   ]
  },
  {
   "cell_type": "markdown",
   "metadata": {},
   "source": [
    "To use this in a Kubeflow Pipeline, we wrap it using the func_to_container_op decorator\n",
    "\n",
    "Note: We could have done this all in one go when defining concat_string.  That is done later"
   ]
  },
  {
   "cell_type": "code",
   "execution_count": 5,
   "metadata": {},
   "outputs": [],
   "source": [
    "concat_string_component = func_to_container_op(concat_string,\n",
    "                                               base_image=BASE_IMAGE\n",
    "                                               )"
   ]
  },
  {
   "cell_type": "markdown",
   "metadata": {},
   "source": [
    "And we define our Pipeline as a function that uses our component(s), decorated by the dsl.pipeline decorator"
   ]
  },
  {
   "cell_type": "code",
   "execution_count": 6,
   "metadata": {},
   "outputs": [],
   "source": [
    "@dsl.pipeline(\n",
    "    name=\"My demo-kfp-lightweight-components pipeline\",\n",
    "    description=\"This one keeps it nice and simple\",\n",
    ")\n",
    "def pipeline(str1, str2, str3):\n",
    "    # Note that we use the concat_string_component, not the\n",
    "    # original concat_string() function\n",
    "    concat_result_1 = concat_string_component(str1, str2)\n",
    "\n",
    "    # By using cancat_result_1's output, we define the dependency of\n",
    "    # concat_result_2 on concat_result_1\n",
    "    concat_result_2 = concat_string_component(concat_result_1.output, str3)"
   ]
  },
  {
   "cell_type": "markdown",
   "metadata": {},
   "source": [
    "We can submit our pipeline from code with arguments like this:"
   ]
  },
  {
   "cell_type": "code",
   "execution_count": 7,
   "metadata": {},
   "outputs": [
    {
     "data": {
      "text/html": [
       "Experiment link <a href=\"/pipeline/#/experiments/details/f186bcfa-2ca2-43e6-84e5-d4a4a89a9516\" target=\"_blank\" >here</a>"
      ],
      "text/plain": [
       "<IPython.core.display.HTML object>"
      ]
     },
     "metadata": {},
     "output_type": "display_data"
    },
    {
     "data": {
      "text/html": [
       "Run link <a href=\"/pipeline/#/runs/details/8d4b1b53-6c01-4504-b745-a1222aa32615\" target=\"_blank\" >here</a>"
      ],
      "text/plain": [
       "<IPython.core.display.HTML object>"
      ]
     },
     "metadata": {},
     "output_type": "display_data"
    },
    {
     "data": {
      "text/plain": [
       "RunPipelineResult(run_id=8d4b1b53-6c01-4504-b745-a1222aa32615)"
      ]
     },
     "execution_count": 7,
     "metadata": {},
     "output_type": "execute_result"
    }
   ],
   "source": [
    "kfp.Client().create_run_from_pipeline_func(\n",
    "    pipeline,\n",
    "    arguments={'str1': 'String 1', 'str2': 'String 2', 'str3': 'String 3'},\n",
    "    experiment_name=experiment_name\n",
    ")"
   ]
  },
  {
   "cell_type": "markdown",
   "metadata": {},
   "source": [
    "Which produces the pipeline and output:\n",
    "\n",
    "![Simple pipeline](images/demo_kfp_lightweight_components_pipeline1_complete.png)"
   ]
  },
  {
   "cell_type": "markdown",
   "metadata": {},
   "source": [
    "This is great for very simple actions.  For something less trivial, however, we often have dependencies on helper functions or packages."
   ]
  },
  {
   "cell_type": "markdown",
   "metadata": {},
   "source": [
    "# Lightweight Components that need Dependencies or Helpers"
   ]
  },
  {
   "cell_type": "markdown",
   "metadata": {},
   "source": [
    "## What not to do with dependencies and helpers"
   ]
  },
  {
   "cell_type": "markdown",
   "metadata": {},
   "source": [
    "Care is required whenever a pipeline component defined using `create_run_from_pipeline_func` requires anything outside the code written directly in the wrapped function.  Common gotchas include:\n",
    "\n",
    "* defining helper functions outside the pipeline component\n",
    "* using packages that are not imported from within the pipeline component, or are not available in the base image"
   ]
  },
  {
   "cell_type": "markdown",
   "metadata": {},
   "source": [
    "For example, while it runs fine locally, this will fail in a pipeline:"
   ]
  },
  {
   "cell_type": "code",
   "execution_count": 8,
   "metadata": {},
   "outputs": [],
   "source": [
    "def my_sum_helper(*numbers):\n",
    "    total = 0\n",
    "    for x in numbers:\n",
    "        total += x\n",
    "    return total\n",
    "\n",
    "\n",
    "# Note: Arguments for components created with func_to_container_op expect string\n",
    "# To enable float or int types, use type hinting.  For more complex inputs,\n",
    "# serialize with JSON or store data to a location and pass the path\n",
    "def my_sum(a: float, b: float, c: float) -> float:\n",
    "    \"\"\"\n",
    "    A function that sums its numeric arguments\n",
    "    \"\"\"\n",
    "    return my_sum_helper(a, b, c)"
   ]
  },
  {
   "cell_type": "code",
   "execution_count": 9,
   "metadata": {},
   "outputs": [
    {
     "name": "stdout",
     "output_type": "stream",
     "text": [
      "6\n"
     ]
    }
   ],
   "source": [
    "print(my_sum(1, 2, 3))"
   ]
  },
  {
   "cell_type": "code",
   "execution_count": 10,
   "metadata": {},
   "outputs": [],
   "source": [
    "my_sum_component = func_to_container_op(my_sum,\n",
    "                                        base_image=BASE_IMAGE\n",
    "                                        )"
   ]
  },
  {
   "cell_type": "code",
   "execution_count": 11,
   "metadata": {},
   "outputs": [],
   "source": [
    "@dsl.pipeline(\n",
    "    name=\"My demo-kfp-lightweight-components pipeline\",\n",
    "    description=\"This one keeps it nice and simple\",\n",
    ")\n",
    "def pipeline(a, b, c):\n",
    "    sum_result = my_sum_component(a, b, c)"
   ]
  },
  {
   "cell_type": "code",
   "execution_count": 12,
   "metadata": {},
   "outputs": [
    {
     "data": {
      "text/html": [
       "Experiment link <a href=\"/pipeline/#/experiments/details/f186bcfa-2ca2-43e6-84e5-d4a4a89a9516\" target=\"_blank\" >here</a>"
      ],
      "text/plain": [
       "<IPython.core.display.HTML object>"
      ]
     },
     "metadata": {},
     "output_type": "display_data"
    },
    {
     "data": {
      "text/html": [
       "Run link <a href=\"/pipeline/#/runs/details/63624dd0-368c-4959-bc2e-ab1e529358f7\" target=\"_blank\" >here</a>"
      ],
      "text/plain": [
       "<IPython.core.display.HTML object>"
      ]
     },
     "metadata": {},
     "output_type": "display_data"
    },
    {
     "data": {
      "text/plain": [
       "RunPipelineResult(run_id=63624dd0-368c-4959-bc2e-ab1e529358f7)"
      ]
     },
     "execution_count": 12,
     "metadata": {},
     "output_type": "execute_result"
    }
   ],
   "source": [
    "kfp.Client().create_run_from_pipeline_func(\n",
    "    pipeline,\n",
    "    arguments={'a': 1.0, 'b': 2.0, 'c': 3.0},\n",
    "    experiment_name=experiment_name\n",
    ")"
   ]
  },
  {
   "cell_type": "markdown",
   "metadata": {},
   "source": [
    "Result: \n",
    "\n",
    "![Simple pipeline](images/demo_kfp_lightweight_components_pipeline_with_helper_my_sum_failed.png)"
   ]
  },
  {
   "cell_type": "markdown",
   "metadata": {},
   "source": [
    "And so will this:"
   ]
  },
  {
   "cell_type": "code",
   "execution_count": 13,
   "metadata": {},
   "outputs": [],
   "source": [
    "import json\n",
    "\n",
    "\n",
    "def sum_via_json(numbers_as_json):\n",
    "    \"\"\"\n",
    "    A summation function that sums a list of numbers defined as a JSON string\n",
    "\n",
    "    Output is returned as a JSON formatted string (which is really just \n",
    "    str(number), but still...)\n",
    "    \"\"\"\n",
    "    numbers = json.loads(numbers_as_json)\n",
    "    summed = sum(numbers)\n",
    "    return json.dumps(summed)"
   ]
  },
  {
   "cell_type": "markdown",
   "metadata": {},
   "source": [
    "Testing locally works great:"
   ]
  },
  {
   "cell_type": "code",
   "execution_count": 14,
   "metadata": {},
   "outputs": [
    {
     "name": "stdout",
     "output_type": "stream",
     "text": [
      "result = 6\n"
     ]
    }
   ],
   "source": [
    "numbers_as_json = json.dumps([1, 2, 3])\n",
    "result_as_json = sum_via_json(numbers_as_json)\n",
    "result = json.loads(result_as_json)\n",
    "print(f\"result = {result}\")"
   ]
  },
  {
   "cell_type": "markdown",
   "metadata": {},
   "source": [
    "But running through a pipeline does not..."
   ]
  },
  {
   "cell_type": "code",
   "execution_count": 15,
   "metadata": {},
   "outputs": [],
   "source": [
    "sum_via_json_component = func_to_container_op(sum_via_json,\n",
    "                                              base_image=BASE_IMAGE\n",
    "                                              )"
   ]
  },
  {
   "cell_type": "code",
   "execution_count": 16,
   "metadata": {},
   "outputs": [],
   "source": [
    "@dsl.pipeline(\n",
    "    name=\"My demo-kfp-lightweight-components pipeline\",\n",
    "    description=\"This one keeps it nice and simple\",\n",
    ")\n",
    "def pipeline(numbers_as_json):\n",
    "    sum_result = sum_via_json_component(numbers_as_json)"
   ]
  },
  {
   "cell_type": "code",
   "execution_count": 17,
   "metadata": {},
   "outputs": [
    {
     "data": {
      "text/html": [
       "Experiment link <a href=\"/pipeline/#/experiments/details/f186bcfa-2ca2-43e6-84e5-d4a4a89a9516\" target=\"_blank\" >here</a>"
      ],
      "text/plain": [
       "<IPython.core.display.HTML object>"
      ]
     },
     "metadata": {},
     "output_type": "display_data"
    },
    {
     "data": {
      "text/html": [
       "Run link <a href=\"/pipeline/#/runs/details/80400dc8-32e7-4ac8-bce5-5d27e84cba09\" target=\"_blank\" >here</a>"
      ],
      "text/plain": [
       "<IPython.core.display.HTML object>"
      ]
     },
     "metadata": {},
     "output_type": "display_data"
    },
    {
     "data": {
      "text/plain": [
       "RunPipelineResult(run_id=80400dc8-32e7-4ac8-bce5-5d27e84cba09)"
      ]
     },
     "execution_count": 17,
     "metadata": {},
     "output_type": "execute_result"
    }
   ],
   "source": [
    "kfp.Client().create_run_from_pipeline_func(\n",
    "    pipeline,\n",
    "    arguments={'numbers_as_json': [1, 2, 3]},\n",
    "    experiment_name=experiment_name\n",
    ")"
   ]
  },
  {
   "cell_type": "markdown",
   "metadata": {},
   "source": [
    "Result: \n",
    "\n",
    "![Simple pipeline](images/demo_kfp_lightweight_components_pipeline_with_dependency_failed.png)"
   ]
  },
  {
   "cell_type": "markdown",
   "metadata": {},
   "source": [
    "## How to handle dependencies and helpers"
   ]
  },
  {
   "cell_type": "markdown",
   "metadata": {},
   "source": [
    "For helpers, they can be defined within the pipeline:"
   ]
  },
  {
   "cell_type": "code",
   "execution_count": 18,
   "metadata": {},
   "outputs": [],
   "source": [
    "# Note: Arguments for components created with func_to_container_op expect string\n",
    "# To enable float or int types, use type hinting.  For more complex inputs,\n",
    "# serialize with JSON or store data to a location and pass the path\n",
    "def my_sum_internal_helper(a: float, b: float, c: float) -> float:\n",
    "    \"\"\"\n",
    "    A function that sums its numeric arguments\n",
    "    \"\"\"\n",
    "    def my_sum_helper(*numbers):\n",
    "        total = 0\n",
    "        for x in numbers:\n",
    "            total += x\n",
    "        return total\n",
    "\n",
    "    return my_sum_helper(a, b, c)\n",
    "\n",
    "\n",
    "my_sum_internal_helper_component = func_to_container_op(my_sum_internal_helper,\n",
    "                                                        base_image=BASE_IMAGE\n",
    "                                                        )"
   ]
  },
  {
   "cell_type": "markdown",
   "metadata": {},
   "source": [
    "Or, they can be defined outside the helper and pickled with the code"
   ]
  },
  {
   "cell_type": "code",
   "execution_count": 19,
   "metadata": {},
   "outputs": [],
   "source": [
    "def my_sum_helper(*numbers):\n",
    "    total = 0\n",
    "    for x in numbers:\n",
    "        total += x\n",
    "    return total\n",
    "\n",
    "\n",
    "def my_sum_external_helper(a: float, b: float, c: float) -> float:\n",
    "    \"\"\"\n",
    "    A function that sums its numeric arguments\n",
    "    \"\"\"\n",
    "    return my_sum_helper(a, b, c)\n",
    "\n",
    "\n",
    "# NOTE the extra argument here\n",
    "my_sum_external_helper_component = func_to_container_op(my_sum_internal_helper,\n",
    "                                                        base_image=BASE_IMAGE,\n",
    "                                                        use_code_pickling=True,\n",
    "                                                        )"
   ]
  },
  {
   "cell_type": "markdown",
   "metadata": {},
   "source": [
    "Code pickling will wrap up simple helper functions with the code.  Docs suggest it can do more, but initial testing couldn't get that to work (anyone who gets packages or complex imports working through use_code_pickling should let us know!)\n",
    "\n",
    "Code pickling can have some downsides (mainly related to python version differences between where it is picked and where it is executed).  If you don't need it, you should probably leave it off."
   ]
  },
  {
   "cell_type": "code",
   "execution_count": 20,
   "metadata": {},
   "outputs": [],
   "source": [
    "@dsl.pipeline(\n",
    "    name=\"My demo-kfp-lightweight-components pipeline\",\n",
    "    description=\"This one keeps it nice and simple\",\n",
    ")\n",
    "def pipeline(a, b, c):\n",
    "    sum_result_internal = my_sum_internal_helper_component(a, b, c)\n",
    "    sum_result_external = my_sum_external_helper_component(a, b, c)\n",
    "    final_sum = my_sum_internal_helper_component(sum_result_internal.output,\n",
    "                                                 sum_result_external.output,\n",
    "                                                 0)"
   ]
  },
  {
   "cell_type": "code",
   "execution_count": 21,
   "metadata": {},
   "outputs": [
    {
     "data": {
      "text/html": [
       "Experiment link <a href=\"/pipeline/#/experiments/details/f186bcfa-2ca2-43e6-84e5-d4a4a89a9516\" target=\"_blank\" >here</a>"
      ],
      "text/plain": [
       "<IPython.core.display.HTML object>"
      ]
     },
     "metadata": {},
     "output_type": "display_data"
    },
    {
     "data": {
      "text/html": [
       "Run link <a href=\"/pipeline/#/runs/details/53ef2fcc-f4f9-4c9f-9095-a062be7d679e\" target=\"_blank\" >here</a>"
      ],
      "text/plain": [
       "<IPython.core.display.HTML object>"
      ]
     },
     "metadata": {},
     "output_type": "display_data"
    },
    {
     "data": {
      "text/plain": [
       "RunPipelineResult(run_id=53ef2fcc-f4f9-4c9f-9095-a062be7d679e)"
      ]
     },
     "execution_count": 21,
     "metadata": {},
     "output_type": "execute_result"
    }
   ],
   "source": [
    "kfp.Client().create_run_from_pipeline_func(\n",
    "    pipeline,\n",
    "    arguments={'a': 1.0, 'b': 2.0, 'c': 3.0},\n",
    "    experiment_name=experiment_name\n",
    ")"
   ]
  },
  {
   "cell_type": "markdown",
   "metadata": {},
   "source": [
    "Working pipeline! \n",
    "\n",
    "![Working pipeline](images/demo_kfp_lightweight_components_pipeline_with_helper_my_sum_successful.png)"
   ]
  },
  {
   "cell_type": "markdown",
   "metadata": {},
   "source": [
    "For dependencies, several options exist depending on whether the package you want is already installed on the base image.\n",
    "\n",
    "If the package you want is installed on the image, you can simply import it from within your pipeline component.  Revisiting the JSON example from above, this will work (because JSON is available on BASE_IMAGE):"
   ]
  },
  {
   "cell_type": "code",
   "execution_count": 67,
   "metadata": {},
   "outputs": [],
   "source": [
    "def sum_via_json(numbers_as_json: str) -> str:\n",
    "    \"\"\"\n",
    "    A summation function that sums a list of numbers defined as a JSON string\n",
    "\n",
    "    Output is returned as a JSON formatted string (which is really just \n",
    "    str(number), but still...)\n",
    "    \"\"\"\n",
    "    # Import necessary libraries inside the function, as the only code executed\n",
    "    # by the pipeline component is what you write here (plus some wrapper\n",
    "    # material KFP creates for you)\n",
    "    import json\n",
    "    numbers = json.loads(numbers_as_json)\n",
    "    summed = sum(numbers)\n",
    "    return json.dumps(summed)"
   ]
  },
  {
   "cell_type": "markdown",
   "metadata": {},
   "source": [
    "Testing locally works great:"
   ]
  },
  {
   "cell_type": "code",
   "execution_count": 56,
   "metadata": {},
   "outputs": [
    {
     "name": "stdout",
     "output_type": "stream",
     "text": [
      "[1, 2, 3]\n",
      "result = 6\n"
     ]
    }
   ],
   "source": [
    "numbers_as_json = json.dumps([1, 2, 3])\n",
    "result_as_json = sum_via_json(numbers_as_json)\n",
    "result = json.loads(result_as_json)\n",
    "print(f\"result = {result}\")"
   ]
  },
  {
   "cell_type": "code",
   "execution_count": 57,
   "metadata": {},
   "outputs": [],
   "source": [
    "sum_via_json_component = func_to_container_op(sum_via_json,\n",
    "                                              base_image=BASE_IMAGE\n",
    "                                              )"
   ]
  },
  {
   "cell_type": "markdown",
   "metadata": {},
   "source": [
    "If the package we need is not available on the base image, we can either install it [ourselves](https://github.com/kubeflow/pipelines/blob/master/samples/core/lightweight_component/lightweight_component.ipynb) or use func_to_container_op"
   ]
  },
  {
   "cell_type": "code",
   "execution_count": 58,
   "metadata": {},
   "outputs": [
    {
     "name": "stdout",
     "output_type": "stream",
     "text": [
      "Requirement already satisfied: delorean==1.0.0 in /opt/conda/lib/python3.7/site-packages (1.0.0)\n",
      "Requirement already satisfied: pytz>=2015.7 in /opt/conda/lib/python3.7/site-packages (from delorean==1.0.0) (2020.1)\n",
      "Requirement already satisfied: python-dateutil>=2.4.2 in /opt/conda/lib/python3.7/site-packages (from delorean==1.0.0) (2.8.0)\n",
      "Requirement already satisfied: babel>=2.1.1 in /opt/conda/lib/python3.7/site-packages (from delorean==1.0.0) (2.8.0)\n",
      "Requirement already satisfied: tzlocal>=1.2 in /opt/conda/lib/python3.7/site-packages (from delorean==1.0.0) (2.0.0)\n",
      "Requirement already satisfied: humanize>=0.5.1 in /opt/conda/lib/python3.7/site-packages (from delorean==1.0.0) (2.4.0)\n",
      "Requirement already satisfied: six>=1.5 in /opt/conda/lib/python3.7/site-packages (from python-dateutil>=2.4.2->delorean==1.0.0) (1.14.0)\n"
     ]
    }
   ],
   "source": [
    "# pip install here so we can test locally, but this has no effect on the\n",
    "# pipeline component at pipeline runtime\n",
    "!pip install delorean==1.0.0"
   ]
  },
  {
   "cell_type": "code",
   "execution_count": 59,
   "metadata": {},
   "outputs": [],
   "source": [
    "def annotate_with_pip_installed_package(json_string):\n",
    "    import delorean\n",
    "    return json_string + \" | \" + str(delorean.Delorean(timezone=\"US/Eastern\"))"
   ]
  },
  {
   "cell_type": "code",
   "execution_count": 60,
   "metadata": {},
   "outputs": [
    {
     "data": {
      "text/plain": [
       "\"some string, could be json | Delorean(datetime=datetime.datetime(2020, 5, 13, 15, 10, 50, 167890), timezone='US/Eastern')\""
      ]
     },
     "execution_count": 60,
     "metadata": {},
     "output_type": "execute_result"
    }
   ],
   "source": [
    "annotate_with_pip_installed_package(\"some string, could be json\")"
   ]
  },
  {
   "cell_type": "code",
   "execution_count": 64,
   "metadata": {},
   "outputs": [],
   "source": [
    "# Add string list of package names exactly how you'd pass\n",
    "# them to pip, with or without version\n",
    "packages_to_install = ['delorean==1.0.0']\n",
    "annotate_with_pip_installed_package_component = func_to_container_op(annotate_with_pip_installed_package,\n",
    "                                              base_image=BASE_IMAGE,\n",
    "                                              packages_to_install=packages_to_install,\n",
    "                                              )"
   ]
  },
  {
   "cell_type": "code",
   "execution_count": 68,
   "metadata": {},
   "outputs": [],
   "source": [
    "@dsl.pipeline(\n",
    "    name=\"My demo-kfp-lightweight-components pipeline\",\n",
    "    description=\"This one keeps it nice and simple\",\n",
    ")\n",
    "def pipeline(numbers_as_json):\n",
    "    sum_result = sum_via_json_component(numbers_as_json)\n",
    "    annotated_result = annotate_with_pip_installed_package_component(sum_result.output)"
   ]
  },
  {
   "cell_type": "code",
   "execution_count": 69,
   "metadata": {},
   "outputs": [
    {
     "data": {
      "text/html": [
       "Experiment link <a href=\"/pipeline/#/experiments/details/f186bcfa-2ca2-43e6-84e5-d4a4a89a9516\" target=\"_blank\" >here</a>"
      ],
      "text/plain": [
       "<IPython.core.display.HTML object>"
      ]
     },
     "metadata": {},
     "output_type": "display_data"
    },
    {
     "data": {
      "text/html": [
       "Run link <a href=\"/pipeline/#/runs/details/d826ed10-02f3-410f-a576-086020af2156\" target=\"_blank\" >here</a>"
      ],
      "text/plain": [
       "<IPython.core.display.HTML object>"
      ]
     },
     "metadata": {},
     "output_type": "display_data"
    },
    {
     "data": {
      "text/plain": [
       "RunPipelineResult(run_id=d826ed10-02f3-410f-a576-086020af2156)"
      ]
     },
     "execution_count": 69,
     "metadata": {},
     "output_type": "execute_result"
    }
   ],
   "source": [
    "kfp.Client().create_run_from_pipeline_func(\n",
    "    pipeline,\n",
    "    arguments={'numbers_as_json': json.dumps([1, 2, 3])},\n",
    "    experiment_name=experiment_name\n",
    ")"
   ]
  },
  {
   "cell_type": "markdown",
   "metadata": {},
   "source": [
    "And we see everything works!\n",
    "\n",
    "![everything works!](images/demo_kfp_lightweight_components_pipeline_with_dependencies_successful.png)"
   ]
  },
  {
   "cell_type": "code",
   "execution_count": 73,
   "metadata": {},
   "outputs": [],
   "source": [
    "## Iterative development using your own code"
   ]
  },
  {
   "cell_type": "markdown",
   "metadata": {},
   "source": [
    "For dependencies using your own code, one way to quickly iterate is by pushing your code to git and then installing it in the pipeline component every iteration.  For example, say we were locally iterating on this [project](https://github.com/ca-scribner/lrl).  We could do our development, push the code, and then use the following:"
   ]
  },
  {
   "cell_type": "code",
   "execution_count": 74,
   "metadata": {},
   "outputs": [
    {
     "name": "stdout",
     "output_type": "stream",
     "text": [
      "Collecting git+https://github.com/ca-scribner/lrl\n",
      "  Cloning https://github.com/ca-scribner/lrl to /tmp/pip-req-build-qk28fcrg\n",
      "  Running command git clone -q https://github.com/ca-scribner/lrl /tmp/pip-req-build-qk28fcrg\n",
      "Collecting gym>=0.12.1\n",
      "  Downloading gym-0.17.2.tar.gz (1.6 MB)\n",
      "\u001b[K     |████████████████████████████████| 1.6 MB 32.5 MB/s eta 0:00:01\n",
      "\u001b[?25hRequirement already satisfied: matplotlib>=3.0.3 in /opt/conda/lib/python3.7/site-packages (from lrl==1.0.0) (3.2.1)\n",
      "Requirement already satisfied: ipython>=7.5.0 in /opt/conda/lib/python3.7/site-packages (from lrl==1.0.0) (7.14.0)\n",
      "Requirement already satisfied: pandas>=0.24.2 in /opt/conda/lib/python3.7/site-packages (from lrl==1.0.0) (1.0.3)\n",
      "Requirement already satisfied: scikit-learn>=0.20.3 in /opt/conda/lib/python3.7/site-packages (from lrl==1.0.0) (0.22.2.post1)\n",
      "Requirement already satisfied: scipy in /opt/conda/lib/python3.7/site-packages (from gym>=0.12.1->lrl==1.0.0) (1.4.1)\n",
      "Requirement already satisfied: numpy>=1.10.4 in /opt/conda/lib/python3.7/site-packages (from gym>=0.12.1->lrl==1.0.0) (1.18.1)\n",
      "Collecting pyglet<=1.5.0,>=1.4.0\n",
      "  Downloading pyglet-1.5.0-py2.py3-none-any.whl (1.0 MB)\n",
      "\u001b[K     |████████████████████████████████| 1.0 MB 74.3 MB/s eta 0:00:01\n",
      "\u001b[?25hCollecting cloudpickle<1.4.0,>=1.2.0\n",
      "  Downloading cloudpickle-1.3.0-py2.py3-none-any.whl (26 kB)\n",
      "Requirement already satisfied: cycler>=0.10 in /opt/conda/lib/python3.7/site-packages (from matplotlib>=3.0.3->lrl==1.0.0) (0.10.0)\n",
      "Requirement already satisfied: pyparsing!=2.0.4,!=2.1.2,!=2.1.6,>=2.0.1 in /opt/conda/lib/python3.7/site-packages (from matplotlib>=3.0.3->lrl==1.0.0) (2.4.7)\n",
      "Requirement already satisfied: python-dateutil>=2.1 in /opt/conda/lib/python3.7/site-packages (from matplotlib>=3.0.3->lrl==1.0.0) (2.8.0)\n",
      "Requirement already satisfied: kiwisolver>=1.0.1 in /opt/conda/lib/python3.7/site-packages (from matplotlib>=3.0.3->lrl==1.0.0) (1.2.0)\n",
      "Requirement already satisfied: pickleshare in /opt/conda/lib/python3.7/site-packages (from ipython>=7.5.0->lrl==1.0.0) (0.7.5)\n",
      "Requirement already satisfied: prompt-toolkit!=3.0.0,!=3.0.1,<3.1.0,>=2.0.0 in /opt/conda/lib/python3.7/site-packages (from ipython>=7.5.0->lrl==1.0.0) (3.0.5)\n",
      "Requirement already satisfied: pygments in /opt/conda/lib/python3.7/site-packages (from ipython>=7.5.0->lrl==1.0.0) (2.6.1)\n",
      "Requirement already satisfied: traitlets>=4.2 in /opt/conda/lib/python3.7/site-packages (from ipython>=7.5.0->lrl==1.0.0) (4.3.3)\n",
      "Requirement already satisfied: pexpect; sys_platform != \"win32\" in /opt/conda/lib/python3.7/site-packages (from ipython>=7.5.0->lrl==1.0.0) (4.8.0)\n",
      "Requirement already satisfied: setuptools>=18.5 in /opt/conda/lib/python3.7/site-packages (from ipython>=7.5.0->lrl==1.0.0) (46.1.3.post20200325)\n",
      "Requirement already satisfied: jedi>=0.10 in /opt/conda/lib/python3.7/site-packages (from ipython>=7.5.0->lrl==1.0.0) (0.15.2)\n",
      "Requirement already satisfied: decorator in /opt/conda/lib/python3.7/site-packages (from ipython>=7.5.0->lrl==1.0.0) (4.4.2)\n",
      "Requirement already satisfied: backcall in /opt/conda/lib/python3.7/site-packages (from ipython>=7.5.0->lrl==1.0.0) (0.1.0)\n",
      "Requirement already satisfied: pytz>=2017.2 in /opt/conda/lib/python3.7/site-packages (from pandas>=0.24.2->lrl==1.0.0) (2020.1)\n",
      "Requirement already satisfied: joblib>=0.11 in /opt/conda/lib/python3.7/site-packages (from scikit-learn>=0.20.3->lrl==1.0.0) (0.14.1)\n",
      "Requirement already satisfied: future in /opt/conda/lib/python3.7/site-packages (from pyglet<=1.5.0,>=1.4.0->gym>=0.12.1->lrl==1.0.0) (0.18.2)\n",
      "Requirement already satisfied: six in /opt/conda/lib/python3.7/site-packages (from cycler>=0.10->matplotlib>=3.0.3->lrl==1.0.0) (1.14.0)\n",
      "Requirement already satisfied: wcwidth in /opt/conda/lib/python3.7/site-packages (from prompt-toolkit!=3.0.0,!=3.0.1,<3.1.0,>=2.0.0->ipython>=7.5.0->lrl==1.0.0) (0.1.9)\n",
      "Requirement already satisfied: ipython-genutils in /opt/conda/lib/python3.7/site-packages (from traitlets>=4.2->ipython>=7.5.0->lrl==1.0.0) (0.2.0)\n",
      "Requirement already satisfied: ptyprocess>=0.5 in /opt/conda/lib/python3.7/site-packages (from pexpect; sys_platform != \"win32\"->ipython>=7.5.0->lrl==1.0.0) (0.6.0)\n",
      "Requirement already satisfied: parso>=0.5.2 in /opt/conda/lib/python3.7/site-packages (from jedi>=0.10->ipython>=7.5.0->lrl==1.0.0) (0.7.0)\n",
      "Building wheels for collected packages: lrl, gym\n",
      "  Building wheel for lrl (setup.py) ... \u001b[?25ldone\n",
      "\u001b[?25h  Created wheel for lrl: filename=lrl-1.0.0-py3-none-any.whl size=50250 sha256=e3e828a145de3227234d6098e49cbe0ddccb8c7bac2db0dcbd9e1e576004f735\n",
      "  Stored in directory: /tmp/pip-ephem-wheel-cache-9lq4noyu/wheels/b6/f4/fd/5adb39371c78e248241d2d9d8e5fc4d2f7eebdb6af2ce64a3f\n",
      "  Building wheel for gym (setup.py) ... \u001b[?25ldone\n",
      "\u001b[?25h  Created wheel for gym: filename=gym-0.17.2-py3-none-any.whl size=1650891 sha256=6524425fe84135d6e154014c2affdec3290e301dec25959eafe00926dd3451d5\n",
      "  Stored in directory: /home/jovyan/.cache/pip/wheels/18/e1/58/89a2aa24e6c2cc800204fc02010612afdf200926c4d6bfe315\n",
      "Successfully built lrl gym\n",
      "Installing collected packages: pyglet, cloudpickle, gym, lrl\n",
      "  Attempting uninstall: cloudpickle\n",
      "    Found existing installation: cloudpickle 1.4.1\n",
      "    Uninstalling cloudpickle-1.4.1:\n",
      "      Successfully uninstalled cloudpickle-1.4.1\n",
      "Successfully installed cloudpickle-1.3.0 gym-0.17.2 lrl-1.0.0 pyglet-1.5.0\n"
     ]
    }
   ],
   "source": [
    "# pip install here is local only.  This enables local testing but doesn't help\n",
    "# the pipeline\n",
    "!pip install git+https://github.com/ca-scribner/lrl"
   ]
  },
  {
   "cell_type": "code",
   "execution_count": 91,
   "metadata": {},
   "outputs": [],
   "source": [
    "def pipeline_step(something_just_because: str) -> str:\n",
    "    import lrl\n",
    "    rt = lrl.environments.get_racetrack(track='20x10_U',\n",
    "                             x_vel_limits=(-2, 2),\n",
    "                             y_vel_limits=(-2, 2),\n",
    "                             x_accel_limits=(-2, 2),\n",
    "                             y_accel_limits=(-2, 2),\n",
    "                             max_total_accel=2,\n",
    "                             )\n",
    "\n",
    "    # Return a list of strings that looks like:\n",
    "    # ['GGGGGGGGGGGGGGGGGGGG',\n",
    "    #  'GGGGGGGGGGGGGGGGGGGG',\n",
    "    #  'GGG     OOOO      GG',\n",
    "    #  'GGG     GGGG      GG',\n",
    "    #  'GGOOOOGGGGGGGGOOOOGG',\n",
    "    #  'GGOOOGGGGGGGGGGOOOGG',\n",
    "    #  'GG    GGGGGGGG    GG',\n",
    "    #  'GG      SGGGGG    GG',\n",
    "    #  'GGGGGGGGGGGGGGFFFFGG',\n",
    "    #  'GGGGGGGGGGGGGGFFFFGG']\n",
    "    # (converted to a string, as lightweight component needs)\n",
    "    return str(rt.track)"
   ]
  },
  {
   "cell_type": "code",
   "execution_count": 92,
   "metadata": {},
   "outputs": [
    {
     "data": {
      "text/plain": [
       "\"['GGGGGGGGGGGGGGGGGGGG', 'GGGGGGGGGGGGGGGGGGGG', 'GGG     OOOO      GG', 'GGG     GGGG      GG', 'GGOOOOGGGGGGGGOOOOGG', 'GGOOOGGGGGGGGGGOOOGG', 'GG    GGGGGGGG    GG', 'GG      SGGGGG    GG', 'GGGGGGGGGGGGGGFFFFGG', 'GGGGGGGGGGGGGGFFFFGG']\""
      ]
     },
     "execution_count": 92,
     "metadata": {},
     "output_type": "execute_result"
    }
   ],
   "source": [
    "pipeline_step('a')"
   ]
  },
  {
   "cell_type": "code",
   "execution_count": 93,
   "metadata": {},
   "outputs": [],
   "source": [
    "# Add string list of package names exactly how you'd pass\n",
    "# them to pip, with or without version\n",
    "packages_to_install = ['git+https://github.com/ca-scribner/lrl']\n",
    "pipeline_component = func_to_container_op(pipeline_step,\n",
    "                                              base_image=BASE_IMAGE,\n",
    "                                              packages_to_install=packages_to_install,\n",
    "                                              )"
   ]
  },
  {
   "cell_type": "code",
   "execution_count": 94,
   "metadata": {},
   "outputs": [],
   "source": [
    "@dsl.pipeline(\n",
    "    name=\"My demo-kfp-lightweight-components pipeline\",\n",
    "    description=\"This one keeps it nice and simple\",\n",
    ")\n",
    "def pipeline(some_arg):\n",
    "    result = pipeline_component(some_arg)"
   ]
  },
  {
   "cell_type": "code",
   "execution_count": 95,
   "metadata": {},
   "outputs": [
    {
     "data": {
      "text/html": [
       "Experiment link <a href=\"/pipeline/#/experiments/details/f186bcfa-2ca2-43e6-84e5-d4a4a89a9516\" target=\"_blank\" >here</a>"
      ],
      "text/plain": [
       "<IPython.core.display.HTML object>"
      ]
     },
     "metadata": {},
     "output_type": "display_data"
    },
    {
     "data": {
      "text/html": [
       "Run link <a href=\"/pipeline/#/runs/details/50f92901-65de-42e6-b609-b88f593867fc\" target=\"_blank\" >here</a>"
      ],
      "text/plain": [
       "<IPython.core.display.HTML object>"
      ]
     },
     "metadata": {},
     "output_type": "display_data"
    },
    {
     "data": {
      "text/plain": [
       "RunPipelineResult(run_id=50f92901-65de-42e6-b609-b88f593867fc)"
      ]
     },
     "execution_count": 95,
     "metadata": {},
     "output_type": "execute_result"
    }
   ],
   "source": [
    "kfp.Client().create_run_from_pipeline_func(\n",
    "    pipeline,\n",
    "    arguments={'some_arg': \"I am not very important\"},\n",
    "    experiment_name=experiment_name\n",
    ")"
   ]
  },
  {
   "cell_type": "markdown",
   "metadata": {},
   "source": [
    "(Pipeline runs successfully, but not shown)"
   ]
  }
 ],
 "metadata": {
  "kernelspec": {
   "display_name": "Python 3",
   "language": "python",
   "name": "python3"
  },
  "language_info": {
   "codemirror_mode": {
    "name": "ipython",
    "version": 3
   },
   "file_extension": ".py",
   "mimetype": "text/x-python",
   "name": "python",
   "nbconvert_exporter": "python",
   "pygments_lexer": "ipython3",
   "version": "3.7.4"
  }
 },
 "nbformat": 4,
 "nbformat_minor": 4
}
