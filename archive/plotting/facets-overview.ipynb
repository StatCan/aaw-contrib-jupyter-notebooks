{
 "cells": [
  {
   "cell_type": "markdown",
   "metadata": {},
   "source": [
    "Summary\n",
    "\n",
    " Facets Overview gives users a quick understanding of the distribution of values across the features of their dataset(s). Uncover several uncommon and common issues such as unexpected feature values, missing feature values for a large number of observation, training/serving skew and train/test/validation set skew\n",
    " It takes input feature data from any number of datasets, analyzes them feature by feature and visualizes the analysis.\n",
    "Since facets-overview have not been installed on our notebook you must installed with pip.\n",
    "For more information see https://github.com/PAIR-code/facets/tree/master/facets_overview and https://pair-code.github.io/facets/.\n",
    " \n",
    "\n"
   ]
  },
  {
   "cell_type": "code",
   "execution_count": null,
   "metadata": {
    "execution": {
     "iopub.execute_input": "2020-10-08T14:28:45.006256Z",
     "iopub.status.busy": "2020-10-08T14:28:45.005951Z",
     "iopub.status.idle": "2020-10-08T14:28:47.377934Z",
     "shell.execute_reply": "2020-10-08T14:28:47.376924Z",
     "shell.execute_reply.started": "2020-10-08T14:28:45.006223Z"
    }
   },
   "outputs": [],
   "source": [
    "\n",
    "pip install facets-overview"
   ]
  },
  {
   "cell_type": "code",
   "execution_count": null,
   "metadata": {
    "execution": {
     "iopub.execute_input": "2020-10-08T14:28:47.379987Z",
     "iopub.status.busy": "2020-10-08T14:28:47.379694Z",
     "iopub.status.idle": "2020-10-08T14:28:47.383490Z",
     "shell.execute_reply": "2020-10-08T14:28:47.382886Z",
     "shell.execute_reply.started": "2020-10-08T14:28:47.379940Z"
    }
   },
   "outputs": [],
   "source": [
    "# import necessary library \n",
    "import numpy as np\n",
    "import pandas as pd\n",
    "from skimage import io"
   ]
  },
  {
   "cell_type": "code",
   "execution_count": null,
   "metadata": {
    "execution": {
     "iopub.execute_input": "2020-10-08T14:28:47.384972Z",
     "iopub.status.busy": "2020-10-08T14:28:47.384689Z",
     "iopub.status.idle": "2020-10-08T14:28:48.138984Z",
     "shell.execute_reply": "2020-10-08T14:28:48.137879Z",
     "shell.execute_reply.started": "2020-10-08T14:28:47.384931Z"
    }
   },
   "outputs": [],
   "source": [
    "# Download data from https://covid.ourworldindata.org/data/ecdc/locations.csv,\n",
    "# and split it into train and test data with a ratio of 0.2\n",
    "features = [\"countriesAndTerritories\", \"location\", \"continent\", \"population_year\",\"population\"]\n",
    "train_data = pd.read_csv(\n",
    "    \"https://covid.ourworldindata.org/data/ecdc/locations.csv\", names=features)\n",
    "from sklearn.model_selection import train_test_split\n",
    "train, test = train_test_split(train_data , test_size= 0.2)\n"
   ]
  },
  {
   "cell_type": "code",
   "execution_count": null,
   "metadata": {
    "execution": {
     "iopub.execute_input": "2020-10-08T14:28:48.140211Z",
     "iopub.status.busy": "2020-10-08T14:28:48.140022Z",
     "iopub.status.idle": "2020-10-08T14:28:48.161799Z",
     "shell.execute_reply": "2020-10-08T14:28:48.161241Z",
     "shell.execute_reply.started": "2020-10-08T14:28:48.140189Z"
    }
   },
   "outputs": [],
   "source": [
    "# Create the proto from a pandas DataFrame,\n",
    "# use the ProtoFromDataFrames method of the GenericFeatureStatisticsGenerator class.\n",
    "\n",
    "from facets_overview.generic_feature_statistics_generator import GenericFeatureStatisticsGenerator\n",
    "import base64\n",
    "\n",
    "gfsg = GenericFeatureStatisticsGenerator()\n",
    "proto = gfsg.ProtoFromDataFrames([{'name': 'train', 'table': train},\n",
    "                                  {'name': 'test', 'table': test}])\n",
    "protostr = base64.b64encode(proto.SerializeToString()).decode(\"utf-8\")"
   ]
  },
  {
   "cell_type": "markdown",
   "metadata": {},
   "source": [
    "Understanding the Visualization\n",
    "\n",
    " The visualization contains two tables: one for numeric features and one for categorical (string) features. Each table contains a row for each feature of that type. The rows contains calculated statistics and charts showing the distribution of values for that feature across the dataset(s).\n",
    " Potentially problematic statistics, such as a feature is missing (has no value) for a large number of the examples in a dataset, are shown in red and bolded."
   ]
  },
  {
   "cell_type": "code",
   "execution_count": null,
   "metadata": {
    "execution": {
     "iopub.execute_input": "2020-10-08T14:28:48.162798Z",
     "iopub.status.busy": "2020-10-08T14:28:48.162607Z",
     "iopub.status.idle": "2020-10-08T14:28:48.173485Z",
     "shell.execute_reply": "2020-10-08T14:28:48.172832Z",
     "shell.execute_reply.started": "2020-10-08T14:28:48.162774Z"
    }
   },
   "outputs": [],
   "source": [
    "# Display the facets overview visualization for this data\n",
    "# A proto can easily be visualized in a Jupyter notebook using the installed nbextension.\n",
    "# The proto is stingified and then provided as input to a facets-overview Polymer web component, via the protoInput property on the element. \n",
    "# The web component is then displayed in output cell of the notebook.\n",
    "from IPython.core.display import display, HTML\n",
    "\n",
    "HTML_TEMPLATE = \"\"\"\n",
    "        <script src=\"https://cdnjs.cloudflare.com/ajax/libs/webcomponentsjs/1.3.3/webcomponents-lite.js\"></script>\n",
    "        <link rel=\"import\" href=\"https://raw.githubusercontent.com/PAIR-code/facets/1.0.0/facets-dist/facets-jupyter.html\" >\n",
    "        <facets-overview id=\"elem\"></facets-overview>\n",
    "        <script>\n",
    "          document.querySelector(\"#elem\").protoInput = \"{protostr}\";\n",
    "        </script>\"\"\"\n",
    "html = HTML_TEMPLATE.format(protostr=protostr)\n",
    "display(HTML(html))"
   ]
  },
  {
   "cell_type": "code",
   "execution_count": null,
   "metadata": {},
   "outputs": [],
   "source": []
  }
 ],
 "metadata": {
  "kernelspec": {
   "display_name": "Python 3",
   "language": "python",
   "name": "python3"
  },
  "language_info": {
   "codemirror_mode": {
    "name": "ipython",
    "version": 3
   },
   "file_extension": ".py",
   "mimetype": "text/x-python",
   "name": "python",
   "nbconvert_exporter": "python",
   "pygments_lexer": "ipython3",
   "version": "3.7.6"
  }
 },
 "nbformat": 4,
 "nbformat_minor": 4
}