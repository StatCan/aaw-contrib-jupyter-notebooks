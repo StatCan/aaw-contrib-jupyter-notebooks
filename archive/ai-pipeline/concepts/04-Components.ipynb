{
 "cells": [
  {
   "cell_type": "markdown",
   "metadata": {},
   "source": [
    "# Writing your own component definition file"
   ],
   "execution_count": null,
   "outputs": []
  },
  {
   "cell_type": "code",
   "execution_count": null,
   "metadata": {},
   "outputs": [],
   "source": [
    "from typing import NamedTuple"
   ]
  },
  {
   "cell_type": "code",
   "execution_count": null,
   "metadata": {},
   "outputs": [],
   "source": [
    "import yaml\n",
    "import kfp\n",
    "from kfp import components\n",
    "from kfp import dsl\n",
    "from kubernetes import client as k8s_client\n",
    "\n",
    "echo_op = kfp.components.load_component_from_file('config/component.yaml')\n",
    "\n",
    "@kfp.dsl.pipeline(\n",
    "    name='Kubeflow - Echo Pipeline', \n",
    "    description='Test to illustrate making components correctly.'\n",
    ")\n",
    "def my_pipeline(echo: str): \n",
    "    dummy1_task = echo_op(\n",
    "        echo=\"Overridden text\"\n",
    "    )\n",
    "    dsl.get_pipeline_conf().set_image_pull_secrets([k8s_client.V1ObjectReference(name=\"k8scc01covidacr-registry-connection\")])\n",
    "\n",
    "kfp.compiler.Compiler().compile(my_pipeline,'my-pipeline.zip')"
   ]
  }
 ],
 "metadata": {
  "kernelspec": {
   "display_name": "Python 3",
   "language": "python",
   "name": "python3"
  },
  "language_info": {
   "codemirror_mode": {
    "name": "ipython",
    "version": 3
   },
   "file_extension": ".py",
   "mimetype": "text/x-python",
   "name": "python",
   "nbconvert_exporter": "python",
   "pygments_lexer": "ipython3",
   "version": "3.7.6"
  }
 },
 "nbformat": 4,
 "nbformat_minor": 4
}