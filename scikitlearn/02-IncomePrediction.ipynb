{
 "cells": [
  {
   "cell_type": "markdown",
   "metadata": {},
   "source": [
    "# Income prediction\n",
    "based on Seldon's implementation\n",
    "https://github.com/SeldonIO/alibi/blob/master/examples/anchor_tabular_adult.ipynb and\n",
    "https://github.com/SeldonIO/alibi/blob/5aec3ab4ce651ca2249bf849ecb434371c9278e4/alibi/datasets.py#L183"
   ]
  },
  {
   "cell_type": "code",
   "execution_count": null,
   "metadata": {},
   "outputs": [],
   "source": [
    "!pip install pandas --upgrade --user\n",
    "!pip install scikit-learn --upgrade --user\n",
    "!pip install alibi --upgrade --user"
   ]
  },
  {
   "cell_type": "code",
   "execution_count": null,
   "metadata": {},
   "outputs": [],
   "source": [
    "import numpy as np\n",
    "import pandas as pd\n",
    "from sklearn.ensemble import RandomForestClassifier\n",
    "from sklearn.compose import ColumnTransformer\n",
    "from sklearn.pipeline import Pipeline\n",
    "from sklearn.impute import SimpleImputer\n",
    "from sklearn.metrics import accuracy_score\n",
    "from sklearn.preprocessing import StandardScaler, OneHotEncoder, LabelEncoder\n",
    "from alibi.explainers import AnchorTabular\n",
    "from alibi.datasets import fetch_adult\n",
    "from alibi.utils.data import Bunch, gen_category_map\n",
    "from typing import Tuple, Union\n",
    "import requests\n",
    "from requests import RequestException\n",
    "from io import BytesIO, StringIO"
   ]
  },
  {
   "cell_type": "markdown",
   "metadata": {},
   "source": [
    "# Fetching and preprocessing data"
   ]
  },
  {
   "cell_type": "code",
   "execution_count": null,
   "metadata": {},
   "outputs": [],
   "source": [
    "def fetch_adult(features_drop: list = None, return_X_y: bool = False, url_id: int = 0) -> Union[Bunch, Tuple[np.ndarray, np.ndarray]]:\n",
    "    \"\"\"\n",
    "    Downloads and pre-processes 'adult' dataset.\n",
    "    More info: http://mlr.cs.umass.edu/ml/machine-learning-databases/adult/\n",
    "    Parameters\n",
    "    ----------\n",
    "    features_drop\n",
    "        List of features to be dropped from dataset, by default drops [\"fnlwgt\", \"Education-Num\"]\n",
    "    return_X_y\n",
    "        If true, return features X and labels y as numpy arrays, if False return a Bunch object\n",
    "    url_id\n",
    "        Index specifying which URL to use for downloading\n",
    "    Returns\n",
    "    -------\n",
    "    Bunch\n",
    "        Dataset, labels, a list of features and a dictionary containing a list with the potential categories\n",
    "        for each categorical feature where the key refers to the feature column.\n",
    "    (data, target)\n",
    "        Tuple if ``return_X_y`` is true\n",
    "    \"\"\"\n",
    "    ADULT_URLS = ['https://storage.googleapis.com/seldon-datasets/adult/adult.data',\n",
    "              'https://archive.ics.uci.edu/ml/machine-learning-databases/adult/adult.data',\n",
    "              'http://mlr.cs.umass.edu/ml/machine-learning-databases/adult/adult.data']\n",
    "    if features_drop is None:\n",
    "        features_drop = [\"fnlwgt\", \"Education-Num\"]\n",
    "\n",
    "    # download data\n",
    "    dataset_url = ADULT_URLS[url_id]\n",
    "    raw_features = ['Age', 'Workclass', 'fnlwgt', 'Education', 'Education-Num', 'Marital Status',\n",
    "                    'Occupation', 'Relationship', 'Race', 'Sex', 'Capital Gain', 'Capital Loss',\n",
    "                    'Hours per week', 'Country', 'Target']\n",
    "    try:\n",
    "        resp = requests.get(dataset_url)\n",
    "        resp.raise_for_status()\n",
    "    except RequestException:\n",
    "        logger.exception(\"Could not connect, URL may be out of service\")\n",
    "        raise\n",
    "\n",
    "    raw_data = pd.read_csv(StringIO(resp.text), names=raw_features, delimiter=', ', engine='python').fillna('?')\n",
    "\n",
    "    # get labels, features and drop unnecessary features\n",
    "    labels = (raw_data['Target'] == '>50K').astype(int).values\n",
    "    features_drop += ['Target']\n",
    "    data = raw_data.drop(features_drop, axis=1)\n",
    "    features = list(data.columns)\n",
    "\n",
    "    # map categorical features\n",
    "    education_map = {\n",
    "        '10th': 'Dropout', '11th': 'Dropout', '12th': 'Dropout', '1st-4th':\n",
    "            'Dropout', '5th-6th': 'Dropout', '7th-8th': 'Dropout', '9th':\n",
    "            'Dropout', 'Preschool': 'Dropout', 'HS-grad': 'High School grad',\n",
    "        'Some-college': 'High School grad', 'Masters': 'Masters',\n",
    "        'Prof-school': 'Prof-School', 'Assoc-acdm': 'Associates',\n",
    "        'Assoc-voc': 'Associates'\n",
    "    }\n",
    "    occupation_map = {\n",
    "        \"Adm-clerical\": \"Admin\", \"Armed-Forces\": \"Military\",\n",
    "        \"Craft-repair\": \"Blue-Collar\", \"Exec-managerial\": \"White-Collar\",\n",
    "        \"Farming-fishing\": \"Blue-Collar\", \"Handlers-cleaners\":\n",
    "            \"Blue-Collar\", \"Machine-op-inspct\": \"Blue-Collar\", \"Other-service\":\n",
    "            \"Service\", \"Priv-house-serv\": \"Service\", \"Prof-specialty\":\n",
    "            \"Professional\", \"Protective-serv\": \"Other\", \"Sales\":\n",
    "            \"Sales\", \"Tech-support\": \"Other\", \"Transport-moving\":\n",
    "            \"Blue-Collar\"\n",
    "    }\n",
    "    country_map = {\n",
    "        'Cambodia': 'SE-Asia', 'Canada': 'British-Commonwealth', 'China':\n",
    "            'China', 'Columbia': 'South-America', 'Cuba': 'Other',\n",
    "        'Dominican-Republic': 'Latin-America', 'Ecuador': 'South-America',\n",
    "        'El-Salvador': 'South-America', 'England': 'British-Commonwealth',\n",
    "        'France': 'Euro_1', 'Germany': 'Euro_1', 'Greece': 'Euro_2',\n",
    "        'Guatemala': 'Latin-America', 'Haiti': 'Latin-America',\n",
    "        'Holand-Netherlands': 'Euro_1', 'Honduras': 'Latin-America',\n",
    "        'Hong': 'China', 'Hungary': 'Euro_2', 'India':\n",
    "            'British-Commonwealth', 'Iran': 'Other', 'Ireland':\n",
    "            'British-Commonwealth', 'Italy': 'Euro_1', 'Jamaica':\n",
    "            'Latin-America', 'Japan': 'Other', 'Laos': 'SE-Asia', 'Mexico':\n",
    "            'Latin-America', 'Nicaragua': 'Latin-America',\n",
    "        'Outlying-US(Guam-USVI-etc)': 'Latin-America', 'Peru':\n",
    "            'South-America', 'Philippines': 'SE-Asia', 'Poland': 'Euro_2',\n",
    "        'Portugal': 'Euro_2', 'Puerto-Rico': 'Latin-America', 'Scotland':\n",
    "            'British-Commonwealth', 'South': 'Euro_2', 'Taiwan': 'China',\n",
    "        'Thailand': 'SE-Asia', 'Trinadad&Tobago': 'Latin-America',\n",
    "        'United-States': 'United-States', 'Vietnam': 'SE-Asia'\n",
    "    }\n",
    "    married_map = {\n",
    "        'Never-married': 'Never-Married', 'Married-AF-spouse': 'Married',\n",
    "        'Married-civ-spouse': 'Married', 'Married-spouse-absent':\n",
    "            'Separated', 'Separated': 'Separated', 'Divorced':\n",
    "            'Separated', 'Widowed': 'Widowed'\n",
    "    }\n",
    "    mapping = {'Education': education_map, 'Occupation': occupation_map, 'Country': country_map,\n",
    "               'Marital Status': married_map}\n",
    "\n",
    "    data_copy = data.copy()\n",
    "    for f, f_map in mapping.items():\n",
    "        data_tmp = data_copy[f].values\n",
    "        for key, value in f_map.items():\n",
    "            data_tmp[data_tmp == key] = value\n",
    "        data[f] = data_tmp\n",
    "\n",
    "    # get categorical features and apply labelencoding\n",
    "    categorical_features = [f for f in features if data[f].dtype == 'O']\n",
    "    category_map = {}\n",
    "    for f in categorical_features:\n",
    "        le = LabelEncoder()\n",
    "        data_tmp = le.fit_transform(data[f].values)\n",
    "        data[f] = data_tmp\n",
    "        category_map[features.index(f)] = list(le.classes_)\n",
    "\n",
    "    # only return data values\n",
    "    data = data.values\n",
    "    target_names = ['<=50K', '>50K']\n",
    "\n",
    "    if return_X_y:\n",
    "        return data, labels\n",
    "\n",
    "    return Bunch(data=data, target=labels, feature_names=features, target_names=target_names, category_map=category_map)"
   ]
  },
  {
   "cell_type": "markdown",
   "metadata": {},
   "source": [
    "# Load adult dataset\n",
    "The fetch_adult function returns a Bunch object containing the features, the targets, the feature names and a mapping of categorical variables to numbers which are required for formatting the output of the Anchor explainer."
   ]
  },
  {
   "cell_type": "code",
   "execution_count": null,
   "metadata": {},
   "outputs": [],
   "source": [
    "adult = fetch_adult()\n",
    "adult.keys()"
   ]
  },
  {
   "cell_type": "code",
   "execution_count": null,
   "metadata": {},
   "outputs": [],
   "source": [
    "data = adult.data\n",
    "target = adult.target\n",
    "feature_names = adult.feature_names\n",
    "category_map = adult.category_map"
   ]
  },
  {
   "cell_type": "markdown",
   "metadata": {},
   "source": [
    "Define shuffled training and test set"
   ]
  },
  {
   "cell_type": "code",
   "execution_count": null,
   "metadata": {},
   "outputs": [],
   "source": [
    "np.random.seed(0)\n",
    "data_perm = np.random.permutation(np.c_[data, target])\n",
    "data = data_perm[:,:-1]\n",
    "target = data_perm[:,-1]\n",
    "idx = 30000\n",
    "X_train,Y_train = data[:idx,:], target[:idx]\n",
    "X_test, Y_test = data[idx+1:,:], target[idx+1:]"
   ]
  },
  {
   "cell_type": "markdown",
   "metadata": {},
   "source": [
    "# Create feature transformation pipeline\n",
    "Create feature pre-processor. Needs to have 'fit' and 'transform' methods. Different types of pre-processing can be applied to all or part of the features. In the example below we will standardize ordinal features and apply one-hot-encoding to categorical features.\n",
    "\n",
    "Ordinal features:"
   ]
  },
  {
   "cell_type": "code",
   "execution_count": null,
   "metadata": {},
   "outputs": [],
   "source": [
    "ordinal_features = [x for x in range(len(feature_names)) if x not in list(category_map.keys())]\n",
    "ordinal_transformer = Pipeline(steps=[('imputer', SimpleImputer(strategy='median')),\n",
    "                                      ('scaler', StandardScaler())])"
   ]
  },
  {
   "cell_type": "markdown",
   "metadata": {},
   "source": [
    "Categorical features:"
   ]
  },
  {
   "cell_type": "code",
   "execution_count": null,
   "metadata": {},
   "outputs": [],
   "source": [
    "categorical_features = list(category_map.keys())\n",
    "categorical_transformer = Pipeline(steps=[('imputer', SimpleImputer(strategy='median')),\n",
    "                                          ('onehot', OneHotEncoder(handle_unknown='ignore'))])"
   ]
  },
  {
   "cell_type": "markdown",
   "metadata": {},
   "source": [
    "Combine and fit:"
   ]
  },
  {
   "cell_type": "code",
   "execution_count": null,
   "metadata": {},
   "outputs": [],
   "source": [
    "preprocessor = ColumnTransformer(transformers=[('num', ordinal_transformer, ordinal_features),\n",
    "                                               ('cat', categorical_transformer, categorical_features)])\n",
    "preprocessor.fit(X_train)"
   ]
  },
  {
   "cell_type": "markdown",
   "metadata": {},
   "source": [
    "# Train Random Forest model\n",
    "Fit on pre-processed (imputing, OHE, standardizing) data."
   ]
  },
  {
   "cell_type": "code",
   "execution_count": null,
   "metadata": {},
   "outputs": [],
   "source": [
    "np.random.seed(0)\n",
    "clf = RandomForestClassifier(n_estimators=50)\n",
    "clf.fit(preprocessor.transform(X_train), Y_train)"
   ]
  },
  {
   "cell_type": "markdown",
   "metadata": {},
   "source": [
    "Define predict function"
   ]
  },
  {
   "cell_type": "code",
   "execution_count": null,
   "metadata": {},
   "outputs": [],
   "source": [
    "predict_fn = lambda x: clf.predict(preprocessor.transform(x))\n",
    "print('Train accuracy: ', accuracy_score(Y_train, predict_fn(X_train)))\n",
    "print('Test accuracy: ', accuracy_score(Y_test, predict_fn(X_test)))"
   ]
  },
  {
   "cell_type": "markdown",
   "metadata": {},
   "source": [
    "# Initialize and fit anchor explainer for tabular data"
   ]
  },
  {
   "cell_type": "code",
   "execution_count": null,
   "metadata": {},
   "outputs": [],
   "source": [
    "explainer = AnchorTabular(predict_fn, feature_names, categorical_names=category_map, seed=1)"
   ]
  },
  {
   "cell_type": "markdown",
   "metadata": {},
   "source": [
    "Discretize the ordinal features into quartiles"
   ]
  },
  {
   "cell_type": "code",
   "execution_count": null,
   "metadata": {},
   "outputs": [],
   "source": [
    "explainer.fit(X_train, disc_perc=[25, 50, 75])"
   ]
  },
  {
   "cell_type": "markdown",
   "metadata": {},
   "source": [
    "# Getting an anchor\n",
    "Below, we get an anchor for the prediction of the first observation in the test set. An anchor is a sufficient condition - that is, when the anchor holds, the prediction should be the same as the prediction for this instance."
   ]
  },
  {
   "cell_type": "code",
   "execution_count": null,
   "metadata": {},
   "outputs": [],
   "source": [
    "idx = 0\n",
    "class_names = adult.target_names\n",
    "print('Prediction: ', class_names[explainer.predictor(X_test[idx].reshape(1, -1))[0]])"
   ]
  },
  {
   "cell_type": "markdown",
   "metadata": {},
   "source": [
    "We set the precision threshold to 0.95. This means that predictions on observations where the anchor holds will be the same as the prediction on the explained instance at least 95% of the time."
   ]
  },
  {
   "cell_type": "code",
   "execution_count": null,
   "metadata": {},
   "outputs": [],
   "source": [
    "explanation = explainer.explain(X_test[idx], threshold=0.95)\n",
    "print('Anchor: %s' % (' AND '.join(explanation.anchor)))\n",
    "print('Precision: %.2f' % explanation.precision)\n",
    "print('Coverage: %.2f' % explanation.coverage)"
   ]
  },
  {
   "cell_type": "markdown",
   "metadata": {},
   "source": [
    "# ...or not?\n",
    "Let's try getting an anchor for a different observation in the test set - one for the which the prediction is >50K."
   ]
  },
  {
   "cell_type": "code",
   "execution_count": null,
   "metadata": {},
   "outputs": [],
   "source": [
    "idx = 6\n",
    "class_names = adult.target_names\n",
    "print('Prediction: ', class_names[explainer.predictor(X_test[idx].reshape(1, -1))[0]])\n",
    "\n",
    "explanation = explainer.explain(X_test[idx], threshold=0.95)\n",
    "print('Anchor: %s' % (' AND '.join(explanation.anchor)))\n",
    "print('Precision: %.2f' % explanation.precision)\n",
    "print('Coverage: %.2f' % explanation.coverage)"
   ]
  },
  {
   "cell_type": "markdown",
   "metadata": {},
   "source": [
    "Notice how no anchor is found!\n",
    "\n",
    "This is due to the imbalanced dataset (roughly 25:75 high:low earner proportion), so during the sampling stage feature ranges corresponding to low-earners will be oversampled. This is a feature because it can point out an imbalanced dataset, but it can also be fixed by producing balanced datasets to enable anchors to be found for either class."
   ]
  }
 ],
 "metadata": {
  "kernelspec": {
   "display_name": "Python 3",
   "language": "python",
   "name": "python3"
  },
  "language_info": {
   "codemirror_mode": {
    "name": "ipython",
    "version": 3
   },
   "file_extension": ".py",
   "mimetype": "text/x-python",
   "name": "python",
   "nbconvert_exporter": "python",
   "pygments_lexer": "ipython3",
   "version": "3.7.6"
  }
 },
 "nbformat": 4,
 "nbformat_minor": 4
}
