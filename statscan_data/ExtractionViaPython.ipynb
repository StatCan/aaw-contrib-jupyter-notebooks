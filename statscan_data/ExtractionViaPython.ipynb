{
 "cells": [
  {
   "cell_type": "markdown",
   "metadata": {},
   "source": [
    "# StatsCan Data Access via Python\n",
    "\n",
    "Leveraging the Statistics Canada Web Data Services available at https://www.statcan.gc.ca/eng/developers/wds."
   ]
  },
  {
   "cell_type": "code",
   "execution_count": 1,
   "metadata": {
    "execution": {
     "iopub.execute_input": "2021-06-16T19:06:18.029115Z",
     "iopub.status.busy": "2021-06-16T19:06:18.028752Z",
     "iopub.status.idle": "2021-06-16T19:07:18.352423Z",
     "shell.execute_reply": "2021-06-16T19:07:18.351536Z",
     "shell.execute_reply.started": "2021-06-16T19:06:18.029041Z"
    }
   },
   "outputs": [
    {
     "name": "stdout",
     "output_type": "stream",
     "text": [
      "Collecting package metadata (current_repodata.json): done\n",
      "Solving environment: done\n",
      "\n",
      "\n",
      "==> WARNING: A newer version of conda exists. <==\n",
      "  current version: 4.10.0\n",
      "  latest version: 4.10.1\n",
      "\n",
      "Please update conda by running\n",
      "\n",
      "    $ conda update -n base conda\n",
      "\n",
      "\n",
      "\n",
      "## Package Plan ##\n",
      "\n",
      "  environment location: /opt/conda\n",
      "\n",
      "  added / updated specs:\n",
      "    - stats_can\n",
      "\n",
      "\n",
      "The following packages will be downloaded:\n",
      "\n",
      "    package                    |            build\n",
      "    ---------------------------|-----------------\n",
      "    ca-certificates-2021.5.30  |       ha878542_0         136 KB  conda-forge\n",
      "    certifi-2021.5.30          |   py38h578d9bd_0         141 KB  conda-forge\n",
      "    stats_can-2.2.3            |             py_1          64 KB  ian.e.preston\n",
      "    ------------------------------------------------------------\n",
      "                                           Total:         341 KB\n",
      "\n",
      "The following NEW packages will be INSTALLED:\n",
      "\n",
      "  stats_can          ian.e.preston/noarch::stats_can-2.2.3-py_1\n",
      "\n",
      "The following packages will be UPDATED:\n",
      "\n",
      "  ca-certificates                      2020.12.5-ha878542_0 --> 2021.5.30-ha878542_0\n",
      "  certifi                          2020.12.5-py38h578d9bd_1 --> 2021.5.30-py38h578d9bd_0\n",
      "\n",
      "\n",
      "\n",
      "Downloading and Extracting Packages\n",
      "stats_can-2.2.3      | 64 KB     | ##################################### | 100% \n",
      "ca-certificates-2021 | 136 KB    | ##################################### | 100% \n",
      "certifi-2021.5.30    | 141 KB    | ##################################### | 100% \n",
      "Preparing transaction: done\n",
      "Verifying transaction: done\n",
      "Executing transaction: done\n"
     ]
    }
   ],
   "source": [
    "!conda install -y --use-local -c ian.e.preston stats_can"
   ]
  },
  {
   "cell_type": "code",
   "execution_count": 2,
   "metadata": {
    "execution": {
     "iopub.execute_input": "2021-06-16T19:07:18.354048Z",
     "iopub.status.busy": "2021-06-16T19:07:18.353818Z",
     "iopub.status.idle": "2021-06-16T19:07:18.983743Z",
     "shell.execute_reply": "2021-06-16T19:07:18.981946Z",
     "shell.execute_reply.started": "2021-06-16T19:07:18.354020Z"
    }
   },
   "outputs": [],
   "source": [
    "from stats_can import StatsCan\n",
    "from stats_can.sc import code_sets_to_df_dict"
   ]
  },
  {
   "cell_type": "code",
   "execution_count": 3,
   "metadata": {
    "execution": {
     "iopub.execute_input": "2021-06-16T19:07:18.985278Z",
     "iopub.status.busy": "2021-06-16T19:07:18.985073Z",
     "iopub.status.idle": "2021-06-16T19:07:18.989298Z",
     "shell.execute_reply": "2021-06-16T19:07:18.988364Z",
     "shell.execute_reply.started": "2021-06-16T19:07:18.985254Z"
    }
   },
   "outputs": [],
   "source": [
    "import os\n",
    "os.makedirs(\"data\", exist_ok=True)\n",
    "sc = StatsCan(data_folder=\"data\")"
   ]
  },
  {
   "cell_type": "markdown",
   "metadata": {},
   "source": [
    "Specify the product ID (PID) to retrieve the table displayed at https://www150.statcan.gc.ca/t1/tbl1/en/tv.action?pid=2710002201"
   ]
  },
  {
   "cell_type": "markdown",
   "metadata": {},
   "source": [
    "> Product Identification number (PID) is a unique product identifier for all Statistics Canada products, including large multidimensional tables. The first two digits refer to a subject, the next two digits refer to product type, the last four digits refer to the product itself."
   ]
  },
  {
   "cell_type": "code",
   "execution_count": 4,
   "metadata": {
    "execution": {
     "iopub.execute_input": "2021-06-16T19:07:18.990893Z",
     "iopub.status.busy": "2021-06-16T19:07:18.990652Z",
     "iopub.status.idle": "2021-06-16T19:07:22.739756Z",
     "shell.execute_reply": "2021-06-16T19:07:22.739063Z",
     "shell.execute_reply.started": "2021-06-16T19:07:18.990869Z"
    }
   },
   "outputs": [
    {
     "name": "stdout",
     "output_type": "stream",
     "text": [
      "Downloading and loading table_27100022\n"
     ]
    }
   ],
   "source": [
    "df = sc.table_to_df(\"271-000-22-01\")"
   ]
  },
  {
   "cell_type": "code",
   "execution_count": 5,
   "metadata": {
    "execution": {
     "iopub.execute_input": "2021-06-16T19:07:22.741083Z",
     "iopub.status.busy": "2021-06-16T19:07:22.740829Z",
     "iopub.status.idle": "2021-06-16T19:07:22.752156Z",
     "shell.execute_reply": "2021-06-16T19:07:22.751495Z",
     "shell.execute_reply.started": "2021-06-16T19:07:22.741042Z"
    }
   },
   "outputs": [
    {
     "data": {
      "text/plain": [
       "Index(['REF_DATE', 'GEO', 'DGUID', 'Performing sector',\n",
       "       'Occupational category', 'Type of science', 'UOM', 'UOM_ID',\n",
       "       'SCALAR_FACTOR', 'SCALAR_ID', 'VECTOR', 'COORDINATE', 'VALUE', 'STATUS',\n",
       "       'SYMBOL', 'TERMINATED', 'DECIMALS'],\n",
       "      dtype='object')"
      ]
     },
     "execution_count": 5,
     "metadata": {},
     "output_type": "execute_result"
    }
   ],
   "source": [
    "df.columns"
   ]
  },
  {
   "cell_type": "code",
   "execution_count": 6,
   "metadata": {
    "execution": {
     "iopub.execute_input": "2021-06-16T19:07:22.753360Z",
     "iopub.status.busy": "2021-06-16T19:07:22.753147Z",
     "iopub.status.idle": "2021-06-16T19:07:22.799645Z",
     "shell.execute_reply": "2021-06-16T19:07:22.798649Z",
     "shell.execute_reply.started": "2021-06-16T19:07:22.753336Z"
    }
   },
   "outputs": [
    {
     "data": {
      "text/html": [
       "<div>\n",
       "<style scoped>\n",
       "    .dataframe tbody tr th:only-of-type {\n",
       "        vertical-align: middle;\n",
       "    }\n",
       "\n",
       "    .dataframe tbody tr th {\n",
       "        vertical-align: top;\n",
       "    }\n",
       "\n",
       "    .dataframe thead th {\n",
       "        text-align: right;\n",
       "    }\n",
       "</style>\n",
       "<table border=\"1\" class=\"dataframe\">\n",
       "  <thead>\n",
       "    <tr style=\"text-align: right;\">\n",
       "      <th></th>\n",
       "      <th>REF_DATE</th>\n",
       "      <th>GEO</th>\n",
       "      <th>DGUID</th>\n",
       "      <th>Performing sector</th>\n",
       "      <th>Occupational category</th>\n",
       "      <th>Type of science</th>\n",
       "      <th>UOM</th>\n",
       "      <th>UOM_ID</th>\n",
       "      <th>SCALAR_FACTOR</th>\n",
       "      <th>SCALAR_ID</th>\n",
       "      <th>VECTOR</th>\n",
       "      <th>COORDINATE</th>\n",
       "      <th>VALUE</th>\n",
       "      <th>STATUS</th>\n",
       "      <th>SYMBOL</th>\n",
       "      <th>TERMINATED</th>\n",
       "      <th>DECIMALS</th>\n",
       "    </tr>\n",
       "  </thead>\n",
       "  <tbody>\n",
       "    <tr>\n",
       "      <th>0</th>\n",
       "      <td>2000-01-01</td>\n",
       "      <td>Canada</td>\n",
       "      <td>2016A000011124</td>\n",
       "      <td>Total performing sector</td>\n",
       "      <td>Total personnel</td>\n",
       "      <td>Total sciences</td>\n",
       "      <td>Number</td>\n",
       "      <td>223</td>\n",
       "      <td>units</td>\n",
       "      <td>0</td>\n",
       "      <td>v54329358</td>\n",
       "      <td>1.1.1.1</td>\n",
       "      <td>167940.0</td>\n",
       "      <td>NaN</td>\n",
       "      <td>NaN</td>\n",
       "      <td>NaN</td>\n",
       "      <td>0</td>\n",
       "    </tr>\n",
       "    <tr>\n",
       "      <th>1</th>\n",
       "      <td>2000-01-01</td>\n",
       "      <td>Canada</td>\n",
       "      <td>2016A000011124</td>\n",
       "      <td>Total performing sector</td>\n",
       "      <td>Total personnel</td>\n",
       "      <td>Natural sciences and engineering</td>\n",
       "      <td>Number</td>\n",
       "      <td>223</td>\n",
       "      <td>units</td>\n",
       "      <td>0</td>\n",
       "      <td>v54329359</td>\n",
       "      <td>1.1.1.2</td>\n",
       "      <td>147290.0</td>\n",
       "      <td>NaN</td>\n",
       "      <td>NaN</td>\n",
       "      <td>t</td>\n",
       "      <td>0</td>\n",
       "    </tr>\n",
       "    <tr>\n",
       "      <th>2</th>\n",
       "      <td>2000-01-01</td>\n",
       "      <td>Canada</td>\n",
       "      <td>2016A000011124</td>\n",
       "      <td>Total performing sector</td>\n",
       "      <td>Total personnel</td>\n",
       "      <td>Social sciences and humanities</td>\n",
       "      <td>Number</td>\n",
       "      <td>223</td>\n",
       "      <td>units</td>\n",
       "      <td>0</td>\n",
       "      <td>v54329360</td>\n",
       "      <td>1.1.1.3</td>\n",
       "      <td>20650.0</td>\n",
       "      <td>NaN</td>\n",
       "      <td>NaN</td>\n",
       "      <td>t</td>\n",
       "      <td>0</td>\n",
       "    </tr>\n",
       "    <tr>\n",
       "      <th>3</th>\n",
       "      <td>2000-01-01</td>\n",
       "      <td>Canada</td>\n",
       "      <td>2016A000011124</td>\n",
       "      <td>Total performing sector</td>\n",
       "      <td>Researchers</td>\n",
       "      <td>Total sciences</td>\n",
       "      <td>Number</td>\n",
       "      <td>223</td>\n",
       "      <td>units</td>\n",
       "      <td>0</td>\n",
       "      <td>v54329361</td>\n",
       "      <td>1.1.2.1</td>\n",
       "      <td>107900.0</td>\n",
       "      <td>NaN</td>\n",
       "      <td>NaN</td>\n",
       "      <td>NaN</td>\n",
       "      <td>0</td>\n",
       "    </tr>\n",
       "    <tr>\n",
       "      <th>4</th>\n",
       "      <td>2000-01-01</td>\n",
       "      <td>Canada</td>\n",
       "      <td>2016A000011124</td>\n",
       "      <td>Total performing sector</td>\n",
       "      <td>Researchers</td>\n",
       "      <td>Natural sciences and engineering</td>\n",
       "      <td>Number</td>\n",
       "      <td>223</td>\n",
       "      <td>units</td>\n",
       "      <td>0</td>\n",
       "      <td>v54329362</td>\n",
       "      <td>1.1.2.2</td>\n",
       "      <td>91590.0</td>\n",
       "      <td>NaN</td>\n",
       "      <td>NaN</td>\n",
       "      <td>t</td>\n",
       "      <td>0</td>\n",
       "    </tr>\n",
       "  </tbody>\n",
       "</table>\n",
       "</div>"
      ],
      "text/plain": [
       "    REF_DATE     GEO           DGUID        Performing sector  \\\n",
       "0 2000-01-01  Canada  2016A000011124  Total performing sector   \n",
       "1 2000-01-01  Canada  2016A000011124  Total performing sector   \n",
       "2 2000-01-01  Canada  2016A000011124  Total performing sector   \n",
       "3 2000-01-01  Canada  2016A000011124  Total performing sector   \n",
       "4 2000-01-01  Canada  2016A000011124  Total performing sector   \n",
       "\n",
       "  Occupational category                   Type of science     UOM UOM_ID  \\\n",
       "0       Total personnel                    Total sciences  Number    223   \n",
       "1       Total personnel  Natural sciences and engineering  Number    223   \n",
       "2       Total personnel    Social sciences and humanities  Number    223   \n",
       "3           Researchers                    Total sciences  Number    223   \n",
       "4           Researchers  Natural sciences and engineering  Number    223   \n",
       "\n",
       "  SCALAR_FACTOR SCALAR_ID     VECTOR COORDINATE     VALUE STATUS SYMBOL  \\\n",
       "0        units          0  v54329358    1.1.1.1  167940.0    NaN    NaN   \n",
       "1        units          0  v54329359    1.1.1.2  147290.0    NaN    NaN   \n",
       "2        units          0  v54329360    1.1.1.3   20650.0    NaN    NaN   \n",
       "3        units          0  v54329361    1.1.2.1  107900.0    NaN    NaN   \n",
       "4        units          0  v54329362    1.1.2.2   91590.0    NaN    NaN   \n",
       "\n",
       "  TERMINATED DECIMALS  \n",
       "0        NaN        0  \n",
       "1          t        0  \n",
       "2          t        0  \n",
       "3        NaN        0  \n",
       "4          t        0  "
      ]
     },
     "execution_count": 6,
     "metadata": {},
     "output_type": "execute_result"
    }
   ],
   "source": [
    "df.head()"
   ]
  },
  {
   "cell_type": "markdown",
   "metadata": {},
   "source": [
    "Exploring the first time series as a specific `VECTOR` is referred to as information along the time axis"
   ]
  },
  {
   "cell_type": "code",
   "execution_count": 7,
   "metadata": {
    "execution": {
     "iopub.execute_input": "2021-06-16T19:07:22.800816Z",
     "iopub.status.busy": "2021-06-16T19:07:22.800619Z",
     "iopub.status.idle": "2021-06-16T19:07:22.833993Z",
     "shell.execute_reply": "2021-06-16T19:07:22.832982Z",
     "shell.execute_reply.started": "2021-06-16T19:07:22.800792Z"
    }
   },
   "outputs": [
    {
     "data": {
      "text/html": [
       "<div>\n",
       "<style scoped>\n",
       "    .dataframe tbody tr th:only-of-type {\n",
       "        vertical-align: middle;\n",
       "    }\n",
       "\n",
       "    .dataframe tbody tr th {\n",
       "        vertical-align: top;\n",
       "    }\n",
       "\n",
       "    .dataframe thead th {\n",
       "        text-align: right;\n",
       "    }\n",
       "</style>\n",
       "<table border=\"1\" class=\"dataframe\">\n",
       "  <thead>\n",
       "    <tr style=\"text-align: right;\">\n",
       "      <th></th>\n",
       "      <th>REF_DATE</th>\n",
       "      <th>GEO</th>\n",
       "      <th>DGUID</th>\n",
       "      <th>Performing sector</th>\n",
       "      <th>Occupational category</th>\n",
       "      <th>Type of science</th>\n",
       "      <th>UOM</th>\n",
       "      <th>UOM_ID</th>\n",
       "      <th>SCALAR_FACTOR</th>\n",
       "      <th>SCALAR_ID</th>\n",
       "      <th>VECTOR</th>\n",
       "      <th>COORDINATE</th>\n",
       "      <th>VALUE</th>\n",
       "      <th>STATUS</th>\n",
       "      <th>SYMBOL</th>\n",
       "      <th>TERMINATED</th>\n",
       "      <th>DECIMALS</th>\n",
       "    </tr>\n",
       "  </thead>\n",
       "  <tbody>\n",
       "    <tr>\n",
       "      <th>1283</th>\n",
       "      <td>2018-01-01</td>\n",
       "      <td>Canada</td>\n",
       "      <td>2016A000011124</td>\n",
       "      <td>Total performing sector</td>\n",
       "      <td>Total personnel</td>\n",
       "      <td>Total sciences</td>\n",
       "      <td>Number</td>\n",
       "      <td>223</td>\n",
       "      <td>units</td>\n",
       "      <td>0</td>\n",
       "      <td>v54329358</td>\n",
       "      <td>1.1.1.1</td>\n",
       "      <td>244450.0</td>\n",
       "      <td>NaN</td>\n",
       "      <td>NaN</td>\n",
       "      <td>NaN</td>\n",
       "      <td>0</td>\n",
       "    </tr>\n",
       "    <tr>\n",
       "      <th>1207</th>\n",
       "      <td>2017-01-01</td>\n",
       "      <td>Canada</td>\n",
       "      <td>2016A000011124</td>\n",
       "      <td>Total performing sector</td>\n",
       "      <td>Total personnel</td>\n",
       "      <td>Total sciences</td>\n",
       "      <td>Number</td>\n",
       "      <td>223</td>\n",
       "      <td>units</td>\n",
       "      <td>0</td>\n",
       "      <td>v54329358</td>\n",
       "      <td>1.1.1.1</td>\n",
       "      <td>237710.0</td>\n",
       "      <td>NaN</td>\n",
       "      <td>NaN</td>\n",
       "      <td>NaN</td>\n",
       "      <td>0</td>\n",
       "    </tr>\n",
       "    <tr>\n",
       "      <th>1122</th>\n",
       "      <td>2016-01-01</td>\n",
       "      <td>Canada</td>\n",
       "      <td>2016A000011124</td>\n",
       "      <td>Total performing sector</td>\n",
       "      <td>Total personnel</td>\n",
       "      <td>Total sciences</td>\n",
       "      <td>Number</td>\n",
       "      <td>223</td>\n",
       "      <td>units</td>\n",
       "      <td>0</td>\n",
       "      <td>v54329358</td>\n",
       "      <td>1.1.1.1</td>\n",
       "      <td>235450.0</td>\n",
       "      <td>NaN</td>\n",
       "      <td>NaN</td>\n",
       "      <td>NaN</td>\n",
       "      <td>0</td>\n",
       "    </tr>\n",
       "    <tr>\n",
       "      <th>1037</th>\n",
       "      <td>2015-01-01</td>\n",
       "      <td>Canada</td>\n",
       "      <td>2016A000011124</td>\n",
       "      <td>Total performing sector</td>\n",
       "      <td>Total personnel</td>\n",
       "      <td>Total sciences</td>\n",
       "      <td>Number</td>\n",
       "      <td>223</td>\n",
       "      <td>units</td>\n",
       "      <td>0</td>\n",
       "      <td>v54329358</td>\n",
       "      <td>1.1.1.1</td>\n",
       "      <td>251960.0</td>\n",
       "      <td>NaN</td>\n",
       "      <td>NaN</td>\n",
       "      <td>NaN</td>\n",
       "      <td>0</td>\n",
       "    </tr>\n",
       "    <tr>\n",
       "      <th>952</th>\n",
       "      <td>2014-01-01</td>\n",
       "      <td>Canada</td>\n",
       "      <td>2016A000011124</td>\n",
       "      <td>Total performing sector</td>\n",
       "      <td>Total personnel</td>\n",
       "      <td>Total sciences</td>\n",
       "      <td>Number</td>\n",
       "      <td>223</td>\n",
       "      <td>units</td>\n",
       "      <td>0</td>\n",
       "      <td>v54329358</td>\n",
       "      <td>1.1.1.1</td>\n",
       "      <td>246100.0</td>\n",
       "      <td>NaN</td>\n",
       "      <td>NaN</td>\n",
       "      <td>NaN</td>\n",
       "      <td>0</td>\n",
       "    </tr>\n",
       "  </tbody>\n",
       "</table>\n",
       "</div>"
      ],
      "text/plain": [
       "       REF_DATE     GEO           DGUID        Performing sector  \\\n",
       "1283 2018-01-01  Canada  2016A000011124  Total performing sector   \n",
       "1207 2017-01-01  Canada  2016A000011124  Total performing sector   \n",
       "1122 2016-01-01  Canada  2016A000011124  Total performing sector   \n",
       "1037 2015-01-01  Canada  2016A000011124  Total performing sector   \n",
       "952  2014-01-01  Canada  2016A000011124  Total performing sector   \n",
       "\n",
       "     Occupational category Type of science     UOM UOM_ID SCALAR_FACTOR  \\\n",
       "1283       Total personnel  Total sciences  Number    223         units   \n",
       "1207       Total personnel  Total sciences  Number    223         units   \n",
       "1122       Total personnel  Total sciences  Number    223         units   \n",
       "1037       Total personnel  Total sciences  Number    223        units    \n",
       "952        Total personnel  Total sciences  Number    223        units    \n",
       "\n",
       "     SCALAR_ID     VECTOR COORDINATE     VALUE STATUS SYMBOL TERMINATED  \\\n",
       "1283         0  v54329358    1.1.1.1  244450.0    NaN    NaN        NaN   \n",
       "1207         0  v54329358    1.1.1.1  237710.0    NaN    NaN        NaN   \n",
       "1122         0  v54329358    1.1.1.1  235450.0    NaN    NaN        NaN   \n",
       "1037         0  v54329358    1.1.1.1  251960.0    NaN    NaN        NaN   \n",
       "952          0  v54329358    1.1.1.1  246100.0    NaN    NaN        NaN   \n",
       "\n",
       "     DECIMALS  \n",
       "1283        0  \n",
       "1207        0  \n",
       "1122        0  \n",
       "1037        0  \n",
       "952         0  "
      ]
     },
     "execution_count": 7,
     "metadata": {},
     "output_type": "execute_result"
    }
   ],
   "source": [
    "df[df['VECTOR']=='v54329358'][::-1].head()"
   ]
  },
  {
   "cell_type": "markdown",
   "metadata": {},
   "source": [
    "> Coordinate is a concatenation of the member ID values for each dimension. One value per dimension. (i.e. \"1.3.1.1.1.1.0.0.0.0\" ) A table PID number combined with a coordinate will identify a unique time series of data points."
   ]
  },
  {
   "cell_type": "code",
   "execution_count": 8,
   "metadata": {
    "execution": {
     "iopub.execute_input": "2021-06-16T19:07:22.836051Z",
     "iopub.status.busy": "2021-06-16T19:07:22.835862Z",
     "iopub.status.idle": "2021-06-16T19:07:22.872171Z",
     "shell.execute_reply": "2021-06-16T19:07:22.871173Z",
     "shell.execute_reply.started": "2021-06-16T19:07:22.836029Z"
    }
   },
   "outputs": [
    {
     "data": {
      "text/html": [
       "<div>\n",
       "<style scoped>\n",
       "    .dataframe tbody tr th:only-of-type {\n",
       "        vertical-align: middle;\n",
       "    }\n",
       "\n",
       "    .dataframe tbody tr th {\n",
       "        vertical-align: top;\n",
       "    }\n",
       "\n",
       "    .dataframe thead th {\n",
       "        text-align: right;\n",
       "    }\n",
       "</style>\n",
       "<table border=\"1\" class=\"dataframe\">\n",
       "  <thead>\n",
       "    <tr style=\"text-align: right;\">\n",
       "      <th></th>\n",
       "      <th>REF_DATE</th>\n",
       "      <th>GEO</th>\n",
       "      <th>DGUID</th>\n",
       "      <th>Performing sector</th>\n",
       "      <th>Occupational category</th>\n",
       "      <th>Type of science</th>\n",
       "      <th>UOM</th>\n",
       "      <th>UOM_ID</th>\n",
       "      <th>SCALAR_FACTOR</th>\n",
       "      <th>SCALAR_ID</th>\n",
       "      <th>VECTOR</th>\n",
       "      <th>COORDINATE</th>\n",
       "      <th>VALUE</th>\n",
       "      <th>STATUS</th>\n",
       "      <th>SYMBOL</th>\n",
       "      <th>TERMINATED</th>\n",
       "      <th>DECIMALS</th>\n",
       "    </tr>\n",
       "  </thead>\n",
       "  <tbody>\n",
       "    <tr>\n",
       "      <th>996</th>\n",
       "      <td>2014-01-01</td>\n",
       "      <td>Canada</td>\n",
       "      <td>2016A000011124</td>\n",
       "      <td>Provincial government</td>\n",
       "      <td>On-site research consultants</td>\n",
       "      <td>Social sciences and humanities</td>\n",
       "      <td>Number</td>\n",
       "      <td>223</td>\n",
       "      <td>units</td>\n",
       "      <td>0</td>\n",
       "      <td>v1039066470</td>\n",
       "      <td>1.3.5.3</td>\n",
       "      <td>NaN</td>\n",
       "      <td>..</td>\n",
       "      <td>NaN</td>\n",
       "      <td>t</td>\n",
       "      <td>0</td>\n",
       "    </tr>\n",
       "    <tr>\n",
       "      <th>1081</th>\n",
       "      <td>2015-01-01</td>\n",
       "      <td>Canada</td>\n",
       "      <td>2016A000011124</td>\n",
       "      <td>Provincial government</td>\n",
       "      <td>On-site research consultants</td>\n",
       "      <td>Social sciences and humanities</td>\n",
       "      <td>Number</td>\n",
       "      <td>223</td>\n",
       "      <td>units</td>\n",
       "      <td>0</td>\n",
       "      <td>v1039066470</td>\n",
       "      <td>1.3.5.3</td>\n",
       "      <td>NaN</td>\n",
       "      <td>..</td>\n",
       "      <td>NaN</td>\n",
       "      <td>t</td>\n",
       "      <td>0</td>\n",
       "    </tr>\n",
       "    <tr>\n",
       "      <th>1166</th>\n",
       "      <td>2016-01-01</td>\n",
       "      <td>Canada</td>\n",
       "      <td>2016A000011124</td>\n",
       "      <td>Provincial government</td>\n",
       "      <td>On-site research consultants</td>\n",
       "      <td>Social sciences and humanities</td>\n",
       "      <td>Number</td>\n",
       "      <td>223</td>\n",
       "      <td>units</td>\n",
       "      <td>0</td>\n",
       "      <td>v1039066470</td>\n",
       "      <td>1.3.5.3</td>\n",
       "      <td>NaN</td>\n",
       "      <td>..</td>\n",
       "      <td>NaN</td>\n",
       "      <td>t</td>\n",
       "      <td>0</td>\n",
       "    </tr>\n",
       "  </tbody>\n",
       "</table>\n",
       "</div>"
      ],
      "text/plain": [
       "       REF_DATE     GEO           DGUID      Performing sector  \\\n",
       "996  2014-01-01  Canada  2016A000011124  Provincial government   \n",
       "1081 2015-01-01  Canada  2016A000011124  Provincial government   \n",
       "1166 2016-01-01  Canada  2016A000011124  Provincial government   \n",
       "\n",
       "              Occupational category                 Type of science     UOM  \\\n",
       "996   On-site research consultants   Social sciences and humanities  Number   \n",
       "1081  On-site research consultants   Social sciences and humanities  Number   \n",
       "1166  On-site research consultants   Social sciences and humanities  Number   \n",
       "\n",
       "     UOM_ID SCALAR_FACTOR SCALAR_ID       VECTOR COORDINATE  VALUE STATUS  \\\n",
       "996     223        units          0  v1039066470    1.3.5.3    NaN     ..   \n",
       "1081    223        units          0  v1039066470    1.3.5.3    NaN     ..   \n",
       "1166    223         units         0  v1039066470    1.3.5.3    NaN     ..   \n",
       "\n",
       "     SYMBOL TERMINATED DECIMALS  \n",
       "996     NaN          t        0  \n",
       "1081    NaN          t        0  \n",
       "1166    NaN          t        0  "
      ]
     },
     "execution_count": 8,
     "metadata": {},
     "output_type": "execute_result"
    }
   ],
   "source": [
    "df[df['COORDINATE']=='1.3.5.3']"
   ]
  },
  {
   "cell_type": "markdown",
   "metadata": {},
   "source": [
    "Retrieving a specific vector"
   ]
  },
  {
   "cell_type": "code",
   "execution_count": 9,
   "metadata": {
    "execution": {
     "iopub.execute_input": "2021-06-16T19:07:22.873646Z",
     "iopub.status.busy": "2021-06-16T19:07:22.873461Z",
     "iopub.status.idle": "2021-06-16T19:07:23.696250Z",
     "shell.execute_reply": "2021-06-16T19:07:23.695050Z",
     "shell.execute_reply.started": "2021-06-16T19:07:22.873624Z"
    }
   },
   "outputs": [],
   "source": [
    "df_vector = sc.vectors_to_df([\"v54329358\"])"
   ]
  },
  {
   "cell_type": "markdown",
   "metadata": {},
   "source": [
    "Getting the meta data for this vector."
   ]
  },
  {
   "cell_type": "code",
   "execution_count": 10,
   "metadata": {
    "execution": {
     "iopub.execute_input": "2021-06-16T19:07:23.697986Z",
     "iopub.status.busy": "2021-06-16T19:07:23.697590Z",
     "iopub.status.idle": "2021-06-16T19:07:23.775410Z",
     "shell.execute_reply": "2021-06-16T19:07:23.774337Z",
     "shell.execute_reply.started": "2021-06-16T19:07:23.697934Z"
    }
   },
   "outputs": [
    {
     "data": {
      "text/plain": [
       "[{'responseStatusCode': 0,\n",
       "  'productId': 27100022,\n",
       "  'coordinate': '1.1.1.1.0.0.0.0.0.0',\n",
       "  'vectorId': 54329358,\n",
       "  'frequencyCode': 12,\n",
       "  'scalarFactorCode': 0,\n",
       "  'decimals': 0,\n",
       "  'terminated': 0,\n",
       "  'SeriesTitleEn': 'Canada;Total performing sector;Total personnel;Total sciences',\n",
       "  'SeriesTitleFr': \"Canada;Total, secteurs d'exécution;Total de personnel;Total des sciences\",\n",
       "  'memberUomCode': 223}]"
      ]
     },
     "execution_count": 10,
     "metadata": {},
     "output_type": "execute_result"
    }
   ],
   "source": [
    "sc.vector_metadata('v54329358')"
   ]
  },
  {
   "cell_type": "markdown",
   "metadata": {},
   "source": [
    "Get list of tables which were updated today."
   ]
  },
  {
   "cell_type": "code",
   "execution_count": 11,
   "metadata": {
    "execution": {
     "iopub.execute_input": "2021-06-16T19:07:23.777366Z",
     "iopub.status.busy": "2021-06-16T19:07:23.777056Z",
     "iopub.status.idle": "2021-06-16T19:07:24.281457Z",
     "shell.execute_reply": "2021-06-16T19:07:24.280749Z",
     "shell.execute_reply.started": "2021-06-16T19:07:23.777328Z"
    }
   },
   "outputs": [
    {
     "data": {
      "text/plain": [
       "[{'responseStatusCode': 0,\n",
       "  'productId': 11100076,\n",
       "  'releaseTime': '2021-06-16T08:30'},\n",
       " {'responseStatusCode': 0,\n",
       "  'productId': 11100077,\n",
       "  'releaseTime': '2021-06-16T08:30'},\n",
       " {'responseStatusCode': 0,\n",
       "  'productId': 11100079,\n",
       "  'releaseTime': '2021-06-16T08:30'},\n",
       " {'responseStatusCode': 0,\n",
       "  'productId': 10100006,\n",
       "  'releaseTime': '2021-06-16T08:30'},\n",
       " {'responseStatusCode': 0,\n",
       "  'productId': 18100001,\n",
       "  'releaseTime': '2021-06-16T08:30'}]"
      ]
     },
     "execution_count": 11,
     "metadata": {},
     "output_type": "execute_result"
    }
   ],
   "source": [
    "sc.tables_updated_today()[:5]"
   ]
  },
  {
   "cell_type": "markdown",
   "metadata": {},
   "source": [
    "or specific date"
   ]
  },
  {
   "cell_type": "code",
   "execution_count": 12,
   "metadata": {
    "execution": {
     "iopub.execute_input": "2021-06-16T19:07:24.282857Z",
     "iopub.status.busy": "2021-06-16T19:07:24.282633Z",
     "iopub.status.idle": "2021-06-16T19:07:24.785849Z",
     "shell.execute_reply": "2021-06-16T19:07:24.785146Z",
     "shell.execute_reply.started": "2021-06-16T19:07:24.282833Z"
    }
   },
   "outputs": [
    {
     "data": {
      "text/plain": [
       "[{'responseStatusCode': 0,\n",
       "  'productId': 36100583,\n",
       "  'releaseTime': '2020-04-29T08:30'},\n",
       " {'responseStatusCode': 0,\n",
       "  'productId': 36100584,\n",
       "  'releaseTime': '2020-04-29T08:30'},\n",
       " {'responseStatusCode': 0,\n",
       "  'productId': 23100006,\n",
       "  'releaseTime': '2020-04-29T08:30'},\n",
       " {'responseStatusCode': 0,\n",
       "  'productId': 23100007,\n",
       "  'releaseTime': '2020-04-29T08:30'},\n",
       " {'responseStatusCode': 0,\n",
       "  'productId': 23100008,\n",
       "  'releaseTime': '2020-04-29T08:30'}]"
      ]
     },
     "execution_count": 12,
     "metadata": {},
     "output_type": "execute_result"
    }
   ],
   "source": [
    "sc.tables_updated_on_date('2020-04-29')[:5]"
   ]
  },
  {
   "cell_type": "code",
   "execution_count": 13,
   "metadata": {
    "execution": {
     "iopub.execute_input": "2021-06-16T19:07:24.787078Z",
     "iopub.status.busy": "2021-06-16T19:07:24.786838Z",
     "iopub.status.idle": "2021-06-16T19:07:25.559026Z",
     "shell.execute_reply": "2021-06-16T19:07:25.558172Z",
     "shell.execute_reply.started": "2021-06-16T19:07:24.787053Z"
    }
   },
   "outputs": [
    {
     "data": {
      "text/html": [
       "<div>\n",
       "<style scoped>\n",
       "    .dataframe tbody tr th:only-of-type {\n",
       "        vertical-align: middle;\n",
       "    }\n",
       "\n",
       "    .dataframe tbody tr th {\n",
       "        vertical-align: top;\n",
       "    }\n",
       "\n",
       "    .dataframe thead th {\n",
       "        text-align: right;\n",
       "    }\n",
       "</style>\n",
       "<table border=\"1\" class=\"dataframe\">\n",
       "  <thead>\n",
       "    <tr style=\"text-align: right;\">\n",
       "      <th></th>\n",
       "      <th>v54329358</th>\n",
       "    </tr>\n",
       "    <tr>\n",
       "      <th>refPer</th>\n",
       "      <th></th>\n",
       "    </tr>\n",
       "  </thead>\n",
       "  <tbody>\n",
       "    <tr>\n",
       "      <th>2011-01-01</th>\n",
       "      <td>239920.0</td>\n",
       "    </tr>\n",
       "    <tr>\n",
       "      <th>2012-01-01</th>\n",
       "      <td>231230.0</td>\n",
       "    </tr>\n",
       "    <tr>\n",
       "      <th>2013-01-01</th>\n",
       "      <td>232910.0</td>\n",
       "    </tr>\n",
       "  </tbody>\n",
       "</table>\n",
       "</div>"
      ],
      "text/plain": [
       "            v54329358\n",
       "refPer               \n",
       "2011-01-01   239920.0\n",
       "2012-01-01   231230.0\n",
       "2013-01-01   232910.0"
      ]
     },
     "execution_count": 13,
     "metadata": {},
     "output_type": "execute_result"
    }
   ],
   "source": [
    "sc.vectors_to_df_remote('v54329358', start_release_date='2015-01-01', end_release_date='2019-01-01')"
   ]
  },
  {
   "cell_type": "markdown",
   "metadata": {},
   "source": [
    "> Gets all code sets which provide additional information to describe information and are grouped into scales, frequencies, symbols etc."
   ]
  },
  {
   "cell_type": "code",
   "execution_count": 14,
   "metadata": {
    "execution": {
     "iopub.execute_input": "2021-06-16T19:07:25.560500Z",
     "iopub.status.busy": "2021-06-16T19:07:25.560280Z",
     "iopub.status.idle": "2021-06-16T19:07:27.043319Z",
     "shell.execute_reply": "2021-06-16T19:07:27.042508Z",
     "shell.execute_reply.started": "2021-06-16T19:07:25.560458Z"
    }
   },
   "outputs": [],
   "source": [
    "codes = code_sets_to_df_dict()"
   ]
  },
  {
   "cell_type": "code",
   "execution_count": 15,
   "metadata": {
    "execution": {
     "iopub.execute_input": "2021-06-16T19:07:27.044523Z",
     "iopub.status.busy": "2021-06-16T19:07:27.044318Z",
     "iopub.status.idle": "2021-06-16T19:07:27.049430Z",
     "shell.execute_reply": "2021-06-16T19:07:27.048662Z",
     "shell.execute_reply.started": "2021-06-16T19:07:27.044498Z"
    }
   },
   "outputs": [
    {
     "data": {
      "text/plain": [
       "dict_keys(['scalar', 'frequency', 'symbol', 'status', 'uom', 'survey', 'subject', 'classificationType', 'securityLevel', 'terminated', 'wdsResponseStatus'])"
      ]
     },
     "execution_count": 15,
     "metadata": {},
     "output_type": "execute_result"
    }
   ],
   "source": [
    "codes.keys()"
   ]
  },
  {
   "cell_type": "code",
   "execution_count": 16,
   "metadata": {
    "execution": {
     "iopub.execute_input": "2021-06-16T19:07:27.050461Z",
     "iopub.status.busy": "2021-06-16T19:07:27.050237Z",
     "iopub.status.idle": "2021-06-16T19:07:27.077085Z",
     "shell.execute_reply": "2021-06-16T19:07:27.076295Z",
     "shell.execute_reply.started": "2021-06-16T19:07:27.050436Z"
    },
    "tags": []
   },
   "outputs": [
    {
     "data": {
      "text/html": [
       "<div>\n",
       "<style scoped>\n",
       "    .dataframe tbody tr th:only-of-type {\n",
       "        vertical-align: middle;\n",
       "    }\n",
       "\n",
       "    .dataframe tbody tr th {\n",
       "        vertical-align: top;\n",
       "    }\n",
       "\n",
       "    .dataframe thead th {\n",
       "        text-align: right;\n",
       "    }\n",
       "</style>\n",
       "<table border=\"1\" class=\"dataframe\">\n",
       "  <thead>\n",
       "    <tr style=\"text-align: right;\">\n",
       "      <th></th>\n",
       "      <th>scalarFactorCode</th>\n",
       "      <th>scalarFactorDescEn</th>\n",
       "      <th>scalarFactorDescFr</th>\n",
       "    </tr>\n",
       "  </thead>\n",
       "  <tbody>\n",
       "    <tr>\n",
       "      <th>0</th>\n",
       "      <td>0</td>\n",
       "      <td>units</td>\n",
       "      <td>unités</td>\n",
       "    </tr>\n",
       "    <tr>\n",
       "      <th>1</th>\n",
       "      <td>1</td>\n",
       "      <td>tens</td>\n",
       "      <td>dizaines</td>\n",
       "    </tr>\n",
       "    <tr>\n",
       "      <th>2</th>\n",
       "      <td>2</td>\n",
       "      <td>hundreds</td>\n",
       "      <td>centaines</td>\n",
       "    </tr>\n",
       "    <tr>\n",
       "      <th>3</th>\n",
       "      <td>3</td>\n",
       "      <td>thousands</td>\n",
       "      <td>milliers</td>\n",
       "    </tr>\n",
       "    <tr>\n",
       "      <th>4</th>\n",
       "      <td>4</td>\n",
       "      <td>tens of thousands</td>\n",
       "      <td>dizaines de milliers</td>\n",
       "    </tr>\n",
       "    <tr>\n",
       "      <th>5</th>\n",
       "      <td>5</td>\n",
       "      <td>hundreds of thousands</td>\n",
       "      <td>centaines de milliers</td>\n",
       "    </tr>\n",
       "    <tr>\n",
       "      <th>6</th>\n",
       "      <td>6</td>\n",
       "      <td>millions</td>\n",
       "      <td>millions</td>\n",
       "    </tr>\n",
       "    <tr>\n",
       "      <th>7</th>\n",
       "      <td>7</td>\n",
       "      <td>tens of millions</td>\n",
       "      <td>dizaines de millions</td>\n",
       "    </tr>\n",
       "    <tr>\n",
       "      <th>8</th>\n",
       "      <td>8</td>\n",
       "      <td>hundreds of millions</td>\n",
       "      <td>centaines de millions</td>\n",
       "    </tr>\n",
       "    <tr>\n",
       "      <th>9</th>\n",
       "      <td>9</td>\n",
       "      <td>billions</td>\n",
       "      <td>milliards</td>\n",
       "    </tr>\n",
       "  </tbody>\n",
       "</table>\n",
       "</div>"
      ],
      "text/plain": [
       "   scalarFactorCode     scalarFactorDescEn     scalarFactorDescFr\n",
       "0                 0                  units                 unités\n",
       "1                 1                   tens               dizaines\n",
       "2                 2               hundreds              centaines\n",
       "3                 3              thousands               milliers\n",
       "4                 4      tens of thousands   dizaines de milliers\n",
       "5                 5  hundreds of thousands  centaines de milliers\n",
       "6                 6               millions               millions\n",
       "7                 7       tens of millions   dizaines de millions\n",
       "8                 8   hundreds of millions  centaines de millions\n",
       "9                 9               billions              milliards"
      ]
     },
     "execution_count": 16,
     "metadata": {},
     "output_type": "execute_result"
    }
   ],
   "source": [
    "codes['scalar']"
   ]
  }
 ],
 "metadata": {
  "kernelspec": {
   "display_name": "Python 3",
   "language": "python",
   "name": "python3"
  },
  "language_info": {
   "codemirror_mode": {
    "name": "ipython",
    "version": 3
   },
   "file_extension": ".py",
   "mimetype": "text/x-python",
   "name": "python",
   "nbconvert_exporter": "python",
   "pygments_lexer": "ipython3",
   "version": "3.8.8"
  }
 },
 "nbformat": 4,
 "nbformat_minor": 4
}
