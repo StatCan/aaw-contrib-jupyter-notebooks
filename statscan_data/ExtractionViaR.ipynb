{
 "cells": [
  {
   "cell_type": "markdown",
   "metadata": {},
   "source": [
    "# StatsCan Data Access with R\n",
    "\n",
    "Using the [cansim](https://mountainmath.github.io/cansim/index.html) package.\n",
    "\n",
    "***Note:*** There are certain cells that only work in RStudio\n"
   ]
  },
  {
   "cell_type": "code",
   "execution_count": 1,
   "metadata": {
    "execution": {
     "iopub.execute_input": "2021-06-16T19:08:05.811862Z",
     "iopub.status.busy": "2021-06-16T19:08:05.808291Z",
     "iopub.status.idle": "2021-06-16T19:08:26.019501Z",
     "shell.execute_reply": "2021-06-16T19:08:26.017871Z"
    }
   },
   "outputs": [
    {
     "name": "stderr",
     "output_type": "stream",
     "text": [
      "Updating HTML index of packages in '.Library'\n",
      "\n",
      "Making 'packages.html' ...\n",
      " done\n",
      "\n"
     ]
    }
   ],
   "source": [
    "install.packages(\"cansim\")"
   ]
  },
  {
   "cell_type": "code",
   "execution_count": 2,
   "metadata": {
    "execution": {
     "iopub.execute_input": "2021-06-16T19:08:26.076859Z",
     "iopub.status.busy": "2021-06-16T19:08:26.038543Z",
     "iopub.status.idle": "2021-06-16T19:08:26.540486Z",
     "shell.execute_reply": "2021-06-16T19:08:26.539061Z"
    }
   },
   "outputs": [],
   "source": [
    "library(\"cansim\")"
   ]
  },
  {
   "cell_type": "markdown",
   "metadata": {},
   "source": [
    "> Product Identification number (PID) is a unique product identifier for all Statistics Canada products, including large multidimensional tables. The first two digits refer to a subject, the next two digits refer to product type, the last four digits refer to the product itself."
   ]
  },
  {
   "cell_type": "markdown",
   "metadata": {},
   "source": [
    "Specify the product ID (PID) to retrieve the table displayed at https://www150.statcan.gc.ca/t1/tbl1/en/tv.action?pid=2710002201\n",
    "\n",
    "***Note:*** The two cells below only work in RStudio, so to see them in action head over to RStudio\n"
   ]
  },
  {
   "cell_type": "code",
   "execution_count": 5,
   "metadata": {
    "execution": {
     "iopub.execute_input": "2021-06-16T19:17:20.406824Z",
     "iopub.status.busy": "2021-06-16T19:17:20.405606Z",
     "iopub.status.idle": "2021-06-16T19:17:20.440896Z",
     "shell.execute_reply": "2021-06-16T19:17:20.439236Z"
    },
    "tags": []
   },
   "outputs": [
    {
     "name": "stderr",
     "output_type": "stream",
     "text": [
      "Accessing CANSIM NDM product 27-10-0022 from Statistics Canada\n",
      "\n"
     ]
    },
    {
     "ename": "ERROR",
     "evalue": "Error in utils::unzip(path, exdir = exdir, unzip = uzp): 'unzip' must be a single character string\n",
     "output_type": "error",
     "traceback": [
      "Error in utils::unzip(path, exdir = exdir, unzip = uzp): 'unzip' must be a single character string\nTraceback:\n",
      "1. get_cansim(\"271-000-22\")",
      "2. utils::unzip(path, exdir = exdir, unzip = uzp)",
      "3. stop(\"'unzip' must be a single character string\")"
     ]
    }
   ],
   "source": [
    "table <- get_cansim(\"271-000-22\")"
   ]
  },
  {
   "cell_type": "code",
   "execution_count": 6,
   "metadata": {
    "execution": {
     "iopub.execute_input": "2021-06-16T19:17:21.194569Z",
     "iopub.status.busy": "2021-06-16T19:17:21.192974Z",
     "iopub.status.idle": "2021-06-16T19:17:21.211560Z",
     "shell.execute_reply": "2021-06-16T19:17:21.209710Z"
    }
   },
   "outputs": [
    {
     "data": {
      "text/plain": [
       "                                                          \n",
       "103     if (length(bin))                                  \n",
       "104         bin <- bin + 1L                               \n",
       "105     y <- array(tabulate(bin, pd), dims, dimnames = dn)\n",
       "106     class(y) <- \"table\"                               \n",
       "107     y                                                 \n",
       "108 }                                                     "
      ]
     },
     "metadata": {},
     "output_type": "display_data"
    }
   ],
   "source": [
    "tail(table)"
   ]
  },
  {
   "cell_type": "markdown",
   "metadata": {},
   "source": [
    "Exploring a time series as a specific `VECTOR` is referred to as information along the time axis."
   ]
  },
  {
   "cell_type": "code",
   "execution_count": 8,
   "metadata": {
    "execution": {
     "iopub.execute_input": "2021-06-16T19:17:26.107830Z",
     "iopub.status.busy": "2021-06-16T19:17:26.100459Z",
     "iopub.status.idle": "2021-06-16T19:17:26.156180Z",
     "shell.execute_reply": "2021-06-16T19:17:26.154366Z"
    },
    "tags": []
   },
   "outputs": [
    {
     "name": "stderr",
     "output_type": "stream",
     "text": [
      "Reading CANSIM NDM vectors from temporary cache\n",
      "\n"
     ]
    },
    {
     "data": {
      "text/html": [
       "<table class=\"dataframe\">\n",
       "<caption>A tibble: 6 × 11</caption>\n",
       "<thead>\n",
       "\t<tr><th scope=col>DECIMALS</th><th scope=col>VALUE</th><th scope=col>REF_DATE</th><th scope=col>releaseTime</th><th scope=col>SYMBOL</th><th scope=col>frequencyCode</th><th scope=col>SCALAR_ID</th><th scope=col>COORDINATE</th><th scope=col>VECTOR</th><th scope=col>val_norm</th><th scope=col>Date</th></tr>\n",
       "\t<tr><th scope=col>&lt;int&gt;</th><th scope=col>&lt;dbl&gt;</th><th scope=col>&lt;chr&gt;</th><th scope=col>&lt;chr&gt;</th><th scope=col>&lt;int&gt;</th><th scope=col>&lt;int&gt;</th><th scope=col>&lt;int&gt;</th><th scope=col>&lt;chr&gt;</th><th scope=col>&lt;chr&gt;</th><th scope=col>&lt;dbl&gt;</th><th scope=col>&lt;date&gt;</th></tr>\n",
       "</thead>\n",
       "<tbody>\n",
       "\t<tr><td>0</td><td>232910</td><td>2013-01-01</td><td>2018-07-30T08:30</td><td>0</td><td>12</td><td>0</td><td>1.1.1.1.0.0.0.0.0.0</td><td>v54329358</td><td>232910</td><td>2013-01-01</td></tr>\n",
       "\t<tr><td>0</td><td>246100</td><td>2014-01-01</td><td>2019-02-25T08:30</td><td>0</td><td>12</td><td>0</td><td>1.1.1.1.0.0.0.0.0.0</td><td>v54329358</td><td>246100</td><td>2014-01-01</td></tr>\n",
       "\t<tr><td>0</td><td>251960</td><td>2015-01-01</td><td>2019-02-25T08:30</td><td>0</td><td>12</td><td>0</td><td>1.1.1.1.0.0.0.0.0.0</td><td>v54329358</td><td>251960</td><td>2015-01-01</td></tr>\n",
       "\t<tr><td>0</td><td>235450</td><td>2016-01-01</td><td>2020-03-03T08:30</td><td>0</td><td>12</td><td>0</td><td>1.1.1.1.0.0.0.0.0.0</td><td>v54329358</td><td>235450</td><td>2016-01-01</td></tr>\n",
       "\t<tr><td>0</td><td>237710</td><td>2017-01-01</td><td>2021-04-15T08:30</td><td>0</td><td>12</td><td>0</td><td>1.1.1.1.0.0.0.0.0.0</td><td>v54329358</td><td>237710</td><td>2017-01-01</td></tr>\n",
       "\t<tr><td>0</td><td>244450</td><td>2018-01-01</td><td>2021-04-15T08:30</td><td>0</td><td>12</td><td>0</td><td>1.1.1.1.0.0.0.0.0.0</td><td>v54329358</td><td>244450</td><td>2018-01-01</td></tr>\n",
       "</tbody>\n",
       "</table>\n"
      ],
      "text/latex": [
       "A tibble: 6 × 11\n",
       "\\begin{tabular}{lllllllllll}\n",
       " DECIMALS & VALUE & REF\\_DATE & releaseTime & SYMBOL & frequencyCode & SCALAR\\_ID & COORDINATE & VECTOR & val\\_norm & Date\\\\\n",
       " <int> & <dbl> & <chr> & <chr> & <int> & <int> & <int> & <chr> & <chr> & <dbl> & <date>\\\\\n",
       "\\hline\n",
       "\t 0 & 232910 & 2013-01-01 & 2018-07-30T08:30 & 0 & 12 & 0 & 1.1.1.1.0.0.0.0.0.0 & v54329358 & 232910 & 2013-01-01\\\\\n",
       "\t 0 & 246100 & 2014-01-01 & 2019-02-25T08:30 & 0 & 12 & 0 & 1.1.1.1.0.0.0.0.0.0 & v54329358 & 246100 & 2014-01-01\\\\\n",
       "\t 0 & 251960 & 2015-01-01 & 2019-02-25T08:30 & 0 & 12 & 0 & 1.1.1.1.0.0.0.0.0.0 & v54329358 & 251960 & 2015-01-01\\\\\n",
       "\t 0 & 235450 & 2016-01-01 & 2020-03-03T08:30 & 0 & 12 & 0 & 1.1.1.1.0.0.0.0.0.0 & v54329358 & 235450 & 2016-01-01\\\\\n",
       "\t 0 & 237710 & 2017-01-01 & 2021-04-15T08:30 & 0 & 12 & 0 & 1.1.1.1.0.0.0.0.0.0 & v54329358 & 237710 & 2017-01-01\\\\\n",
       "\t 0 & 244450 & 2018-01-01 & 2021-04-15T08:30 & 0 & 12 & 0 & 1.1.1.1.0.0.0.0.0.0 & v54329358 & 244450 & 2018-01-01\\\\\n",
       "\\end{tabular}\n"
      ],
      "text/markdown": [
       "\n",
       "A tibble: 6 × 11\n",
       "\n",
       "| DECIMALS &lt;int&gt; | VALUE &lt;dbl&gt; | REF_DATE &lt;chr&gt; | releaseTime &lt;chr&gt; | SYMBOL &lt;int&gt; | frequencyCode &lt;int&gt; | SCALAR_ID &lt;int&gt; | COORDINATE &lt;chr&gt; | VECTOR &lt;chr&gt; | val_norm &lt;dbl&gt; | Date &lt;date&gt; |\n",
       "|---|---|---|---|---|---|---|---|---|---|---|\n",
       "| 0 | 232910 | 2013-01-01 | 2018-07-30T08:30 | 0 | 12 | 0 | 1.1.1.1.0.0.0.0.0.0 | v54329358 | 232910 | 2013-01-01 |\n",
       "| 0 | 246100 | 2014-01-01 | 2019-02-25T08:30 | 0 | 12 | 0 | 1.1.1.1.0.0.0.0.0.0 | v54329358 | 246100 | 2014-01-01 |\n",
       "| 0 | 251960 | 2015-01-01 | 2019-02-25T08:30 | 0 | 12 | 0 | 1.1.1.1.0.0.0.0.0.0 | v54329358 | 251960 | 2015-01-01 |\n",
       "| 0 | 235450 | 2016-01-01 | 2020-03-03T08:30 | 0 | 12 | 0 | 1.1.1.1.0.0.0.0.0.0 | v54329358 | 235450 | 2016-01-01 |\n",
       "| 0 | 237710 | 2017-01-01 | 2021-04-15T08:30 | 0 | 12 | 0 | 1.1.1.1.0.0.0.0.0.0 | v54329358 | 237710 | 2017-01-01 |\n",
       "| 0 | 244450 | 2018-01-01 | 2021-04-15T08:30 | 0 | 12 | 0 | 1.1.1.1.0.0.0.0.0.0 | v54329358 | 244450 | 2018-01-01 |\n",
       "\n"
      ],
      "text/plain": [
       "  DECIMALS VALUE  REF_DATE   releaseTime      SYMBOL frequencyCode SCALAR_ID\n",
       "1 0        232910 2013-01-01 2018-07-30T08:30 0      12            0        \n",
       "2 0        246100 2014-01-01 2019-02-25T08:30 0      12            0        \n",
       "3 0        251960 2015-01-01 2019-02-25T08:30 0      12            0        \n",
       "4 0        235450 2016-01-01 2020-03-03T08:30 0      12            0        \n",
       "5 0        237710 2017-01-01 2021-04-15T08:30 0      12            0        \n",
       "6 0        244450 2018-01-01 2021-04-15T08:30 0      12            0        \n",
       "  COORDINATE          VECTOR    val_norm Date      \n",
       "1 1.1.1.1.0.0.0.0.0.0 v54329358 232910   2013-01-01\n",
       "2 1.1.1.1.0.0.0.0.0.0 v54329358 246100   2014-01-01\n",
       "3 1.1.1.1.0.0.0.0.0.0 v54329358 251960   2015-01-01\n",
       "4 1.1.1.1.0.0.0.0.0.0 v54329358 235450   2016-01-01\n",
       "5 1.1.1.1.0.0.0.0.0.0 v54329358 237710   2017-01-01\n",
       "6 1.1.1.1.0.0.0.0.0.0 v54329358 244450   2018-01-01"
      ]
     },
     "metadata": {},
     "output_type": "display_data"
    }
   ],
   "source": [
    "# 2013-01-01 is date from which on the data is provided\n",
    "get_cansim_vector(\"v54329358\",\"2013-01-01\")"
   ]
  },
  {
   "cell_type": "markdown",
   "metadata": {},
   "source": [
    "Getting the meta data of the vector."
   ]
  },
  {
   "cell_type": "code",
   "execution_count": 9,
   "metadata": {
    "execution": {
     "iopub.execute_input": "2021-06-16T19:17:26.738991Z",
     "iopub.status.busy": "2021-06-16T19:17:26.737659Z",
     "iopub.status.idle": "2021-06-16T19:17:27.404285Z",
     "shell.execute_reply": "2021-06-16T19:17:27.403006Z"
    }
   },
   "outputs": [
    {
     "data": {
      "text/html": [
       "<table class=\"dataframe\">\n",
       "<caption>A tibble: 1 × 10</caption>\n",
       "<thead>\n",
       "\t<tr><th scope=col>DECIMALS</th><th scope=col>VECTOR</th><th scope=col>table</th><th scope=col>COORDINATE</th><th scope=col>title_en</th><th scope=col>title_fr</th><th scope=col>UOM</th><th scope=col>frequencyCode</th><th scope=col>SCALAR_ID</th><th scope=col>title</th></tr>\n",
       "\t<tr><th scope=col>&lt;int&gt;</th><th scope=col>&lt;chr&gt;</th><th scope=col>&lt;chr&gt;</th><th scope=col>&lt;chr&gt;</th><th scope=col>&lt;chr&gt;</th><th scope=col>&lt;chr&gt;</th><th scope=col>&lt;int&gt;</th><th scope=col>&lt;int&gt;</th><th scope=col>&lt;int&gt;</th><th scope=col>&lt;chr&gt;</th></tr>\n",
       "</thead>\n",
       "<tbody>\n",
       "\t<tr><td>0</td><td>v54329358</td><td>27-10-0022</td><td>1.1.1.1.0.0.0.0.0.0</td><td>Canada;Total performing sector;Total personnel;Total sciences</td><td>Canada;Total, secteurs d'exécution;Total de personnel;Total des sciences</td><td>223</td><td>12</td><td>0</td><td>Canada;Total performing sector;Total personnel;Total sciences</td></tr>\n",
       "</tbody>\n",
       "</table>\n"
      ],
      "text/latex": [
       "A tibble: 1 × 10\n",
       "\\begin{tabular}{llllllllll}\n",
       " DECIMALS & VECTOR & table & COORDINATE & title\\_en & title\\_fr & UOM & frequencyCode & SCALAR\\_ID & title\\\\\n",
       " <int> & <chr> & <chr> & <chr> & <chr> & <chr> & <int> & <int> & <int> & <chr>\\\\\n",
       "\\hline\n",
       "\t 0 & v54329358 & 27-10-0022 & 1.1.1.1.0.0.0.0.0.0 & Canada;Total performing sector;Total personnel;Total sciences & Canada;Total, secteurs d'exécution;Total de personnel;Total des sciences & 223 & 12 & 0 & Canada;Total performing sector;Total personnel;Total sciences\\\\\n",
       "\\end{tabular}\n"
      ],
      "text/markdown": [
       "\n",
       "A tibble: 1 × 10\n",
       "\n",
       "| DECIMALS &lt;int&gt; | VECTOR &lt;chr&gt; | table &lt;chr&gt; | COORDINATE &lt;chr&gt; | title_en &lt;chr&gt; | title_fr &lt;chr&gt; | UOM &lt;int&gt; | frequencyCode &lt;int&gt; | SCALAR_ID &lt;int&gt; | title &lt;chr&gt; |\n",
       "|---|---|---|---|---|---|---|---|---|---|\n",
       "| 0 | v54329358 | 27-10-0022 | 1.1.1.1.0.0.0.0.0.0 | Canada;Total performing sector;Total personnel;Total sciences | Canada;Total, secteurs d'exécution;Total de personnel;Total des sciences | 223 | 12 | 0 | Canada;Total performing sector;Total personnel;Total sciences |\n",
       "\n"
      ],
      "text/plain": [
       "  DECIMALS VECTOR    table      COORDINATE         \n",
       "1 0        v54329358 27-10-0022 1.1.1.1.0.0.0.0.0.0\n",
       "  title_en                                                     \n",
       "1 Canada;Total performing sector;Total personnel;Total sciences\n",
       "  title_fr                                                                 UOM\n",
       "1 Canada;Total, secteurs d'exécution;Total de personnel;Total des sciences 223\n",
       "  frequencyCode SCALAR_ID\n",
       "1 12            0        \n",
       "  title                                                        \n",
       "1 Canada;Total performing sector;Total personnel;Total sciences"
      ]
     },
     "metadata": {},
     "output_type": "display_data"
    }
   ],
   "source": [
    "get_cansim_vector_info(\"v54329358\")"
   ]
  },
  {
   "cell_type": "markdown",
   "metadata": {},
   "source": [
    "Finally, let's get a list of tables:"
   ]
  },
  {
   "cell_type": "code",
   "execution_count": 10,
   "metadata": {
    "execution": {
     "iopub.execute_input": "2021-06-16T19:17:29.923771Z",
     "iopub.status.busy": "2021-06-16T19:17:29.922285Z",
     "iopub.status.idle": "2021-06-16T19:17:30.123394Z",
     "shell.execute_reply": "2021-06-16T19:17:30.122263Z"
    }
   },
   "outputs": [
    {
     "data": {
      "text/html": [
       "<table class=\"dataframe\">\n",
       "<caption>A tibble: 6 × 21</caption>\n",
       "<thead>\n",
       "\t<tr><th scope=col>title</th><th scope=col>title_en</th><th scope=col>title_fr</th><th scope=col>keywords_en</th><th scope=col>keywords</th><th scope=col>keywords_fr</th><th scope=col>notes</th><th scope=col>notes_en</th><th scope=col>notes_fr</th><th scope=col>state</th><th scope=col>⋯</th><th scope=col>date_published</th><th scope=col>frequency</th><th scope=col>revision_id</th><th scope=col>time_period_coverage_start</th><th scope=col>time_period_coverage_end</th><th scope=col>metadata_created</th><th scope=col>metadata_modified</th><th scope=col>url_en</th><th scope=col>url_fr</th><th scope=col>cansim_table_number</th></tr>\n",
       "\t<tr><th scope=col>&lt;chr&gt;</th><th scope=col>&lt;chr&gt;</th><th scope=col>&lt;chr&gt;</th><th scope=col>&lt;chr&gt;</th><th scope=col>&lt;chr&gt;</th><th scope=col>&lt;chr&gt;</th><th scope=col>&lt;chr&gt;</th><th scope=col>&lt;chr&gt;</th><th scope=col>&lt;chr&gt;</th><th scope=col>&lt;chr&gt;</th><th scope=col>⋯</th><th scope=col>&lt;chr&gt;</th><th scope=col>&lt;chr&gt;</th><th scope=col>&lt;chr&gt;</th><th scope=col>&lt;chr&gt;</th><th scope=col>&lt;chr&gt;</th><th scope=col>&lt;chr&gt;</th><th scope=col>&lt;chr&gt;</th><th scope=col>&lt;chr&gt;</th><th scope=col>&lt;chr&gt;</th><th scope=col>&lt;chr&gt;</th></tr>\n",
       "</thead>\n",
       "<tbody>\n",
       "\t<tr><td><span style=white-space:pre-wrap>Weekly rail system performance indicators, by commodities, Transport Canada    </span></td><td><span style=white-space:pre-wrap>Weekly rail system performance indicators, by commodities, Transport Canada    </span></td><td>Indicateurs hebdomadaires de performance du système ferroviaire, par marchandises, Transports Canada</td><td><span style=white-space:pre-wrap>rail transportation, table, transportation                                                                                                                  </span></td><td><span style=white-space:pre-wrap>rail transportation, table, transportation                                                                                                                  </span></td><td><span style=white-space:pre-wrap>rail transportation, table, transportation                                                                                                                  </span></td><td><span style=white-space:pre-wrap>&lt;p&gt;This product presents statistics on the rail performance of 4 companies, by selected commodities, on a weekly basis, starting with the reference period of November 24-30, 2018.&lt;/p&gt;                                                                                                                                                                                                                                                            </span></td><td><span style=white-space:pre-wrap>&lt;p&gt;This product presents statistics on the rail performance of 4 companies, by selected commodities, on a weekly basis, starting with the reference period of November 24-30, 2018.&lt;/p&gt;                                                                                                                                                                                                                                                            </span></td><td><span style=white-space:pre-wrap>&lt;p&gt;Ce produit présente des statistiques sur la performance ferroviaire de 4 compagnies, par marchandises sélectionnées, sur une base hebdomadaire, à partir de la période de référence du 24-30 novembre 2018.&lt;br&gt;&lt;br&gt;&lt;/p&gt;                                                                                                                                                                                                                                                                                                                   </span></td><td>active</td><td>⋯</td><td>2021-05-21 08:30:00</td><td>P1W</td><td>5c92f131-71ce-4553-9528-2ea2f60f919f</td><td>2018-11-24 00:00:00</td><td>2021-05-08 00:00:00</td><td>2018-12-14T18:20:46.242165</td><td>2021-05-24T12:39:55.736262</td><td>https://www150.statcan.gc.ca/n1/tbl/csv/23100276-eng.zip</td><td>https://www150.statcan.gc.ca/n1/tbl/csv/23100276-fra.zip</td><td>23-10-0276</td></tr>\n",
       "\t<tr><td>Weekly rail system performance indicator, by type of rail car, Transport Canada</td><td>Weekly rail system performance indicator, by type of rail car, Transport Canada</td><td>Indicateur hebdomadaire de performance du système ferroviaire, par type de wagon, Transports Canada </td><td><span style=white-space:pre-wrap>rail transportation, table, transportation                                                                                                                  </span></td><td><span style=white-space:pre-wrap>rail transportation, table, transportation                                                                                                                  </span></td><td><span style=white-space:pre-wrap>rail transportation, table, transportation                                                                                                                  </span></td><td><span style=white-space:pre-wrap>&lt;p&gt;This product presents statistics on the rail performance of 4 companies, by type of rail car, on a weekly basis, starting with the reference period of November 24-30, 2018.&lt;/p&gt;                                                                                                                                                                                                                                                                </span></td><td><span style=white-space:pre-wrap>&lt;p&gt;This product presents statistics on the rail performance of 4 companies, by type of rail car, on a weekly basis, starting with the reference period of November 24-30, 2018.&lt;/p&gt;                                                                                                                                                                                                                                                                </span></td><td><span style=white-space:pre-wrap>&lt;p&gt;Ce produit présente des statistiques sur la performance ferroviaire de 4 compagnies, par type de wagon, sur une base hebdomadaire, à partir de la période de référence du 24-30 novembre 2018.&lt;/p&gt;                                                                                                                                                                                                                                                                                                                                        </span></td><td>active</td><td>⋯</td><td>2021-05-21 08:30:00</td><td>P1W</td><td>07b441d8-c546-48a0-b555-86dbe43e6a06</td><td>2018-11-24 00:00:00</td><td>2021-05-08 00:00:00</td><td>2018-12-14T18:20:36.330575</td><td>2021-05-24T12:39:52.652414</td><td>https://www150.statcan.gc.ca/n1/tbl/csv/23100277-eng.zip</td><td>https://www150.statcan.gc.ca/n1/tbl/csv/23100277-fra.zip</td><td>23-10-0277</td></tr>\n",
       "\t<tr><td><span style=white-space:pre-wrap>Weekly rail terminal performance indicator, Transport Canada                   </span></td><td><span style=white-space:pre-wrap>Weekly rail terminal performance indicator, Transport Canada                   </span></td><td><span style=white-space:pre-wrap>Indicateur hebdomadaire de performance des terminaux ferroviaires, Transports Canada                </span></td><td><span style=white-space:pre-wrap>rail transportation, table, transportation                                                                                                                  </span></td><td><span style=white-space:pre-wrap>rail transportation, table, transportation                                                                                                                  </span></td><td><span style=white-space:pre-wrap>rail transportation, table, transportation                                                                                                                  </span></td><td><span style=white-space:pre-wrap>&lt;p&gt;This product presents statistics on the rail terminal performance of 4 companies, by selected terminals, on a weekly basis, starting with the reference period of November 24-30, 2018.&lt;/p&gt;                                                                                                                                                                                                                                                     </span></td><td><span style=white-space:pre-wrap>&lt;p&gt;This product presents statistics on the rail terminal performance of 4 companies, by selected terminals, on a weekly basis, starting with the reference period of November 24-30, 2018.&lt;/p&gt;                                                                                                                                                                                                                                                     </span></td><td><span style=white-space:pre-wrap>&lt;p&gt;Ce produit présente des statistiques sur la performance des terminaux ferroviaires de 4 compagnies, par terminaux sélectionnés, sur une base hebdomadaire, à partir de la période de référence du 24-30 novembre 2018.&lt;br&gt;&lt;/p&gt;                                                                                                                                                                                                                                                                                                            </span></td><td>active</td><td>⋯</td><td>2021-05-21 08:30:00</td><td>P1W</td><td>be0c4aef-0551-4b8c-85c2-277a689a4fee</td><td>2018-11-24 00:00:00</td><td>2021-05-08 00:00:00</td><td>2018-12-14T18:20:30.885671</td><td>2021-05-24T12:39:49.561368</td><td>https://www150.statcan.gc.ca/n1/tbl/csv/23100274-eng.zip</td><td>https://www150.statcan.gc.ca/n1/tbl/csv/23100274-fra.zip</td><td>23-10-0274</td></tr>\n",
       "\t<tr><td>Weekly performance indicators of grain transportation by rail, Transport Canada</td><td>Weekly performance indicators of grain transportation by rail, Transport Canada</td><td><span style=white-space:pre-wrap>Indicateurs hebdomadaires de performance du transport du grain par rail, Transports Canada          </span></td><td><span style=white-space:pre-wrap>rail transportation, table, transportation                                                                                                                  </span></td><td><span style=white-space:pre-wrap>rail transportation, table, transportation                                                                                                                  </span></td><td><span style=white-space:pre-wrap>rail transportation, table, transportation                                                                                                                  </span></td><td><span style=white-space:pre-wrap>&lt;p&gt;This product presents statistics on transportation of grain by 4 rail companies, by number of cars and orders, on a weekly basis, starting with the reference period of November 24-30, 2018.&lt;/p&gt;                                                                                                                                                                                                                                               </span></td><td><span style=white-space:pre-wrap>&lt;p&gt;This product presents statistics on transportation of grain by 4 rail companies, by number of cars and orders, on a weekly basis, starting with the reference period of November 24-30, 2018.&lt;/p&gt;                                                                                                                                                                                                                                               </span></td><td><span style=white-space:pre-wrap>&lt;p&gt;Ce produit présente des statistiques sur le transport du grain par 4 compagnies ferroviaires, selon le nombre de wagons et le nombre de commandes, sur une base hebdomadaire, à partir de la période de référence du 24-30 novembre 2018.&lt;/p&gt;                                                                                                                                                                                                                                                                                             </span></td><td>active</td><td>⋯</td><td>2021-05-21 08:30:00</td><td>P1W</td><td>f2d547b9-ad41-4f17-a661-435eb88a1cce</td><td>2018-11-24 00:00:00</td><td>2021-05-08 00:00:00</td><td>2018-12-14T18:20:28.502570</td><td>2021-05-24T12:39:46.504695</td><td>https://www150.statcan.gc.ca/n1/tbl/csv/23100275-eng.zip</td><td>https://www150.statcan.gc.ca/n1/tbl/csv/23100275-fra.zip</td><td>23-10-0275</td></tr>\n",
       "\t<tr><td><span style=white-space:pre-wrap>Chartered banks, assets and liabilities, month-end, Bank of Canada             </span></td><td><span style=white-space:pre-wrap>Chartered banks, assets and liabilities, month-end, Bank of Canada             </span></td><td><span style=white-space:pre-wrap>Banques à charte, actif et passif, fin de mois, Banque du Canada                                    </span></td><td>business performance and ownership, financial institutions and intermediaries, financial statements and performance, government, monetary authorities, table</td><td>business performance and ownership, financial institutions and intermediaries, financial statements and performance, government, monetary authorities, table</td><td>business performance and ownership, financial institutions and intermediaries, financial statements and performance, government, monetary authorities, table</td><td><span style=white-space:pre-wrap>This table contains 110 series, with data starting from 1946 (not all combinations necessarily have data for all years). This table contains data described by the following dimensions (Not all combinations are available): Geography (1 items: Canada ...), Assets and liabilities (110 items: Total assets; Total; Canadian dollar assets; Total of foregoing assets; Total; foreign currency assets ...).                                     </span></td><td><span style=white-space:pre-wrap>This table contains 110 series, with data starting from 1946 (not all combinations necessarily have data for all years). This table contains data described by the following dimensions (Not all combinations are available): Geography (1 items: Canada ...), Assets and liabilities (110 items: Total assets; Total; Canadian dollar assets; Total of foregoing assets; Total; foreign currency assets ...).                                     </span></td><td><span style=white-space:pre-wrap>&lt;p&gt;Ce tableau contient 110 séries. Les données commencent en 1946 (il n'y a pas nécessairement de données pour toutes les années pour l'ensemble des combinaisons).  Ce tableau contient des données telles que décrites par les dimensions suivantes (Les combinaisons ne sont pas toutes disponibles) : Géographie (1 élément : Canada), Actif et passif (110 éléments : Total de l'actif; Total, avoirs en monnaies étrangères; Total, avoirs en dollars canadiens; Total des avoirs précédents; ...).&lt;/p&gt;                                </span></td><td>active</td><td>⋯</td><td>2021-05-21 08:30:00</td><td>P1M</td><td>4eb07d80-8fb2-4542-9319-ade387e5892a</td><td>1946-01-01 00:00:00</td><td>2021-03-01 00:00:00</td><td>2018-06-27T17:44:35.865381</td><td>2021-05-24T12:39:44.320179</td><td>https://www150.statcan.gc.ca/n1/tbl/csv/10100109-eng.zip</td><td>https://www150.statcan.gc.ca/n1/tbl/csv/10100109-fra.zip</td><td>10-10-0109</td></tr>\n",
       "\t<tr><td><span style=white-space:pre-wrap>Currency outside banks and chartered bank deposits, month-end, Bank of Canada  </span></td><td><span style=white-space:pre-wrap>Currency outside banks and chartered bank deposits, month-end, Bank of Canada  </span></td><td><span style=white-space:pre-wrap>Monnaie hors banques et dépôts dans des banques à charte, fin de mois, Banque du Canada             </span></td><td>business performance and ownership, financial institutions and intermediaries, financial statements and performance, government, monetary authorities, table</td><td>business performance and ownership, financial institutions and intermediaries, financial statements and performance, government, monetary authorities, table</td><td>business performance and ownership, financial institutions and intermediaries, financial statements and performance, government, monetary authorities, table</td><td>This table contains 75 series, with data starting from 1926 (not all combinations necessarily have data for all years). This table contains data described by the following dimensions (Not all combinations are available): Geography (1 items: Canada ...), Currency outside banks and chartered bank deposits (75 items: Total; currency and deposits; Currency outside banks; coin; Currency outside banks; notes; Currency outside banks ...).</td><td>This table contains 75 series, with data starting from 1926 (not all combinations necessarily have data for all years). This table contains data described by the following dimensions (Not all combinations are available): Geography (1 items: Canada ...), Currency outside banks and chartered bank deposits (75 items: Total; currency and deposits; Currency outside banks; coin; Currency outside banks; notes; Currency outside banks ...).</td><td><span style=white-space:pre-wrap>&lt;p&gt;Ce tableau contient 75 séries. Les données commencent en 1926 (il n'y a pas nécessairement de données pour toutes les années pour l'ensemble des combinaisons).  Ce tableau contient des données telles que décrites par les dimensions suivantes (Les combinaisons ne sont pas toutes disponibles) : Géographie (1 élément : Canada), Monnaie hors banques et dépôts dans banques à charte (75 éléments : Total de la monnaie et des dépôts; Monnaie hors banques; Monnaie hors banques, billets; Monnaie hors banques, pièces; ...).&lt;/p&gt;</span></td><td>active</td><td>⋯</td><td>2021-05-21 08:30:00</td><td>P1M</td><td>c547827b-172b-4a47-8fdc-83382441015c</td><td>1926-01-01 00:00:00</td><td>2021-03-01 00:00:00</td><td>2018-06-27T17:27:43.273414</td><td>2021-05-24T12:39:42.242890</td><td>https://www150.statcan.gc.ca/n1/tbl/csv/10100112-eng.zip</td><td>https://www150.statcan.gc.ca/n1/tbl/csv/10100112-fra.zip</td><td>10-10-0112</td></tr>\n",
       "</tbody>\n",
       "</table>\n"
      ],
      "text/latex": [
       "A tibble: 6 × 21\n",
       "\\begin{tabular}{lllllllllllllllllllll}\n",
       " title & title\\_en & title\\_fr & keywords\\_en & keywords & keywords\\_fr & notes & notes\\_en & notes\\_fr & state & ⋯ & date\\_published & frequency & revision\\_id & time\\_period\\_coverage\\_start & time\\_period\\_coverage\\_end & metadata\\_created & metadata\\_modified & url\\_en & url\\_fr & cansim\\_table\\_number\\\\\n",
       " <chr> & <chr> & <chr> & <chr> & <chr> & <chr> & <chr> & <chr> & <chr> & <chr> & ⋯ & <chr> & <chr> & <chr> & <chr> & <chr> & <chr> & <chr> & <chr> & <chr> & <chr>\\\\\n",
       "\\hline\n",
       "\t Weekly rail system performance indicators, by commodities, Transport Canada     & Weekly rail system performance indicators, by commodities, Transport Canada     & Indicateurs hebdomadaires de performance du système ferroviaire, par marchandises, Transports Canada & rail transportation, table, transportation                                                                                                                   & rail transportation, table, transportation                                                                                                                   & rail transportation, table, transportation                                                                                                                   & <p>This product presents statistics on the rail performance of 4 companies, by selected commodities, on a weekly basis, starting with the reference period of November 24-30, 2018.</p>                                                                                                                                                                                                                                                             & <p>This product presents statistics on the rail performance of 4 companies, by selected commodities, on a weekly basis, starting with the reference period of November 24-30, 2018.</p>                                                                                                                                                                                                                                                             & <p>Ce produit présente des statistiques sur la performance ferroviaire de 4 compagnies, par marchandises sélectionnées, sur une base hebdomadaire, à partir de la période de référence du 24-30 novembre 2018.<br><br></p>                                                                                                                                                                                                                                                                                                                    & active & ⋯ & 2021-05-21 08:30:00 & P1W & 5c92f131-71ce-4553-9528-2ea2f60f919f & 2018-11-24 00:00:00 & 2021-05-08 00:00:00 & 2018-12-14T18:20:46.242165 & 2021-05-24T12:39:55.736262 & https://www150.statcan.gc.ca/n1/tbl/csv/23100276-eng.zip & https://www150.statcan.gc.ca/n1/tbl/csv/23100276-fra.zip & 23-10-0276\\\\\n",
       "\t Weekly rail system performance indicator, by type of rail car, Transport Canada & Weekly rail system performance indicator, by type of rail car, Transport Canada & Indicateur hebdomadaire de performance du système ferroviaire, par type de wagon, Transports Canada  & rail transportation, table, transportation                                                                                                                   & rail transportation, table, transportation                                                                                                                   & rail transportation, table, transportation                                                                                                                   & <p>This product presents statistics on the rail performance of 4 companies, by type of rail car, on a weekly basis, starting with the reference period of November 24-30, 2018.</p>                                                                                                                                                                                                                                                                 & <p>This product presents statistics on the rail performance of 4 companies, by type of rail car, on a weekly basis, starting with the reference period of November 24-30, 2018.</p>                                                                                                                                                                                                                                                                 & <p>Ce produit présente des statistiques sur la performance ferroviaire de 4 compagnies, par type de wagon, sur une base hebdomadaire, à partir de la période de référence du 24-30 novembre 2018.</p>                                                                                                                                                                                                                                                                                                                                         & active & ⋯ & 2021-05-21 08:30:00 & P1W & 07b441d8-c546-48a0-b555-86dbe43e6a06 & 2018-11-24 00:00:00 & 2021-05-08 00:00:00 & 2018-12-14T18:20:36.330575 & 2021-05-24T12:39:52.652414 & https://www150.statcan.gc.ca/n1/tbl/csv/23100277-eng.zip & https://www150.statcan.gc.ca/n1/tbl/csv/23100277-fra.zip & 23-10-0277\\\\\n",
       "\t Weekly rail terminal performance indicator, Transport Canada                    & Weekly rail terminal performance indicator, Transport Canada                    & Indicateur hebdomadaire de performance des terminaux ferroviaires, Transports Canada                 & rail transportation, table, transportation                                                                                                                   & rail transportation, table, transportation                                                                                                                   & rail transportation, table, transportation                                                                                                                   & <p>This product presents statistics on the rail terminal performance of 4 companies, by selected terminals, on a weekly basis, starting with the reference period of November 24-30, 2018.</p>                                                                                                                                                                                                                                                      & <p>This product presents statistics on the rail terminal performance of 4 companies, by selected terminals, on a weekly basis, starting with the reference period of November 24-30, 2018.</p>                                                                                                                                                                                                                                                      & <p>Ce produit présente des statistiques sur la performance des terminaux ferroviaires de 4 compagnies, par terminaux sélectionnés, sur une base hebdomadaire, à partir de la période de référence du 24-30 novembre 2018.<br></p>                                                                                                                                                                                                                                                                                                             & active & ⋯ & 2021-05-21 08:30:00 & P1W & be0c4aef-0551-4b8c-85c2-277a689a4fee & 2018-11-24 00:00:00 & 2021-05-08 00:00:00 & 2018-12-14T18:20:30.885671 & 2021-05-24T12:39:49.561368 & https://www150.statcan.gc.ca/n1/tbl/csv/23100274-eng.zip & https://www150.statcan.gc.ca/n1/tbl/csv/23100274-fra.zip & 23-10-0274\\\\\n",
       "\t Weekly performance indicators of grain transportation by rail, Transport Canada & Weekly performance indicators of grain transportation by rail, Transport Canada & Indicateurs hebdomadaires de performance du transport du grain par rail, Transports Canada           & rail transportation, table, transportation                                                                                                                   & rail transportation, table, transportation                                                                                                                   & rail transportation, table, transportation                                                                                                                   & <p>This product presents statistics on transportation of grain by 4 rail companies, by number of cars and orders, on a weekly basis, starting with the reference period of November 24-30, 2018.</p>                                                                                                                                                                                                                                                & <p>This product presents statistics on transportation of grain by 4 rail companies, by number of cars and orders, on a weekly basis, starting with the reference period of November 24-30, 2018.</p>                                                                                                                                                                                                                                                & <p>Ce produit présente des statistiques sur le transport du grain par 4 compagnies ferroviaires, selon le nombre de wagons et le nombre de commandes, sur une base hebdomadaire, à partir de la période de référence du 24-30 novembre 2018.</p>                                                                                                                                                                                                                                                                                              & active & ⋯ & 2021-05-21 08:30:00 & P1W & f2d547b9-ad41-4f17-a661-435eb88a1cce & 2018-11-24 00:00:00 & 2021-05-08 00:00:00 & 2018-12-14T18:20:28.502570 & 2021-05-24T12:39:46.504695 & https://www150.statcan.gc.ca/n1/tbl/csv/23100275-eng.zip & https://www150.statcan.gc.ca/n1/tbl/csv/23100275-fra.zip & 23-10-0275\\\\\n",
       "\t Chartered banks, assets and liabilities, month-end, Bank of Canada              & Chartered banks, assets and liabilities, month-end, Bank of Canada              & Banques à charte, actif et passif, fin de mois, Banque du Canada                                     & business performance and ownership, financial institutions and intermediaries, financial statements and performance, government, monetary authorities, table & business performance and ownership, financial institutions and intermediaries, financial statements and performance, government, monetary authorities, table & business performance and ownership, financial institutions and intermediaries, financial statements and performance, government, monetary authorities, table & This table contains 110 series, with data starting from 1946 (not all combinations necessarily have data for all years). This table contains data described by the following dimensions (Not all combinations are available): Geography (1 items: Canada ...), Assets and liabilities (110 items: Total assets; Total; Canadian dollar assets; Total of foregoing assets; Total; foreign currency assets ...).                                      & This table contains 110 series, with data starting from 1946 (not all combinations necessarily have data for all years). This table contains data described by the following dimensions (Not all combinations are available): Geography (1 items: Canada ...), Assets and liabilities (110 items: Total assets; Total; Canadian dollar assets; Total of foregoing assets; Total; foreign currency assets ...).                                      & <p>Ce tableau contient 110 séries. Les données commencent en 1946 (il n'y a pas nécessairement de données pour toutes les années pour l'ensemble des combinaisons).  Ce tableau contient des données telles que décrites par les dimensions suivantes (Les combinaisons ne sont pas toutes disponibles) : Géographie (1 élément : Canada), Actif et passif (110 éléments : Total de l'actif; Total, avoirs en monnaies étrangères; Total, avoirs en dollars canadiens; Total des avoirs précédents; ...).</p>                                 & active & ⋯ & 2021-05-21 08:30:00 & P1M & 4eb07d80-8fb2-4542-9319-ade387e5892a & 1946-01-01 00:00:00 & 2021-03-01 00:00:00 & 2018-06-27T17:44:35.865381 & 2021-05-24T12:39:44.320179 & https://www150.statcan.gc.ca/n1/tbl/csv/10100109-eng.zip & https://www150.statcan.gc.ca/n1/tbl/csv/10100109-fra.zip & 10-10-0109\\\\\n",
       "\t Currency outside banks and chartered bank deposits, month-end, Bank of Canada   & Currency outside banks and chartered bank deposits, month-end, Bank of Canada   & Monnaie hors banques et dépôts dans des banques à charte, fin de mois, Banque du Canada              & business performance and ownership, financial institutions and intermediaries, financial statements and performance, government, monetary authorities, table & business performance and ownership, financial institutions and intermediaries, financial statements and performance, government, monetary authorities, table & business performance and ownership, financial institutions and intermediaries, financial statements and performance, government, monetary authorities, table & This table contains 75 series, with data starting from 1926 (not all combinations necessarily have data for all years). This table contains data described by the following dimensions (Not all combinations are available): Geography (1 items: Canada ...), Currency outside banks and chartered bank deposits (75 items: Total; currency and deposits; Currency outside banks; coin; Currency outside banks; notes; Currency outside banks ...). & This table contains 75 series, with data starting from 1926 (not all combinations necessarily have data for all years). This table contains data described by the following dimensions (Not all combinations are available): Geography (1 items: Canada ...), Currency outside banks and chartered bank deposits (75 items: Total; currency and deposits; Currency outside banks; coin; Currency outside banks; notes; Currency outside banks ...). & <p>Ce tableau contient 75 séries. Les données commencent en 1926 (il n'y a pas nécessairement de données pour toutes les années pour l'ensemble des combinaisons).  Ce tableau contient des données telles que décrites par les dimensions suivantes (Les combinaisons ne sont pas toutes disponibles) : Géographie (1 élément : Canada), Monnaie hors banques et dépôts dans banques à charte (75 éléments : Total de la monnaie et des dépôts; Monnaie hors banques; Monnaie hors banques, billets; Monnaie hors banques, pièces; ...).</p> & active & ⋯ & 2021-05-21 08:30:00 & P1M & c547827b-172b-4a47-8fdc-83382441015c & 1926-01-01 00:00:00 & 2021-03-01 00:00:00 & 2018-06-27T17:27:43.273414 & 2021-05-24T12:39:42.242890 & https://www150.statcan.gc.ca/n1/tbl/csv/10100112-eng.zip & https://www150.statcan.gc.ca/n1/tbl/csv/10100112-fra.zip & 10-10-0112\\\\\n",
       "\\end{tabular}\n"
      ],
      "text/markdown": [
       "\n",
       "A tibble: 6 × 21\n",
       "\n",
       "| title &lt;chr&gt; | title_en &lt;chr&gt; | title_fr &lt;chr&gt; | keywords_en &lt;chr&gt; | keywords &lt;chr&gt; | keywords_fr &lt;chr&gt; | notes &lt;chr&gt; | notes_en &lt;chr&gt; | notes_fr &lt;chr&gt; | state &lt;chr&gt; | ⋯ ⋯ | date_published &lt;chr&gt; | frequency &lt;chr&gt; | revision_id &lt;chr&gt; | time_period_coverage_start &lt;chr&gt; | time_period_coverage_end &lt;chr&gt; | metadata_created &lt;chr&gt; | metadata_modified &lt;chr&gt; | url_en &lt;chr&gt; | url_fr &lt;chr&gt; | cansim_table_number &lt;chr&gt; |\n",
       "|---|---|---|---|---|---|---|---|---|---|---|---|---|---|---|---|---|---|---|---|---|\n",
       "| Weekly rail system performance indicators, by commodities, Transport Canada     | Weekly rail system performance indicators, by commodities, Transport Canada     | Indicateurs hebdomadaires de performance du système ferroviaire, par marchandises, Transports Canada | rail transportation, table, transportation                                                                                                                   | rail transportation, table, transportation                                                                                                                   | rail transportation, table, transportation                                                                                                                   | &lt;p&gt;This product presents statistics on the rail performance of 4 companies, by selected commodities, on a weekly basis, starting with the reference period of November 24-30, 2018.&lt;/p&gt;                                                                                                                                                                                                                                                             | &lt;p&gt;This product presents statistics on the rail performance of 4 companies, by selected commodities, on a weekly basis, starting with the reference period of November 24-30, 2018.&lt;/p&gt;                                                                                                                                                                                                                                                             | &lt;p&gt;Ce produit présente des statistiques sur la performance ferroviaire de 4 compagnies, par marchandises sélectionnées, sur une base hebdomadaire, à partir de la période de référence du 24-30 novembre 2018.&lt;br&gt;&lt;br&gt;&lt;/p&gt;                                                                                                                                                                                                                                                                                                                    | active | ⋯ | 2021-05-21 08:30:00 | P1W | 5c92f131-71ce-4553-9528-2ea2f60f919f | 2018-11-24 00:00:00 | 2021-05-08 00:00:00 | 2018-12-14T18:20:46.242165 | 2021-05-24T12:39:55.736262 | https://www150.statcan.gc.ca/n1/tbl/csv/23100276-eng.zip | https://www150.statcan.gc.ca/n1/tbl/csv/23100276-fra.zip | 23-10-0276 |\n",
       "| Weekly rail system performance indicator, by type of rail car, Transport Canada | Weekly rail system performance indicator, by type of rail car, Transport Canada | Indicateur hebdomadaire de performance du système ferroviaire, par type de wagon, Transports Canada  | rail transportation, table, transportation                                                                                                                   | rail transportation, table, transportation                                                                                                                   | rail transportation, table, transportation                                                                                                                   | &lt;p&gt;This product presents statistics on the rail performance of 4 companies, by type of rail car, on a weekly basis, starting with the reference period of November 24-30, 2018.&lt;/p&gt;                                                                                                                                                                                                                                                                 | &lt;p&gt;This product presents statistics on the rail performance of 4 companies, by type of rail car, on a weekly basis, starting with the reference period of November 24-30, 2018.&lt;/p&gt;                                                                                                                                                                                                                                                                 | &lt;p&gt;Ce produit présente des statistiques sur la performance ferroviaire de 4 compagnies, par type de wagon, sur une base hebdomadaire, à partir de la période de référence du 24-30 novembre 2018.&lt;/p&gt;                                                                                                                                                                                                                                                                                                                                         | active | ⋯ | 2021-05-21 08:30:00 | P1W | 07b441d8-c546-48a0-b555-86dbe43e6a06 | 2018-11-24 00:00:00 | 2021-05-08 00:00:00 | 2018-12-14T18:20:36.330575 | 2021-05-24T12:39:52.652414 | https://www150.statcan.gc.ca/n1/tbl/csv/23100277-eng.zip | https://www150.statcan.gc.ca/n1/tbl/csv/23100277-fra.zip | 23-10-0277 |\n",
       "| Weekly rail terminal performance indicator, Transport Canada                    | Weekly rail terminal performance indicator, Transport Canada                    | Indicateur hebdomadaire de performance des terminaux ferroviaires, Transports Canada                 | rail transportation, table, transportation                                                                                                                   | rail transportation, table, transportation                                                                                                                   | rail transportation, table, transportation                                                                                                                   | &lt;p&gt;This product presents statistics on the rail terminal performance of 4 companies, by selected terminals, on a weekly basis, starting with the reference period of November 24-30, 2018.&lt;/p&gt;                                                                                                                                                                                                                                                      | &lt;p&gt;This product presents statistics on the rail terminal performance of 4 companies, by selected terminals, on a weekly basis, starting with the reference period of November 24-30, 2018.&lt;/p&gt;                                                                                                                                                                                                                                                      | &lt;p&gt;Ce produit présente des statistiques sur la performance des terminaux ferroviaires de 4 compagnies, par terminaux sélectionnés, sur une base hebdomadaire, à partir de la période de référence du 24-30 novembre 2018.&lt;br&gt;&lt;/p&gt;                                                                                                                                                                                                                                                                                                             | active | ⋯ | 2021-05-21 08:30:00 | P1W | be0c4aef-0551-4b8c-85c2-277a689a4fee | 2018-11-24 00:00:00 | 2021-05-08 00:00:00 | 2018-12-14T18:20:30.885671 | 2021-05-24T12:39:49.561368 | https://www150.statcan.gc.ca/n1/tbl/csv/23100274-eng.zip | https://www150.statcan.gc.ca/n1/tbl/csv/23100274-fra.zip | 23-10-0274 |\n",
       "| Weekly performance indicators of grain transportation by rail, Transport Canada | Weekly performance indicators of grain transportation by rail, Transport Canada | Indicateurs hebdomadaires de performance du transport du grain par rail, Transports Canada           | rail transportation, table, transportation                                                                                                                   | rail transportation, table, transportation                                                                                                                   | rail transportation, table, transportation                                                                                                                   | &lt;p&gt;This product presents statistics on transportation of grain by 4 rail companies, by number of cars and orders, on a weekly basis, starting with the reference period of November 24-30, 2018.&lt;/p&gt;                                                                                                                                                                                                                                                | &lt;p&gt;This product presents statistics on transportation of grain by 4 rail companies, by number of cars and orders, on a weekly basis, starting with the reference period of November 24-30, 2018.&lt;/p&gt;                                                                                                                                                                                                                                                | &lt;p&gt;Ce produit présente des statistiques sur le transport du grain par 4 compagnies ferroviaires, selon le nombre de wagons et le nombre de commandes, sur une base hebdomadaire, à partir de la période de référence du 24-30 novembre 2018.&lt;/p&gt;                                                                                                                                                                                                                                                                                              | active | ⋯ | 2021-05-21 08:30:00 | P1W | f2d547b9-ad41-4f17-a661-435eb88a1cce | 2018-11-24 00:00:00 | 2021-05-08 00:00:00 | 2018-12-14T18:20:28.502570 | 2021-05-24T12:39:46.504695 | https://www150.statcan.gc.ca/n1/tbl/csv/23100275-eng.zip | https://www150.statcan.gc.ca/n1/tbl/csv/23100275-fra.zip | 23-10-0275 |\n",
       "| Chartered banks, assets and liabilities, month-end, Bank of Canada              | Chartered banks, assets and liabilities, month-end, Bank of Canada              | Banques à charte, actif et passif, fin de mois, Banque du Canada                                     | business performance and ownership, financial institutions and intermediaries, financial statements and performance, government, monetary authorities, table | business performance and ownership, financial institutions and intermediaries, financial statements and performance, government, monetary authorities, table | business performance and ownership, financial institutions and intermediaries, financial statements and performance, government, monetary authorities, table | This table contains 110 series, with data starting from 1946 (not all combinations necessarily have data for all years). This table contains data described by the following dimensions (Not all combinations are available): Geography (1 items: Canada ...), Assets and liabilities (110 items: Total assets; Total; Canadian dollar assets; Total of foregoing assets; Total; foreign currency assets ...).                                      | This table contains 110 series, with data starting from 1946 (not all combinations necessarily have data for all years). This table contains data described by the following dimensions (Not all combinations are available): Geography (1 items: Canada ...), Assets and liabilities (110 items: Total assets; Total; Canadian dollar assets; Total of foregoing assets; Total; foreign currency assets ...).                                      | &lt;p&gt;Ce tableau contient 110 séries. Les données commencent en 1946 (il n'y a pas nécessairement de données pour toutes les années pour l'ensemble des combinaisons).  Ce tableau contient des données telles que décrites par les dimensions suivantes (Les combinaisons ne sont pas toutes disponibles) : Géographie (1 élément : Canada), Actif et passif (110 éléments : Total de l'actif; Total, avoirs en monnaies étrangères; Total, avoirs en dollars canadiens; Total des avoirs précédents; ...).&lt;/p&gt;                                 | active | ⋯ | 2021-05-21 08:30:00 | P1M | 4eb07d80-8fb2-4542-9319-ade387e5892a | 1946-01-01 00:00:00 | 2021-03-01 00:00:00 | 2018-06-27T17:44:35.865381 | 2021-05-24T12:39:44.320179 | https://www150.statcan.gc.ca/n1/tbl/csv/10100109-eng.zip | https://www150.statcan.gc.ca/n1/tbl/csv/10100109-fra.zip | 10-10-0109 |\n",
       "| Currency outside banks and chartered bank deposits, month-end, Bank of Canada   | Currency outside banks and chartered bank deposits, month-end, Bank of Canada   | Monnaie hors banques et dépôts dans des banques à charte, fin de mois, Banque du Canada              | business performance and ownership, financial institutions and intermediaries, financial statements and performance, government, monetary authorities, table | business performance and ownership, financial institutions and intermediaries, financial statements and performance, government, monetary authorities, table | business performance and ownership, financial institutions and intermediaries, financial statements and performance, government, monetary authorities, table | This table contains 75 series, with data starting from 1926 (not all combinations necessarily have data for all years). This table contains data described by the following dimensions (Not all combinations are available): Geography (1 items: Canada ...), Currency outside banks and chartered bank deposits (75 items: Total; currency and deposits; Currency outside banks; coin; Currency outside banks; notes; Currency outside banks ...). | This table contains 75 series, with data starting from 1926 (not all combinations necessarily have data for all years). This table contains data described by the following dimensions (Not all combinations are available): Geography (1 items: Canada ...), Currency outside banks and chartered bank deposits (75 items: Total; currency and deposits; Currency outside banks; coin; Currency outside banks; notes; Currency outside banks ...). | &lt;p&gt;Ce tableau contient 75 séries. Les données commencent en 1926 (il n'y a pas nécessairement de données pour toutes les années pour l'ensemble des combinaisons).  Ce tableau contient des données telles que décrites par les dimensions suivantes (Les combinaisons ne sont pas toutes disponibles) : Géographie (1 élément : Canada), Monnaie hors banques et dépôts dans banques à charte (75 éléments : Total de la monnaie et des dépôts; Monnaie hors banques; Monnaie hors banques, billets; Monnaie hors banques, pièces; ...).&lt;/p&gt; | active | ⋯ | 2021-05-21 08:30:00 | P1M | c547827b-172b-4a47-8fdc-83382441015c | 1926-01-01 00:00:00 | 2021-03-01 00:00:00 | 2018-06-27T17:27:43.273414 | 2021-05-24T12:39:42.242890 | https://www150.statcan.gc.ca/n1/tbl/csv/10100112-eng.zip | https://www150.statcan.gc.ca/n1/tbl/csv/10100112-fra.zip | 10-10-0112 |\n",
       "\n"
      ],
      "text/plain": [
       "  title                                                                          \n",
       "1 Weekly rail system performance indicators, by commodities, Transport Canada    \n",
       "2 Weekly rail system performance indicator, by type of rail car, Transport Canada\n",
       "3 Weekly rail terminal performance indicator, Transport Canada                   \n",
       "4 Weekly performance indicators of grain transportation by rail, Transport Canada\n",
       "5 Chartered banks, assets and liabilities, month-end, Bank of Canada             \n",
       "6 Currency outside banks and chartered bank deposits, month-end, Bank of Canada  \n",
       "  title_en                                                                       \n",
       "1 Weekly rail system performance indicators, by commodities, Transport Canada    \n",
       "2 Weekly rail system performance indicator, by type of rail car, Transport Canada\n",
       "3 Weekly rail terminal performance indicator, Transport Canada                   \n",
       "4 Weekly performance indicators of grain transportation by rail, Transport Canada\n",
       "5 Chartered banks, assets and liabilities, month-end, Bank of Canada             \n",
       "6 Currency outside banks and chartered bank deposits, month-end, Bank of Canada  \n",
       "  title_fr                                                                                            \n",
       "1 Indicateurs hebdomadaires de performance du système ferroviaire, par marchandises, Transports Canada\n",
       "2 Indicateur hebdomadaire de performance du système ferroviaire, par type de wagon, Transports Canada \n",
       "3 Indicateur hebdomadaire de performance des terminaux ferroviaires, Transports Canada                \n",
       "4 Indicateurs hebdomadaires de performance du transport du grain par rail, Transports Canada          \n",
       "5 Banques à charte, actif et passif, fin de mois, Banque du Canada                                    \n",
       "6 Monnaie hors banques et dépôts dans des banques à charte, fin de mois, Banque du Canada             \n",
       "  keywords_en                                                                                                                                                 \n",
       "1 rail transportation, table, transportation                                                                                                                  \n",
       "2 rail transportation, table, transportation                                                                                                                  \n",
       "3 rail transportation, table, transportation                                                                                                                  \n",
       "4 rail transportation, table, transportation                                                                                                                  \n",
       "5 business performance and ownership, financial institutions and intermediaries, financial statements and performance, government, monetary authorities, table\n",
       "6 business performance and ownership, financial institutions and intermediaries, financial statements and performance, government, monetary authorities, table\n",
       "  keywords                                                                                                                                                    \n",
       "1 rail transportation, table, transportation                                                                                                                  \n",
       "2 rail transportation, table, transportation                                                                                                                  \n",
       "3 rail transportation, table, transportation                                                                                                                  \n",
       "4 rail transportation, table, transportation                                                                                                                  \n",
       "5 business performance and ownership, financial institutions and intermediaries, financial statements and performance, government, monetary authorities, table\n",
       "6 business performance and ownership, financial institutions and intermediaries, financial statements and performance, government, monetary authorities, table\n",
       "  keywords_fr                                                                                                                                                 \n",
       "1 rail transportation, table, transportation                                                                                                                  \n",
       "2 rail transportation, table, transportation                                                                                                                  \n",
       "3 rail transportation, table, transportation                                                                                                                  \n",
       "4 rail transportation, table, transportation                                                                                                                  \n",
       "5 business performance and ownership, financial institutions and intermediaries, financial statements and performance, government, monetary authorities, table\n",
       "6 business performance and ownership, financial institutions and intermediaries, financial statements and performance, government, monetary authorities, table\n",
       "  notes                                                                                                                                                                                                                                                                                                                                                                                                                                              \n",
       "1 <p>This product presents statistics on the rail performance of 4 companies, by selected commodities, on a weekly basis, starting with the reference period of November 24-30, 2018.</p>                                                                                                                                                                                                                                                            \n",
       "2 <p>This product presents statistics on the rail performance of 4 companies, by type of rail car, on a weekly basis, starting with the reference period of November 24-30, 2018.</p>                                                                                                                                                                                                                                                                \n",
       "3 <p>This product presents statistics on the rail terminal performance of 4 companies, by selected terminals, on a weekly basis, starting with the reference period of November 24-30, 2018.</p>                                                                                                                                                                                                                                                     \n",
       "4 <p>This product presents statistics on transportation of grain by 4 rail companies, by number of cars and orders, on a weekly basis, starting with the reference period of November 24-30, 2018.</p>                                                                                                                                                                                                                                               \n",
       "5 This table contains 110 series, with data starting from 1946 (not all combinations necessarily have data for all years). This table contains data described by the following dimensions (Not all combinations are available): Geography (1 items: Canada ...), Assets and liabilities (110 items: Total assets; Total; Canadian dollar assets; Total of foregoing assets; Total; foreign currency assets ...).                                     \n",
       "6 This table contains 75 series, with data starting from 1926 (not all combinations necessarily have data for all years). This table contains data described by the following dimensions (Not all combinations are available): Geography (1 items: Canada ...), Currency outside banks and chartered bank deposits (75 items: Total; currency and deposits; Currency outside banks; coin; Currency outside banks; notes; Currency outside banks ...).\n",
       "  notes_en                                                                                                                                                                                                                                                                                                                                                                                                                                           \n",
       "1 <p>This product presents statistics on the rail performance of 4 companies, by selected commodities, on a weekly basis, starting with the reference period of November 24-30, 2018.</p>                                                                                                                                                                                                                                                            \n",
       "2 <p>This product presents statistics on the rail performance of 4 companies, by type of rail car, on a weekly basis, starting with the reference period of November 24-30, 2018.</p>                                                                                                                                                                                                                                                                \n",
       "3 <p>This product presents statistics on the rail terminal performance of 4 companies, by selected terminals, on a weekly basis, starting with the reference period of November 24-30, 2018.</p>                                                                                                                                                                                                                                                     \n",
       "4 <p>This product presents statistics on transportation of grain by 4 rail companies, by number of cars and orders, on a weekly basis, starting with the reference period of November 24-30, 2018.</p>                                                                                                                                                                                                                                               \n",
       "5 This table contains 110 series, with data starting from 1946 (not all combinations necessarily have data for all years). This table contains data described by the following dimensions (Not all combinations are available): Geography (1 items: Canada ...), Assets and liabilities (110 items: Total assets; Total; Canadian dollar assets; Total of foregoing assets; Total; foreign currency assets ...).                                     \n",
       "6 This table contains 75 series, with data starting from 1926 (not all combinations necessarily have data for all years). This table contains data described by the following dimensions (Not all combinations are available): Geography (1 items: Canada ...), Currency outside banks and chartered bank deposits (75 items: Total; currency and deposits; Currency outside banks; coin; Currency outside banks; notes; Currency outside banks ...).\n",
       "  notes_fr                                                                                                                                                                                                                                                                                                                                                                                                                                                                                                                                     \n",
       "1 <p>Ce produit présente des statistiques sur la performance ferroviaire de 4 compagnies, par marchandises sélectionnées, sur une base hebdomadaire, à partir de la période de référence du 24-30 novembre 2018.<br><br></p>                                                                                                                                                                                                                                                                                                                   \n",
       "2 <p>Ce produit présente des statistiques sur la performance ferroviaire de 4 compagnies, par type de wagon, sur une base hebdomadaire, à partir de la période de référence du 24-30 novembre 2018.</p>                                                                                                                                                                                                                                                                                                                                        \n",
       "3 <p>Ce produit présente des statistiques sur la performance des terminaux ferroviaires de 4 compagnies, par terminaux sélectionnés, sur une base hebdomadaire, à partir de la période de référence du 24-30 novembre 2018.<br></p>                                                                                                                                                                                                                                                                                                            \n",
       "4 <p>Ce produit présente des statistiques sur le transport du grain par 4 compagnies ferroviaires, selon le nombre de wagons et le nombre de commandes, sur une base hebdomadaire, à partir de la période de référence du 24-30 novembre 2018.</p>                                                                                                                                                                                                                                                                                             \n",
       "5 <p>Ce tableau contient 110 séries. Les données commencent en 1946 (il n'y a pas nécessairement de données pour toutes les années pour l'ensemble des combinaisons).  Ce tableau contient des données telles que décrites par les dimensions suivantes (Les combinaisons ne sont pas toutes disponibles) : Géographie (1 élément : Canada), Actif et passif (110 éléments : Total de l'actif; Total, avoirs en monnaies étrangères; Total, avoirs en dollars canadiens; Total des avoirs précédents; ...).</p>                                \n",
       "6 <p>Ce tableau contient 75 séries. Les données commencent en 1926 (il n'y a pas nécessairement de données pour toutes les années pour l'ensemble des combinaisons).  Ce tableau contient des données telles que décrites par les dimensions suivantes (Les combinaisons ne sont pas toutes disponibles) : Géographie (1 élément : Canada), Monnaie hors banques et dépôts dans banques à charte (75 éléments : Total de la monnaie et des dépôts; Monnaie hors banques; Monnaie hors banques, billets; Monnaie hors banques, pièces; ...).</p>\n",
       "  state  ⋯ date_published      frequency revision_id                         \n",
       "1 active ⋯ 2021-05-21 08:30:00 P1W       5c92f131-71ce-4553-9528-2ea2f60f919f\n",
       "2 active ⋯ 2021-05-21 08:30:00 P1W       07b441d8-c546-48a0-b555-86dbe43e6a06\n",
       "3 active ⋯ 2021-05-21 08:30:00 P1W       be0c4aef-0551-4b8c-85c2-277a689a4fee\n",
       "4 active ⋯ 2021-05-21 08:30:00 P1W       f2d547b9-ad41-4f17-a661-435eb88a1cce\n",
       "5 active ⋯ 2021-05-21 08:30:00 P1M       4eb07d80-8fb2-4542-9319-ade387e5892a\n",
       "6 active ⋯ 2021-05-21 08:30:00 P1M       c547827b-172b-4a47-8fdc-83382441015c\n",
       "  time_period_coverage_start time_period_coverage_end\n",
       "1 2018-11-24 00:00:00        2021-05-08 00:00:00     \n",
       "2 2018-11-24 00:00:00        2021-05-08 00:00:00     \n",
       "3 2018-11-24 00:00:00        2021-05-08 00:00:00     \n",
       "4 2018-11-24 00:00:00        2021-05-08 00:00:00     \n",
       "5 1946-01-01 00:00:00        2021-03-01 00:00:00     \n",
       "6 1926-01-01 00:00:00        2021-03-01 00:00:00     \n",
       "  metadata_created           metadata_modified         \n",
       "1 2018-12-14T18:20:46.242165 2021-05-24T12:39:55.736262\n",
       "2 2018-12-14T18:20:36.330575 2021-05-24T12:39:52.652414\n",
       "3 2018-12-14T18:20:30.885671 2021-05-24T12:39:49.561368\n",
       "4 2018-12-14T18:20:28.502570 2021-05-24T12:39:46.504695\n",
       "5 2018-06-27T17:44:35.865381 2021-05-24T12:39:44.320179\n",
       "6 2018-06-27T17:27:43.273414 2021-05-24T12:39:42.242890\n",
       "  url_en                                                  \n",
       "1 https://www150.statcan.gc.ca/n1/tbl/csv/23100276-eng.zip\n",
       "2 https://www150.statcan.gc.ca/n1/tbl/csv/23100277-eng.zip\n",
       "3 https://www150.statcan.gc.ca/n1/tbl/csv/23100274-eng.zip\n",
       "4 https://www150.statcan.gc.ca/n1/tbl/csv/23100275-eng.zip\n",
       "5 https://www150.statcan.gc.ca/n1/tbl/csv/10100109-eng.zip\n",
       "6 https://www150.statcan.gc.ca/n1/tbl/csv/10100112-eng.zip\n",
       "  url_fr                                                   cansim_table_number\n",
       "1 https://www150.statcan.gc.ca/n1/tbl/csv/23100276-fra.zip 23-10-0276         \n",
       "2 https://www150.statcan.gc.ca/n1/tbl/csv/23100277-fra.zip 23-10-0277         \n",
       "3 https://www150.statcan.gc.ca/n1/tbl/csv/23100274-fra.zip 23-10-0274         \n",
       "4 https://www150.statcan.gc.ca/n1/tbl/csv/23100275-fra.zip 23-10-0275         \n",
       "5 https://www150.statcan.gc.ca/n1/tbl/csv/10100109-fra.zip 10-10-0109         \n",
       "6 https://www150.statcan.gc.ca/n1/tbl/csv/10100112-fra.zip 10-10-0112         "
      ]
     },
     "metadata": {},
     "output_type": "display_data"
    }
   ],
   "source": [
    "head(list_cansim_tables())"
   ]
  }
 ],
 "metadata": {
  "kernelspec": {
   "display_name": "R",
   "language": "R",
   "name": "ir"
  },
  "language_info": {
   "codemirror_mode": "r",
   "file_extension": ".r",
   "mimetype": "text/x-r-source",
   "name": "R",
   "pygments_lexer": "r",
   "version": "4.0.3"
  }
 },
 "nbformat": 4,
 "nbformat_minor": 4
}
