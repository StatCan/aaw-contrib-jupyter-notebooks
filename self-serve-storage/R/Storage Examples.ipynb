{
 "cells": [
  {
   "cell_type": "markdown",
   "metadata": {},
   "source": [
    "# Upload and download files from Bucket Storage!\n",
    "\n",
    "Many of these examples are straight from the R `aws.s3` library.\n",
    "\n",
    "The difference is that instead of creating your own S3 Client object,\n",
    "you can just run:\n",
    "\n",
    "```R\n",
    "source(\"daaas_storage.R\")\n",
    "daaas_storage.standard()\n",
    "# daaas_storage.premium()\n",
    "```\n",
    "\n",
    "This will configure the access for you.\n",
    "\n",
    "Then you proceed as in the examples!\n",
    "\n",
    "**NOTE: `use_https=FALSE, region=\"\"` are required, unfortunately.**"
   ]
  },
  {
   "cell_type": "markdown",
   "metadata": {},
   "source": [
    "## Get connected"
   ]
  },
  {
   "cell_type": "code",
   "execution_count": 1,
   "metadata": {
    "execution": {
     "iopub.execute_input": "2021-06-16T19:05:14.881390Z",
     "iopub.status.busy": "2021-06-16T19:05:14.877395Z",
     "iopub.status.idle": "2021-06-16T19:05:54.352707Z",
     "shell.execute_reply": "2021-06-16T19:05:54.351384Z"
    },
    "tags": []
   },
   "outputs": [
    {
     "name": "stderr",
     "output_type": "stream",
     "text": [
      "also installing the dependency ‘aws.signature’\n",
      "\n",
      "\n",
      "Updating HTML index of packages in '.Library'\n",
      "\n",
      "Making 'packages.html' ...\n",
      " done\n",
      "\n",
      "Updating HTML index of packages in '.Library'\n",
      "\n",
      "Making 'packages.html' ...\n",
      " done\n",
      "\n"
     ]
    }
   ],
   "source": [
    "install.packages(\"aws.s3\")\n",
    "install.packages(\"RJSONIO\")\n",
    "library(\"aws.s3\")\n",
    "source(\"daaas_storage.R\")"
   ]
  },
  {
   "cell_type": "code",
   "execution_count": 2,
   "metadata": {
    "execution": {
     "iopub.execute_input": "2021-06-16T19:05:54.402681Z",
     "iopub.status.busy": "2021-06-16T19:05:54.355253Z",
     "iopub.status.idle": "2021-06-16T19:05:54.448701Z",
     "shell.execute_reply": "2021-06-16T19:05:54.447347Z"
    },
    "tags": []
   },
   "outputs": [],
   "source": [
    "daaas_storage.standard()"
   ]
  },
  {
   "cell_type": "markdown",
   "metadata": {},
   "source": [
    "## Create your bucket"
   ]
  },
  {
   "cell_type": "code",
   "execution_count": 3,
   "metadata": {
    "execution": {
     "iopub.execute_input": "2021-06-16T19:05:54.452679Z",
     "iopub.status.busy": "2021-06-16T19:05:54.451085Z",
     "iopub.status.idle": "2021-06-16T19:05:54.466445Z",
     "shell.execute_reply": "2021-06-16T19:05:54.465162Z"
    },
    "tags": []
   },
   "outputs": [],
   "source": [
    "# Your bucket goes here.\n",
    "BUCKET <- Sys.getenv(\"NB_NAMESPACE\")"
   ]
  },
  {
   "cell_type": "markdown",
   "metadata": {},
   "source": [
    "Error in parse_aws_s3_response(r, Sig, verbose = verbose): Conflict (HTTP 409). - Can be ignored"
   ]
  },
  {
   "cell_type": "code",
   "execution_count": 4,
   "metadata": {
    "execution": {
     "iopub.execute_input": "2021-06-16T19:05:54.470898Z",
     "iopub.status.busy": "2021-06-16T19:05:54.469296Z",
     "iopub.status.idle": "2021-06-16T19:05:54.600819Z",
     "shell.execute_reply": "2021-06-16T19:05:54.592141Z"
    },
    "tags": []
   },
   "outputs": [
    {
     "name": "stdout",
     "output_type": "stream",
     "text": [
      "List of 6\n",
      " $ Code      : chr \"BucketAlreadyOwnedByYou\"\n",
      " $ Message   : chr \"Your previous request to create the named bucket succeeded and you already own it.\"\n",
      " $ BucketName: chr \"rohan-katkar\"\n",
      " $ Resource  : chr \"/rohan-katkar/\"\n",
      " $ RequestId : chr \"1689257BDAC64777\"\n",
      " $ HostId    : chr \"8bccbfa7-b159-40ab-b264-a333bf0545fd\"\n",
      " - attr(*, \"headers\")=List of 10\n",
      "  ..$ accept-ranges                : chr \"bytes\"\n",
      "  ..$ content-length               : chr \"355\"\n",
      "  ..$ content-security-policy      : chr \"block-all-mixed-content\"\n",
      "  ..$ content-type                 : chr \"application/xml\"\n",
      "  ..$ server                       : chr \"envoy\"\n",
      "  ..$ vary                         : chr \"Origin\"\n",
      "  ..$ x-amz-request-id             : chr \"1689257BDAC64777\"\n",
      "  ..$ x-xss-protection             : chr \"1; mode=block\"\n",
      "  ..$ date                         : chr \"Wed, 16 Jun 2021 19:05:54 GMT\"\n",
      "  ..$ x-envoy-upstream-service-time: chr \"5\"\n",
      "  ..- attr(*, \"class\")= chr [1:2] \"insensitive\" \"list\"\n",
      " - attr(*, \"class\")= chr \"aws_error\"\n",
      " - attr(*, \"request_canonical\")= chr \"PUT\\n/rohan-katkar/\\n\\nhost:minio.minio-standard-tenant-1\\nx-amz-acl:private\\nx-amz-date:20210616T190554Z\\n\\nho\"| __truncated__\n",
      " - attr(*, \"request_string_to_sign\")= chr \"AWS4-HMAC-SHA256\\n20210616T190554Z\\n20210616/us-east-1/s3/aws4_request\\n13b345f774108017b26d12025d2543320adde42\"| __truncated__\n",
      " - attr(*, \"request_signature\")= chr \"AWS4-HMAC-SHA256 Credential=profile-rohan-katkar-0066821a-7e2e-d4d9-15a6-f97caf8bb95b/20210616/us-east-1/s3/aws\"| __truncated__\n",
      "NULL\n"
     ]
    },
    {
     "ename": "ERROR",
     "evalue": "Error in parse_aws_s3_response(r, Sig, verbose = verbose): Conflict (HTTP 409).\n",
     "output_type": "error",
     "traceback": [
      "Error in parse_aws_s3_response(r, Sig, verbose = verbose): Conflict (HTTP 409).\nTraceback:\n",
      "1. put_bucket(BUCKET, use_https = FALSE, region = \"\")",
      "2. s3HTTP(verb = \"PUT\", bucket = bucket, request_body = bod, headers = headers, \n .     region = region, check_region = FALSE, encode = \"raw\", ...)",
      "3. parse_aws_s3_response(r, Sig, verbose = verbose)",
      "4. httr::stop_for_status(r)"
     ]
    }
   ],
   "source": [
    "b <- put_bucket(BUCKET, use_https=FALSE, region=\"\")"
   ]
  },
  {
   "cell_type": "markdown",
   "metadata": {},
   "source": [
    "## Upload a file"
   ]
  },
  {
   "cell_type": "code",
   "execution_count": null,
   "metadata": {
    "tags": []
   },
   "outputs": [],
   "source": [
    "put_object(\n",
    "    file=\"example.txt\",\n",
    "    object=\"happy-bird.txt\",\n",
    "    bucket=BUCKET,\n",
    "    show_progress = TRUE,\n",
    "    use_https=FALSE,\n",
    "    region=\"\"\n",
    ")\n",
    "\n",
    "put_folder(\n",
    "    folder=\"example-folder\",\n",
    "    bucket=BUCKET,\n",
    "    show_progress = TRUE,\n",
    "    use_https=FALSE,\n",
    "    region=\"\"\n",
    ")"
   ]
  },
  {
   "cell_type": "markdown",
   "metadata": {},
   "source": [
    "## List objects"
   ]
  },
  {
   "cell_type": "code",
   "execution_count": null,
   "metadata": {
    "tags": []
   },
   "outputs": [],
   "source": [
    "get_bucket(bucket = BUCKET, use_https=FALSE, region=\"\")"
   ]
  },
  {
   "cell_type": "markdown",
   "metadata": {},
   "source": [
    "## Download a file"
   ]
  },
  {
   "cell_type": "code",
   "execution_count": null,
   "metadata": {
    "tags": []
   },
   "outputs": [],
   "source": [
    "save_object(\n",
    "    \"happy-bird.txt\",\n",
    "    bucket=BUCKET,\n",
    "    file=\"downloaded-example.txt\",\n",
    "    use_https=FALSE,\n",
    "    region=\"\"\n",
    ")"
   ]
  },
  {
   "cell_type": "markdown",
   "metadata": {},
   "source": [
    "# That's it!\n",
    "\n",
    "You've seen how to upload, list, and download files.\n",
    "You can do more things! For more advanced usage, check out the\n",
    "[`aws.s3` package overview](https://cran.r-project.org/package=aws.s3).\n",
    "\n",
    "And don't forget that you can also do this all on the commandline with `mc`"
   ]
  }
 ],
 "metadata": {
  "kernelspec": {
   "display_name": "R",
   "language": "R",
   "name": "ir"
  },
  "language_info": {
   "codemirror_mode": "r",
   "file_extension": ".r",
   "mimetype": "text/x-r-source",
   "name": "R",
   "pygments_lexer": "r",
   "version": "4.0.3"
  }
 },
 "nbformat": 4,
 "nbformat_minor": 4
}
