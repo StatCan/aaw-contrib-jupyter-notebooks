{
 "cells": [
  {
   "cell_type": "markdown",
   "metadata": {},
   "source": [
    "# Upload and download files from Bucket Storage!\n",
    "\n",
    "Many of these examples are straight from the R `aws.s3` library.\n",
    "\n",
    "The difference is that instead of creating your own S3 Client object,\n",
    "you can just run:\n",
    "\n",
    "```R\n",
    "source(\"daaas_storage.R\")\n",
    "daaas_storage.standard()\n",
    "# daaas_storage.premium()\n",
    "```\n",
    "\n",
    "This will configure the access for you.\n",
    "\n",
    "Then you proceed as in the examples!\n",
    "\n",
    "**NOTE: `use_https=FALSE, region=\"\"` are required, unfortunately.**"
   ]
  },
  {
   "cell_type": "markdown",
   "metadata": {},
   "source": [
    "## Get connected"
   ]
  },
  {
   "cell_type": "code",
   "execution_count": null,
   "metadata": {
    "tags": []
   },
   "outputs": [],
   "source": [
    "install.packages(\"aws.s3\")\n",
    "install.packages(\"RJSONIO\")\n",
    "library(\"aws.s3\")\n",
    "source(\"daaas_storage.R\")"
   ]
  },
  {
   "cell_type": "code",
   "execution_count": null,
   "metadata": {
    "tags": []
   },
   "outputs": [],
   "source": [
    "daaas_storage.standard()"
   ]
  },
  {
   "cell_type": "markdown",
   "metadata": {},
   "source": [
    "## Create your bucket"
   ]
  },
  {
   "cell_type": "code",
   "execution_count": null,
   "metadata": {
    "tags": []
   },
   "outputs": [],
   "source": [
    "# Your bucket goes here.\n",
    "BUCKET <- 'rohan-katkar'"
   ]
  },
  {
   "cell_type": "markdown",
   "metadata": {},
   "source": [
    "Error in parse_aws_s3_response(r, Sig, verbose = verbose): Conflict (HTTP 409). - Can be ignored"
   ]
  },
  {
   "cell_type": "code",
   "execution_count": null,
   "metadata": {
    "tags": []
   },
   "outputs": [],
   "source": [
    "SECURE <- as.logical(Sys.getenv(\"SECURE\"))\n",
    "b <- put_bucket(BUCKET, use_https=SECURE, region=\"\")\n",
    "print(SECURE)"
   ]
  },
  {
   "cell_type": "markdown",
   "metadata": {},
   "source": [
    "## Upload a file"
   ]
  },
  {
   "cell_type": "code",
   "execution_count": null,
   "metadata": {
    "tags": []
   },
   "outputs": [],
   "source": [
    "put_object(\n",
    "    file=\"example.txt\",\n",
    "    object=\"happy-bird.txt\",\n",
    "    bucket=BUCKET,\n",
    "    show_progress = TRUE,\n",
    "    use_https=TRUE,\n",
    "    region=\"\"\n",
    ")\n",
    "\n",
    "put_folder(\n",
    "    folder=\"example-folder\",\n",
    "    bucket=BUCKET,\n",
    "    show_progress = TRUE,\n",
    "    use_https=SECURE,\n",
    "    region=\"\"\n",
    ")"
   ]
  },
  {
   "cell_type": "markdown",
   "metadata": {},
   "source": [
    "## List objects"
   ]
  },
  {
   "cell_type": "code",
   "execution_count": null,
   "metadata": {
    "tags": []
   },
   "outputs": [],
   "source": [
    "get_bucket(bucket = BUCKET, use_https=SECURE, region=\"\")"
   ]
  },
  {
   "cell_type": "markdown",
   "metadata": {},
   "source": [
    "## Download a file"
   ]
  },
  {
   "cell_type": "code",
   "execution_count": null,
   "metadata": {
    "tags": []
   },
   "outputs": [],
   "source": [
    "save_object(\n",
    "    \"happy-bird.txt\",\n",
    "    bucket=BUCKET,\n",
    "    file=\"downloaded-example.txt\",\n",
    "    use_https=SECURE,\n",
    "    region=\"\"\n",
    ")"
   ]
  },
  {
   "cell_type": "markdown",
   "metadata": {},
   "source": [
    "# That's it!\n",
    "\n",
    "You've seen how to upload, list, and download files.\n",
    "You can do more things! For more advanced usage, check out the\n",
    "[`aws.s3` package overview](https://cran.r-project.org/package=aws.s3).\n",
    "\n",
    "And don't forget that you can also do this all on the commandline with `mc`"
   ]
  }
 ],
 "metadata": {
  "kernelspec": {
   "display_name": "R",
   "language": "R",
   "name": "ir"
  },
  "language_info": {
   "codemirror_mode": "r",
   "file_extension": ".r",
   "mimetype": "text/x-r-source",
   "name": "R",
   "pygments_lexer": "r",
   "version": "4.0.3"
  }
 },
 "nbformat": 4,
 "nbformat_minor": 4
}
