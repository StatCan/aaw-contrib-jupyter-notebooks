{
 "cells": [
  {
   "cell_type": "markdown",
   "metadata": {},
   "source": [
    "# Upload and download files from Bucket Storage!\n",
    "\n",
    "Many of these examples are straight from the R `aws.s3` library.\n",
    "\n",
    "The difference is that instead of creating your own S3 Client object,\n",
    "you can just run:\n",
    "\n",
    "```R\n",
    "source(\"daaas_storage.R\")\n",
    "daaas_storage.minimal()\n",
    "# daaas_storage.premium()\n",
    "# daaas_storage.pachyderm()\n",
    "```\n",
    "\n",
    "This will configure the access for you.\n",
    "\n",
    "Then you proceed as in the examples!\n",
    "\n",
    "**NOTE: `use_https=FALSE, region=\"\"` are required, unfortunately.**"
   ]
  },
  {
   "cell_type": "markdown",
   "metadata": {},
   "source": [
    "## Get connected"
   ]
  },
  {
   "cell_type": "code",
   "execution_count": null,
   "metadata": {},
   "outputs": [],
   "source": [
    "install.packages(\"aws.s3\")\n",
    "library(\"aws.s3\")\n",
    "source(\"daaas_storage.R\")"
   ]
  },
  {
   "cell_type": "code",
   "execution_count": null,
   "metadata": {},
   "outputs": [],
   "source": [
    "daaas_storage.minimal()"
   ]
  },
  {
   "cell_type": "markdown",
   "metadata": {},
   "source": [
    "## Create your bucket"
   ]
  },
  {
   "cell_type": "code",
   "execution_count": null,
   "metadata": {},
   "outputs": [],
   "source": [
    "# Your bucket goes here.\n",
    "BUCKET = 'blair-drummond'"
   ]
  },
  {
   "cell_type": "code",
   "execution_count": null,
   "metadata": {},
   "outputs": [],
   "source": [
    "b <- put_bucket(BUCKET, use_https=FALSE, region=\"\")"
   ]
  },
  {
   "cell_type": "markdown",
   "metadata": {},
   "source": [
    "## Upload a file"
   ]
  },
  {
   "cell_type": "code",
   "execution_count": null,
   "metadata": {},
   "outputs": [],
   "source": [
    "put_object(\n",
    "    file=\"example.txt\",\n",
    "    object=\"happy-bird.txt\",\n",
    "    bucket=BUCKET,\n",
    "    show_progress = TRUE,\n",
    "    use_https=FALSE,\n",
    "    region=\"\"\n",
    ")\n",
    "\n",
    "put_folder(\n",
    "    folder=\"example-folder\",\n",
    "    bucket=BUCKET,\n",
    "    show_progress = TRUE,\n",
    "    use_https=FALSE,\n",
    "    region=\"\"\n",
    ")"
   ]
  },
  {
   "cell_type": "markdown",
   "metadata": {},
   "source": [
    "## List objects"
   ]
  },
  {
   "cell_type": "code",
   "execution_count": null,
   "metadata": {},
   "outputs": [],
   "source": [
    "get_bucket(bucket = BUCKET, use_https=FALSE, region=\"\")"
   ]
  },
  {
   "cell_type": "markdown",
   "metadata": {},
   "source": [
    "## Download a file"
   ]
  },
  {
   "cell_type": "code",
   "execution_count": null,
   "metadata": {},
   "outputs": [],
   "source": [
    "save_object(\n",
    "    \"happy-bird.txt\",\n",
    "    bucket=BUCKET,\n",
    "    file=\"downloaded-example.txt\",\n",
    "    use_https=FALSE,\n",
    "    region=\"\"\n",
    ")"
   ]
  },
  {
   "cell_type": "markdown",
   "metadata": {},
   "source": [
    "# That's it!\n",
    "\n",
    "You've seen how to upload, list, and download files.\n",
    "You can do more things! For more advanced usage, check out the\n",
    "[`aws.s3` package overview](https://cran.r-project.org/package=aws.s3).\n",
    "\n",
    "And don't forget that you can also do this all on the commandline with `mc`"
   ]
  },
  {
   "cell_type": "code",
   "execution_count": null,
   "metadata": {},
   "outputs": [],
   "source": []
  }
 ],
 "metadata": {
  "kernelspec": {
   "display_name": "R",
   "language": "R",
   "name": "ir"
  },
  "language_info": {
   "codemirror_mode": "r",
   "file_extension": ".r",
   "mimetype": "text/x-r-source",
   "name": "R",
   "pygments_lexer": "r",
   "version": "3.6.3"
  }
 },
 "nbformat": 4,
 "nbformat_minor": 4
}