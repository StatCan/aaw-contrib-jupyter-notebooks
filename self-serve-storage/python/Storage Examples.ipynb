{
 "cells": [
  {
   "cell_type": "markdown",
   "metadata": {},
   "source": [
    "\n",
    "# Upload and download files from bucket storage!\n",
    "\n",
    "Bucket storage is a good way of making your data accessible from just about\n",
    "anywhere, and sharing it with others without having to grant them access to your\n",
    "entire Kubeflow space. While Kubeflow data volumes can only be attached to one\n",
    "notebook server at a time, you can interact with bucket storage from all your\n",
    "servers without moving anything.\n",
    "\n",
    "Under the hood, these examples are using the\n",
    "[Minio Python SDK](https://github.com/minio/minio-py). We'll be using our\n",
    "`daaas_storage` module to automatically configure the client, but take a look at\n",
    "`daaas_storage.py` (in the same folder as this notebook) if you want to see how\n",
    "that's done."
   ]
  },
  {
   "cell_type": "markdown",
   "metadata": {},
   "source": [
    "## Get connected\n",
    "\n",
    "Getting connected to bucket storage is as easy as a call to\n",
    "`get_minimal_client()`. We also have premium storage for use cases that require\n",
    "very high data throughput."
   ]
  },
  {
   "cell_type": "code",
   "execution_count": null,
   "metadata": {},
   "outputs": [],
   "source": [
    "import daaas_storage\n",
    "\n",
    "storage = daaas_storage.get_minimal_client()\n",
    "# minio_client = daaas_storage.get_premium_client()"
   ]
  },
  {
   "cell_type": "markdown",
   "metadata": {},
   "source": [
    "## Create your bucket\n",
    "\n",
    "You have access to two buckets:\n",
    "\n",
    "  * Personal: Your own bucket, visible only to you. You can create this bucket,\n",
    "    and must name it using the form `first_name-last_name`\n",
    "    (e.g. `blair-drummond`).\n",
    "  * Shared: A bucket for sharing with others. You can write objects to paths\n",
    "    prefixed using the form `first_name-last_name`\n",
    "    (e.g. `blair-drummond/my-file.txt`). Everyone can read from this bucket.\n",
    "\n",
    "First, we need to create your personal bucket."
   ]
  },
  {
   "cell_type": "code",
   "execution_count": null,
   "metadata": {},
   "outputs": [],
   "source": [
    "# In your own notebook, you might just do something like:\n",
    "# BUCKET='first_name-last_name'\n",
    "bucket = input('Personal bucket name:')"
   ]
  },
  {
   "cell_type": "code",
   "execution_count": null,
   "metadata": {},
   "outputs": [],
   "source": [
    "# If the bucket does not follow the convention, this will throw an AccessDenied\n",
    "# exception.\n",
    "\n",
    "if not storage.bucket_exists(bucket):\n",
    "    storage.make_bucket(bucket, storage._region)\n",
    "    print(f'Created bucket: {bucket}')\n",
    "else:\n",
    "    print(\"Your bucket already exists. 👍\")"
   ]
  },
  {
   "cell_type": "markdown",
   "metadata": {},
   "source": [
    "## Upload a file\n",
    "\n",
    "Now that your personal bucket exists you can upload your files! We can use\n",
    "`example.txt` from the same folder as this notebook.\n",
    "\n",
    "**Note:** Bucket storage doesn't actually have real directories, so you won't\n",
    "find any functions for creating them. But some software will show you a\n",
    "directory structure by looking at the slashes (`/`) in the file names. We'll use\n",
    "this to put `example.txt` under an `examples/` faux directory."
   ]
  },
  {
   "cell_type": "code",
   "execution_count": null,
   "metadata": {},
   "outputs": [],
   "source": [
    "# File we want to upload\n",
    "LOCAL_FILE='example.txt'\n",
    "# Desired location in the bucket\n",
    "REMOTE_FILE='examples/Happy-DAaaS-Bird.txt'\n",
    "\n",
    "storage.fput_object(bucket, REMOTE_FILE, LOCAL_FILE)"
   ]
  },
  {
   "cell_type": "markdown",
   "metadata": {},
   "source": [
    "## List objects\n",
    "\n",
    "If you want to list the files in a bucket, you can do that with the storage\n",
    "client too! Let's do that now and see the file we just uploaded. We'll add a\n",
    "prefix to limit the results to files beginning with `examples/`, which is akin\n",
    "to searching within a particular directory."
   ]
  },
  {
   "cell_type": "code",
   "execution_count": null,
   "metadata": {},
   "outputs": [],
   "source": [
    "# List all object paths in bucket that begin with \"examples/\"\n",
    "objects = storage.list_objects(bucket, prefix='examples/', recursive=True)\n",
    "\n",
    "for obj in objects:\n",
    "    print(f'Name: {obj.object_name}, Size: {obj.size} bytes')\n",
    "    # Also available: bucket_name, last_modified, etag, content_type"
   ]
  },
  {
   "cell_type": "markdown",
   "metadata": {},
   "source": [
    "## Download a file\n",
    "\n",
    "Finally, let's close the loop and download the file we just uploaded, and print\n",
    "it's contents."
   ]
  },
  {
   "cell_type": "code",
   "execution_count": null,
   "metadata": {},
   "outputs": [],
   "source": [
    "from shutil import copyfileobj\n",
    "\n",
    "DL_FILE='downloaded_example.txt'\n",
    "\n",
    "storage.fget_object(bucket, REMOTE_FILE, DL_FILE)\n",
    "with open(DL_FILE, 'r') as file:\n",
    "    print(file.read())"
   ]
  },
  {
   "cell_type": "markdown",
   "metadata": {},
   "source": [
    "# That's it!\n",
    "\n",
    "You've seen how to upload, list, and download files. You can do more things! For\n",
    "more advanced usage, check out the full API documentation for the\n",
    "[Minio Python SDK](https://github.com/minio/minio-py).\n",
    "\n",
    "And don't forget that you can also do this all on the commandline with `mc`."
   ]
  }
 ],
 "metadata": {
  "kernelspec": {
   "display_name": "Python 3",
   "language": "python",
   "name": "python3"
  },
  "language_info": {
   "codemirror_mode": {
    "name": "ipython",
    "version": 3
   },
   "file_extension": ".py",
   "mimetype": "text/x-python",
   "name": "python",
   "nbconvert_exporter": "python",
   "pygments_lexer": "ipython3",
   "version": "3.7.6"
  }
 },
 "nbformat": 4,
 "nbformat_minor": 4
}