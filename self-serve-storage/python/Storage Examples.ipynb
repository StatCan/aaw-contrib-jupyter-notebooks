{
 "cells": [
  {
   "cell_type": "markdown",
   "metadata": {},
   "source": [
    "\n",
    "# Upload and download files from bucket storage!\n",
    "\n",
    "Bucket storage is a good way of making your data accessible from just about\n",
    "anywhere, and sharing it with others without having to grant them access to your\n",
    "entire Kubeflow space. While Kubeflow data volumes can only be attached to one\n",
    "notebook server at a time, you can interact with bucket storage from all your\n",
    "servers without moving anything.\n",
    "\n",
    "Under the hood, these examples are using the\n",
    "[Minio Python SDK](https://github.com/minio/minio-py). We'll be using our\n",
    "`daaas_storage` module to automatically configure the client, but take a look at\n",
    "`daaas_storage.py` (in the same folder as this notebook) if you want to see how\n",
    "that's done."
   ]
  },
  {
   "cell_type": "markdown",
   "metadata": {},
   "source": [
    "## Picking a MinIO Instance\n",
    "\n",
    "You can check what MinIO instances are available through printing the attributes of the `instances` object."
   ]
  },
  {
   "cell_type": "code",
   "execution_count": null,
   "metadata": {},
   "outputs": [],
   "source": [
    "import daaas_storage\n",
    "\n",
    "instances = daaas_storage.Instances()\n",
    "print(instances.__dict__.keys())"
   ]
  },
  {
   "cell_type": "markdown",
   "metadata": {},
   "source": [
    "## Get connected\n",
    "\n",
    "Getting connected to bucket storage is as easy as getting the MinIO Client of an instances from the `instances` object. You can specify an instance from printed attributes in the step before. \n",
    "* `storage = instances.{instance}`  \n",
    "\n",
    "We have premium storage for use cases that require very high data throughput."
   ]
  },
  {
   "cell_type": "code",
   "execution_count": 1,
   "metadata": {
    "execution": {
     "iopub.execute_input": "2021-06-16T19:01:13.033486Z",
     "iopub.status.busy": "2021-06-16T19:01:13.033155Z",
     "iopub.status.idle": "2021-06-16T19:01:13.080634Z",
     "shell.execute_reply": "2021-06-16T19:01:13.079685Z",
     "shell.execute_reply.started": "2021-06-16T19:01:13.033409Z"
    }
   },
   "outputs": [],
   "source": [
    "# NOTE: change 'minio_standard' if you want to use another instance\n",
    "storage = instances.minio_standard"
   ]
  },
  {
   "cell_type": "markdown",
   "metadata": {},
   "source": [
    "## Create your bucket\n",
    "\n",
    "You have access to two buckets:\n",
    "\n",
    "  * Personal: Your own bucket, visible only to you. You can create this bucket,\n",
    "    and must name it using the form `first_name-last_name`\n",
    "    (e.g. `blair-drummond`).\n",
    "  * Shared: A bucket for sharing with others. You can write objects to paths\n",
    "    prefixed using the form `first_name-last_name`\n",
    "    (e.g. `blair-drummond/my-file.txt`). Everyone can read from this bucket.\n",
    "\n",
    "First, we need to create your personal bucket."
   ]
  },
  {
   "cell_type": "code",
   "execution_count": 2,
   "metadata": {
    "execution": {
     "iopub.execute_input": "2021-06-16T19:01:13.403653Z",
     "iopub.status.busy": "2021-06-16T19:01:13.403389Z",
     "iopub.status.idle": "2021-06-16T19:01:13.415607Z",
     "shell.execute_reply": "2021-06-16T19:01:13.414761Z",
     "shell.execute_reply.started": "2021-06-16T19:01:13.403626Z"
    }
   },
   "outputs": [
    {
     "data": {
      "text/plain": [
       "'rohan-katkar'"
      ]
     },
     "execution_count": 2,
     "metadata": {},
     "output_type": "execute_result"
    }
   ],
   "source": [
    "# In your own notebook, you might just do something like:\n",
    "# BUCKET='first_name-last_name'\n",
    "import os\n",
    "bucket = os.environ['NB_NAMESPACE']\n",
    "bucket"
   ]
  },
  {
   "cell_type": "code",
   "execution_count": 3,
   "metadata": {
    "execution": {
     "iopub.execute_input": "2021-06-16T19:01:13.590403Z",
     "iopub.status.busy": "2021-06-16T19:01:13.590026Z",
     "iopub.status.idle": "2021-06-16T19:01:13.608425Z",
     "shell.execute_reply": "2021-06-16T19:01:13.607524Z",
     "shell.execute_reply.started": "2021-06-16T19:01:13.590377Z"
    }
   },
   "outputs": [
    {
     "name": "stdout",
     "output_type": "stream",
     "text": [
      "Your bucket already exists. 👍\n"
     ]
    }
   ],
   "source": [
    "# If the bucket does not follow the convention, this will throw an AccessDenied\n",
    "# exception.\n",
    "\n",
    "if not storage.bucket_exists(bucket):\n",
    "    storage.make_bucket(bucket, storage._region)\n",
    "    print(f'Created bucket: {bucket}')\n",
    "else:\n",
    "    print(\"Your bucket already exists. 👍\")"
   ]
  },
  {
   "cell_type": "markdown",
   "metadata": {},
   "source": [
    "## Upload a file\n",
    "\n",
    "Now that your personal bucket exists you can upload your files! We can use\n",
    "`example.txt` from the same folder as this notebook.\n",
    "\n",
    "**Note:** Bucket storage doesn't actually have real directories, so you won't\n",
    "find any functions for creating them. But some software will show you a\n",
    "directory structure by looking at the slashes (`/`) in the file names. We'll use\n",
    "this to put `example.txt` under an `examples/` faux directory."
   ]
  },
  {
   "cell_type": "code",
   "execution_count": 4,
   "metadata": {
    "execution": {
     "iopub.execute_input": "2021-06-16T19:01:14.003781Z",
     "iopub.status.busy": "2021-06-16T19:01:14.003317Z",
     "iopub.status.idle": "2021-06-16T19:01:14.055657Z",
     "shell.execute_reply": "2021-06-16T19:01:14.054548Z",
     "shell.execute_reply.started": "2021-06-16T19:01:14.003703Z"
    }
   },
   "outputs": [
    {
     "data": {
      "text/plain": [
       "'37008c81a68a2bcd3eff314f758fae1c'"
      ]
     },
     "execution_count": 4,
     "metadata": {},
     "output_type": "execute_result"
    }
   ],
   "source": [
    "# File we want to upload\n",
    "LOCAL_FILE='example.txt'\n",
    "# Desired location in the bucket\n",
    "REMOTE_FILE='examples/Happy-DAaaS-Bird.txt'\n",
    "\n",
    "storage.fput_object(bucket, REMOTE_FILE, LOCAL_FILE)"
   ]
  },
  {
   "cell_type": "markdown",
   "metadata": {},
   "source": [
    "## List objects\n",
    "\n",
    "If you want to list the files in a bucket, you can do that with the storage\n",
    "client too! Let's do that now and see the file we just uploaded. We'll add a\n",
    "prefix to limit the results to files beginning with `examples/`, which is akin\n",
    "to searching within a particular directory."
   ]
  },
  {
   "cell_type": "code",
   "execution_count": 5,
   "metadata": {
    "execution": {
     "iopub.execute_input": "2021-06-16T19:01:14.663154Z",
     "iopub.status.busy": "2021-06-16T19:01:14.662869Z",
     "iopub.status.idle": "2021-06-16T19:01:14.684850Z",
     "shell.execute_reply": "2021-06-16T19:01:14.683685Z",
     "shell.execute_reply.started": "2021-06-16T19:01:14.663130Z"
    }
   },
   "outputs": [
    {
     "name": "stdout",
     "output_type": "stream",
     "text": [
      "Name: examples/Happy-DAaaS-Bird.txt, Size: 324 bytes\n",
      "Name: examples/happy-bird.txt, Size: 324 bytes\n"
     ]
    }
   ],
   "source": [
    "# List all object paths in bucket that begin with \"examples/\"\n",
    "objects = storage.list_objects(bucket, prefix='examples/', recursive=True)\n",
    "\n",
    "for obj in objects:\n",
    "    print(f'Name: {obj.object_name}, Size: {obj.size} bytes')\n",
    "    # Also available: bucket_name, last_modified, etag, content_type"
   ]
  },
  {
   "cell_type": "markdown",
   "metadata": {},
   "source": [
    "## Download a file\n",
    "\n",
    "Finally, let's close the loop and download the file we just uploaded, and print\n",
    "it's contents."
   ]
  },
  {
   "cell_type": "code",
   "execution_count": 6,
   "metadata": {
    "execution": {
     "iopub.execute_input": "2021-06-16T19:01:15.396156Z",
     "iopub.status.busy": "2021-06-16T19:01:15.395919Z",
     "iopub.status.idle": "2021-06-16T19:01:15.428767Z",
     "shell.execute_reply": "2021-06-16T19:01:15.427805Z",
     "shell.execute_reply.started": "2021-06-16T19:01:15.396131Z"
    }
   },
   "outputs": [
    {
     "name": "stdout",
     "output_type": "stream",
     "text": [
      "                   ________________\n",
      "                  /                \\\n",
      "                  |  Go DAaaS!!!!  |\n",
      "                  | _______________/\n",
      "                  |/\n",
      "         ^____,      \n",
      "         /`  `\\    \n",
      "        /   ^  >      \n",
      "       /  / , /\n",
      "  «^` // /=/ %\n",
      "   ««.~ «_/ %\n",
      "    ««\\,___%\n",
      "      ``\\  \\\n",
      "         ^  ^\n",
      "\n"
     ]
    }
   ],
   "source": [
    "from shutil import copyfileobj\n",
    "\n",
    "DL_FILE='downloaded_example.txt'\n",
    "\n",
    "storage.fget_object(bucket, REMOTE_FILE, DL_FILE)\n",
    "with open(DL_FILE, 'r') as file:\n",
    "    print(file.read())"
   ]
  },
  {
   "cell_type": "markdown",
   "metadata": {},
   "source": [
    "# That's it!\n",
    "\n",
    "You've seen how to upload, list, and download files. You can do more things! For\n",
    "more advanced usage, check out the full API documentation for the\n",
    "[Minio Python SDK](https://github.com/minio/minio-py).\n",
    "\n",
    "And don't forget that you can also do this all on the commandline with `mc`."
   ]
  }
 ],
 "metadata": {
  "kernelspec": {
   "display_name": "Python 3",
   "language": "python",
   "name": "python3"
  },
  "language_info": {
   "codemirror_mode": {
    "name": "ipython",
    "version": 3
   },
   "file_extension": ".py",
   "mimetype": "text/x-python",
   "name": "python",
   "nbconvert_exporter": "python",
   "pygments_lexer": "ipython3",
   "version": "3.8.8"
  }
 },
 "nbformat": 4,
 "nbformat_minor": 4
}
