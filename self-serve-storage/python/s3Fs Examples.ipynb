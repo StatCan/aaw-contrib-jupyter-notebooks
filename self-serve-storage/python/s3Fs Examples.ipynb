{
 "cells": [
  {
   "cell_type": "markdown",
   "metadata": {},
   "source": [
    "# S3Fs Notebook Example\n",
    "\n",
    "S3Fs is a Pythonic file interface to S3. It builds on top of botocore.\n",
    "\n",
    "The top-level class S3FileSystem holds connection information and allows typical file-system style operations like cp, mv, ls, du, glob, etc., as well as put/get of local files to/from S3.\n",
    "\n",
    "The connection can be anonymous - in which case only publicly-available, read-only buckets are accessible - or via credentials explicitly supplied or in configuration files.\n",
    "\n",
    "API Version 2021.06.0\n",
    "https://buildmedia.readthedocs.org/media/pdf/s3fs/latest/s3fs.pdfhttps://buildmedia.readthedocs.org/media/pdf/s3fs/latest/s3fs.pdf"
   ]
  },
  {
   "cell_type": "markdown",
   "metadata": {},
   "source": [
    "Note: If you get errors like `ModuleNotFoundError: No module named 's3fs'`, try `pip install s3fs` in a terminal and then restart your notebook:\n"
   ]
  },
  {
   "cell_type": "code",
   "execution_count": 57,
   "metadata": {
    "execution": {
     "iopub.execute_input": "2021-07-02T16:07:30.534191Z",
     "iopub.status.busy": "2021-07-02T16:07:30.533953Z",
     "iopub.status.idle": "2021-07-02T16:07:30.537026Z",
     "shell.execute_reply": "2021-07-02T16:07:30.536516Z",
     "shell.execute_reply.started": "2021-07-02T16:07:30.534166Z"
    },
    "tags": []
   },
   "outputs": [],
   "source": [
    "import json\n",
    "import os\n",
    "import s3fs"
   ]
  },
  {
   "cell_type": "markdown",
   "metadata": {},
   "source": [
    "Load the credentials file .json to make a connection to `S3FileSystem`"
   ]
  },
  {
   "cell_type": "code",
   "execution_count": 58,
   "metadata": {
    "execution": {
     "iopub.execute_input": "2021-07-02T16:07:31.115240Z",
     "iopub.status.busy": "2021-07-02T16:07:31.114989Z",
     "iopub.status.idle": "2021-07-02T16:07:31.118506Z",
     "shell.execute_reply": "2021-07-02T16:07:31.118018Z",
     "shell.execute_reply.started": "2021-07-02T16:07:31.115214Z"
    },
    "tags": []
   },
   "outputs": [],
   "source": [
    "tenant=\"standard\"\n",
    "with open(f'/vault/secrets/minio-{tenant}-tenant-1.json') as f:\n",
    "     creds = json.load(f)\n"
   ]
  },
  {
   "cell_type": "markdown",
   "metadata": {},
   "source": [
    "The connection can be anonymous- in which case only publicly-available, read-only buckets are accessible - or via credentials explicitly supplied or in configuration files. \n",
    "\n",
    "Calling open() on a S3FileSystem (typically using a context manager) provides an S3File for read or write access to a particular key. The object emulates the standard File protocol (read, write, tell, seek), such that functions expecting a file can access S3."
   ]
  },
  {
   "cell_type": "code",
   "execution_count": 68,
   "metadata": {
    "execution": {
     "iopub.execute_input": "2021-07-02T16:27:39.242393Z",
     "iopub.status.busy": "2021-07-02T16:27:39.242143Z",
     "iopub.status.idle": "2021-07-02T16:27:39.246161Z",
     "shell.execute_reply": "2021-07-02T16:27:39.245551Z",
     "shell.execute_reply.started": "2021-07-02T16:27:39.242368Z"
    },
    "tags": []
   },
   "outputs": [],
   "source": [
    "HOST = creds['MINIO_URL']\n",
    "SECURE = HOST.startswith('https')\n",
    "fs = s3fs.S3FileSystem(\n",
    "    anon=False,\n",
    "    use_ssl=SECURE,\n",
    "    client_kwargs=\n",
    "    {\n",
    "        \"region_name\": \"us-east-1\",\n",
    "        \"endpoint_url\": creds['MINIO_URL'],\n",
    "        \"aws_access_key_id\": creds['AWS_ACCESS_KEY_ID'],\n",
    "        \"aws_secret_access_key\": creds['AWS_SECRET_ACCESS_KEY']\n",
    "    }\n",
    ")"
   ]
  },
  {
   "cell_type": "markdown",
   "metadata": {},
   "source": [
    "## Upload a file\n",
    "\n",
    "Now that your personal bucket exists you can upload your files! We can use\n",
    "`example.txt` from the same folder as this notebook.\n",
    "\n",
    "**Note:** Bucket storage doesn't actually have real directories, so you won't\n",
    "find any functions for creating them. But some software will show you a\n",
    "directory structure by looking at the slashes (`/`) in the file names. We'll use\n",
    "this to put `example.txt` under an `/s3fs-examples` faux directory."
   ]
  },
  {
   "cell_type": "code",
   "execution_count": 54,
   "metadata": {
    "execution": {
     "iopub.execute_input": "2021-07-02T16:05:15.713593Z",
     "iopub.status.busy": "2021-07-02T16:05:15.713348Z",
     "iopub.status.idle": "2021-07-02T16:05:15.721048Z",
     "shell.execute_reply": "2021-07-02T16:05:15.720355Z",
     "shell.execute_reply.started": "2021-07-02T16:05:15.713569Z"
    },
    "tags": []
   },
   "outputs": [
    {
     "ename": "KeyError",
     "evalue": "'NB_NAMESPACE'",
     "output_type": "error",
     "traceback": [
      "\u001b[0;31m---------------------------------------------------------------------------\u001b[0m",
      "\u001b[0;31mKeyError\u001b[0m                                  Traceback (most recent call last)",
      "\u001b[0;32m<ipython-input-54-80dd9e781f83>\u001b[0m in \u001b[0;36m<module>\u001b[0;34m\u001b[0m\n\u001b[1;32m      2\u001b[0m \u001b[0;31m#NB_NAMESPACE: namespace of user e.g. rohan-katkar\u001b[0m\u001b[0;34m\u001b[0m\u001b[0;34m\u001b[0m\u001b[0;34m\u001b[0m\u001b[0m\n\u001b[1;32m      3\u001b[0m \u001b[0mLOCAL_FILE\u001b[0m\u001b[0;34m=\u001b[0m\u001b[0;34m'example.txt'\u001b[0m\u001b[0;34m\u001b[0m\u001b[0;34m\u001b[0m\u001b[0m\n\u001b[0;32m----> 4\u001b[0;31m \u001b[0mREMOTE_FILE\u001b[0m\u001b[0;34m=\u001b[0m \u001b[0mos\u001b[0m\u001b[0;34m.\u001b[0m\u001b[0menviron\u001b[0m\u001b[0;34m[\u001b[0m\u001b[0;34m'NB_NAMESPACE'\u001b[0m\u001b[0;34m]\u001b[0m\u001b[0;34m+\u001b[0m\u001b[0;34m'/s3fs-examples/Happy-DAaaS-Bird.txt'\u001b[0m\u001b[0;34m\u001b[0m\u001b[0;34m\u001b[0m\u001b[0m\n\u001b[0m\u001b[1;32m      5\u001b[0m \u001b[0;34m\u001b[0m\u001b[0m\n\u001b[1;32m      6\u001b[0m \u001b[0mfs\u001b[0m\u001b[0;34m.\u001b[0m\u001b[0mput\u001b[0m\u001b[0;34m(\u001b[0m\u001b[0mLOCAL_FILE\u001b[0m\u001b[0;34m,\u001b[0m\u001b[0mREMOTE_FILE\u001b[0m\u001b[0;34m)\u001b[0m\u001b[0;34m\u001b[0m\u001b[0;34m\u001b[0m\u001b[0m\n",
      "\u001b[0;32m/opt/conda/lib/python3.8/os.py\u001b[0m in \u001b[0;36m__getitem__\u001b[0;34m(self, key)\u001b[0m\n\u001b[1;32m    673\u001b[0m         \u001b[0;32mexcept\u001b[0m \u001b[0mKeyError\u001b[0m\u001b[0;34m:\u001b[0m\u001b[0;34m\u001b[0m\u001b[0;34m\u001b[0m\u001b[0m\n\u001b[1;32m    674\u001b[0m             \u001b[0;31m# raise KeyError with the original key value\u001b[0m\u001b[0;34m\u001b[0m\u001b[0;34m\u001b[0m\u001b[0;34m\u001b[0m\u001b[0m\n\u001b[0;32m--> 675\u001b[0;31m             \u001b[0;32mraise\u001b[0m \u001b[0mKeyError\u001b[0m\u001b[0;34m(\u001b[0m\u001b[0mkey\u001b[0m\u001b[0;34m)\u001b[0m \u001b[0;32mfrom\u001b[0m \u001b[0;32mNone\u001b[0m\u001b[0;34m\u001b[0m\u001b[0;34m\u001b[0m\u001b[0m\n\u001b[0m\u001b[1;32m    676\u001b[0m         \u001b[0;32mreturn\u001b[0m \u001b[0mself\u001b[0m\u001b[0;34m.\u001b[0m\u001b[0mdecodevalue\u001b[0m\u001b[0;34m(\u001b[0m\u001b[0mvalue\u001b[0m\u001b[0;34m)\u001b[0m\u001b[0;34m\u001b[0m\u001b[0;34m\u001b[0m\u001b[0m\n\u001b[1;32m    677\u001b[0m \u001b[0;34m\u001b[0m\u001b[0m\n",
      "\u001b[0;31mKeyError\u001b[0m: 'NB_NAMESPACE'"
     ]
    }
   ],
   "source": [
    "# Desired location in the bucket\n",
    "#NB_NAMESPACE: namespace of user e.g. rohan-katkar\n",
    "LOCAL_FILE='example.txt'\n",
    "REMOTE_FILE= os.environ['NB_NAMESPACE']+'/s3fs-examples/Happy-DAaaS-Bird.txt'\n",
    "\n",
    "fs.put(LOCAL_FILE,REMOTE_FILE)"
   ]
  },
  {
   "cell_type": "markdown",
   "metadata": {},
   "source": [
    "## Check path exists in bucket"
   ]
  },
  {
   "cell_type": "code",
   "execution_count": 27,
   "metadata": {
    "execution": {
     "iopub.execute_input": "2021-06-16T19:01:03.750126Z",
     "iopub.status.busy": "2021-06-16T19:01:03.749836Z",
     "iopub.status.idle": "2021-06-16T19:01:03.779255Z",
     "shell.execute_reply": "2021-06-16T19:01:03.778516Z",
     "shell.execute_reply.started": "2021-06-16T19:01:03.750099Z"
    },
    "tags": []
   },
   "outputs": [
    {
     "data": {
      "text/plain": [
       "True"
      ]
     },
     "execution_count": 27,
     "metadata": {},
     "output_type": "execute_result"
    }
   ],
   "source": [
    "fs.exists(os.environ['NB_NAMESPACE']+'/s3fs-examples')"
   ]
  },
  {
   "cell_type": "markdown",
   "metadata": {},
   "source": [
    "## List objects in bucket"
   ]
  },
  {
   "cell_type": "code",
   "execution_count": 28,
   "metadata": {
    "execution": {
     "iopub.execute_input": "2021-06-16T19:01:04.129174Z",
     "iopub.status.busy": "2021-06-16T19:01:04.128883Z",
     "iopub.status.idle": "2021-06-16T19:01:04.149224Z",
     "shell.execute_reply": "2021-06-16T19:01:04.148267Z",
     "shell.execute_reply.started": "2021-06-16T19:01:04.129147Z"
    },
    "tags": []
   },
   "outputs": [
    {
     "data": {
      "text/plain": [
       "['rohan-katkar/happy-bird.txt',\n",
       " 'rohan-katkar/example-folder',\n",
       " 'rohan-katkar/examples',\n",
       " 'rohan-katkar/map-reduce-output-lw',\n",
       " 'rohan-katkar/map-reduce-output',\n",
       " 'rohan-katkar/s3fs-examples']"
      ]
     },
     "execution_count": 28,
     "metadata": {},
     "output_type": "execute_result"
    }
   ],
   "source": [
    "fs.ls(os.environ['NB_NAMESPACE'])"
   ]
  },
  {
   "cell_type": "markdown",
   "metadata": {},
   "source": [
    "## List objects in path\n"
   ]
  },
  {
   "cell_type": "code",
   "execution_count": 29,
   "metadata": {
    "execution": {
     "iopub.execute_input": "2021-06-16T19:01:04.521157Z",
     "iopub.status.busy": "2021-06-16T19:01:04.520899Z",
     "iopub.status.idle": "2021-06-16T19:01:04.526682Z",
     "shell.execute_reply": "2021-06-16T19:01:04.525698Z",
     "shell.execute_reply.started": "2021-06-16T19:01:04.521130Z"
    },
    "tags": []
   },
   "outputs": [
    {
     "name": "stdout",
     "output_type": "stream",
     "text": [
      "Name: rohan-katkar/s3fs-examples/Happy-DAaaS-Bird.txt\n"
     ]
    }
   ],
   "source": [
    "x = []\n",
    "x= fs.ls(os.environ['NB_NAMESPACE'] +'/s3fs-examples')\n",
    "for obj in x:\n",
    "    print(f'Name: {obj}')"
   ]
  },
  {
   "cell_type": "markdown",
   "metadata": {},
   "source": [
    "## Download a file\n",
    "There is another method `download(rpath, lpath[, recursive])`. S3Fs has issues with this method. Get is an equivalent method."
   ]
  },
  {
   "cell_type": "code",
   "execution_count": 16,
   "metadata": {
    "execution": {
     "iopub.execute_input": "2021-06-16T18:54:32.084219Z",
     "iopub.status.busy": "2021-06-16T18:54:32.083867Z",
     "iopub.status.idle": "2021-06-16T18:54:32.603802Z",
     "shell.execute_reply": "2021-06-16T18:54:32.602289Z",
     "shell.execute_reply.started": "2021-06-16T18:54:32.084173Z"
    },
    "tags": []
   },
   "outputs": [
    {
     "name": "stdout",
     "output_type": "stream",
     "text": [
      "                   ________________\n",
      "                  /                \\\n",
      "                  |  Go DAaaS!!!!  |\n",
      "                  | _______________/\n",
      "                  |/\n",
      "         ^____,      \n",
      "         /`  `\\    \n",
      "        /   ^  >      \n",
      "       /  / , /\n",
      "  «^` // /=/ %\n",
      "   ««.~ «_/ %\n",
      "    ««\\,___%\n",
      "      ``\\  \\\n",
      "         ^  ^\n",
      "\n"
     ]
    }
   ],
   "source": [
    "from shutil import copyfileobj\n",
    "DL_FILE='downloaded_s3fsexample.txt'\n",
    "fs.get(os.environ['NB_NAMESPACE']+'/s3fs-examples/Happy-DAaaS-Bird.txt', DL_FILE)\n",
    "with open(DL_FILE, 'r') as file:\n",
    "    print(file.read())"
   ]
  },
  {
   "cell_type": "markdown",
   "metadata": {},
   "source": [
    "# That's it!\n",
    "\n",
    "You've seen how to upload, list, and download files. You can do more things! For\n",
    "more advanced usage, check out the full API documentation for the\n",
    "[S3Fs Python SDK](https://s3fs.readthedocs.io/en/latest/api.html).\n",
    "\n",
    "And don't forget that you can also do this all on the commandline with `mc`."
   ]
  }
 ],
 "metadata": {
  "kernelspec": {
   "display_name": "Python 3",
   "language": "python",
   "name": "python3"
  },
  "language_info": {
   "codemirror_mode": {
    "name": "ipython",
    "version": 3
   },
   "file_extension": ".py",
   "mimetype": "text/x-python",
   "name": "python",
   "nbconvert_exporter": "python",
   "pygments_lexer": "ipython3",
   "version": "3.8.8"
  }
 },
 "nbformat": 4,
 "nbformat_minor": 4
}
