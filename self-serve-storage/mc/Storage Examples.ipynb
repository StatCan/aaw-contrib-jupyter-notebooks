{
 "cells": [
  {
   "cell_type": "markdown",
   "metadata": {},
   "source": [
    "# Upload and download files from Bucket Storage!\n",
    "\n",
    "We're going to use the commandline tool `mc`. While it is a commandline tool,\n",
    "it is in many ways far easier to use than the Python or `R` options."
   ]
  },
  {
   "cell_type": "markdown",
   "metadata": {},
   "source": [
    "## Get Connected"
   ]
  },
  {
   "cell_type": "code",
   "execution_count": null,
   "metadata": {},
   "outputs": [],
   "source": [
    "# Get the credentials\n",
    "!bash -c 'source /vault/secrets/minio-minimal-tenant1 && \\\n",
    "          mc config host add minio-minimal $MINIO_URL $MINIO_ACCESS_KEY $MINIO_SECRET_KEY'\n",
    "\n",
    "# # Get the credentials\n",
    "# !bash -c 'source /vault/secrets/minio-pachyderm-tenant1 && \\\n",
    "#           mc config host add minio-pachyderm $MINIO_URL $MINIO_ACCESS_KEY $MINIO_SECRET_KEY'\n",
    "\n",
    "# # Get the credentials\n",
    "# !bash -c 'source /vault/secrets/minio-premium-tenant1 && \\\n",
    "#          mc config host add minio-premium $MINIO_URL $MINIO_ACCESS_KEY $MINIO_SECRET_KEY'"
   ]
  },
  {
   "cell_type": "markdown",
   "metadata": {},
   "source": [
    "### Side note about Jupyter v.s. Bash\n",
    "\n",
    "In a regular terminal, you would just write\n",
    "\n",
    "```bash\n",
    "$ source /vault/secrets/minio-minimal-tenant1 \n",
    "$ mc config host add minio-minimal $MINIO_URL $MINIO_ACCESS_KEY $MINIO_SECRET_KEY\n",
    "```\n",
    "\n",
    "We have to use `bash -c` in Jupyter notebooks, because otherwise it doesn't save variables. "
   ]
  },
  {
   "cell_type": "markdown",
   "metadata": {},
   "source": [
    "# MC can do a lot!\n",
    "\n",
    "Check with `mc --help`\n",
    "\n",
    "Particularly useful ones are `mc cp, share, find, ls, du, head, cat`"
   ]
  },
  {
   "cell_type": "code",
   "execution_count": null,
   "metadata": {},
   "outputs": [],
   "source": [
    "!mc --help "
   ]
  },
  {
   "cell_type": "markdown",
   "metadata": {},
   "source": [
    "## Create a bucket under your name"
   ]
  },
  {
   "cell_type": "code",
   "execution_count": null,
   "metadata": {},
   "outputs": [],
   "source": [
    "# NOTE: Everyone can have their own bucket with the same name as their namespace, \n",
    "# typically FIRSTNAME-LASTNAME. If that bucket does not exist already, you can create \n",
    "# it as shown below\n",
    "\n",
    "# The private bucket. \"mb\" = make bucket\n",
    "!mc mb -p minio-minimal/blair-drummond           # Replace with your name.\n",
    "\n",
    "# The shared bucket\n",
    "#!mc mb -p minio-minimal/shared/blair-drummond   # Replace with your name"
   ]
  },
  {
   "cell_type": "markdown",
   "metadata": {},
   "source": [
    "## Copy over your files"
   ]
  },
  {
   "cell_type": "code",
   "execution_count": null,
   "metadata": {},
   "outputs": [],
   "source": [
    "!mc cp example.txt minio-minimal/blair-drummond/examples/happy-bird.txt"
   ]
  },
  {
   "cell_type": "markdown",
   "metadata": {},
   "source": [
    "## List your files"
   ]
  },
  {
   "cell_type": "code",
   "execution_count": null,
   "metadata": {},
   "outputs": [],
   "source": [
    "# There you go! Now you can copy over files or folders!\n",
    "!mc ls minio-minimal/blair-drummond\n",
    "!echo\n",
    "!mc find minio-minimal/blair-drummond/examples"
   ]
  },
  {
   "cell_type": "markdown",
   "metadata": {},
   "source": [
    "## Download your file"
   ]
  },
  {
   "cell_type": "code",
   "execution_count": null,
   "metadata": {},
   "outputs": [],
   "source": [
    "!mc cp -r minio-minimal/blair-drummond/examples downloaded"
   ]
  },
  {
   "cell_type": "markdown",
   "metadata": {},
   "source": [
    "## BONUS: Share a file with a link!\n",
    "\n",
    "**NOTE: If they are outside kubeflow, they'll need to replace**\n",
    "```\n",
    "http://minimal-tenant1-minio.minio:9000\n",
    "```\n",
    "\n",
    "with\n",
    "\n",
    "```\n",
    "https://minimal-tenant1-minio.covid.cloud.statcan.ca/\n",
    "```"
   ]
  },
  {
   "cell_type": "code",
   "execution_count": null,
   "metadata": {},
   "outputs": [],
   "source": [
    "!mc share download minio-minimal/blair-drummond/examples/happy-bird.txt"
   ]
  },
  {
   "cell_type": "markdown",
   "metadata": {},
   "source": [
    "## Let a collaborator upload their own file!\n",
    "\n",
    "Your collaborator will be allowed to upload a file here!"
   ]
  },
  {
   "cell_type": "code",
   "execution_count": null,
   "metadata": {},
   "outputs": [],
   "source": [
    "!mc share upload minio-minimal/blair-drummond/uploads"
   ]
  },
  {
   "cell_type": "code",
   "execution_count": null,
   "metadata": {},
   "outputs": [],
   "source": []
  }
 ],
 "metadata": {
  "kernelspec": {
   "display_name": "Python 3",
   "language": "python",
   "name": "python3"
  },
  "language_info": {
   "codemirror_mode": {
    "name": "ipython",
    "version": 3
   },
   "file_extension": ".py",
   "mimetype": "text/x-python",
   "name": "python",
   "nbconvert_exporter": "python",
   "pygments_lexer": "ipython3",
   "version": "3.7.6"
  }
 },
 "nbformat": 4,
 "nbformat_minor": 4
}