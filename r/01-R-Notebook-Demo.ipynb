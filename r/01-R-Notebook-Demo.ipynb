{
 "cells": [
  {
   "cell_type": "markdown",
   "metadata": {},
   "source": [
    "# Short Demo of R in Jupyter\n",
    "\n",
    "Demonstrations from http://r-statistics.co/Top50-Ggplot2-Visualizations-MasterList-R-Code.html.\n"
   ]
  },
  {
   "cell_type": "code",
   "execution_count": null,
   "metadata": {},
   "outputs": [],
   "source": [
    "options(scipen=999)  # turn-off scientific notation like 1e+48\n",
    "library(ggplot2)\n",
    "theme_set(theme_bw())  # pre-set the bw theme."
   ]
  },
  {
   "cell_type": "code",
   "execution_count": null,
   "metadata": {},
   "outputs": [],
   "source": [
    "data(mpg, package=\"ggplot2\") # alternate source: \"http://goo.gl/uEeRGu\")"
   ]
  },
  {
   "cell_type": "code",
   "execution_count": null,
   "metadata": {},
   "outputs": [],
   "source": [
    "g <- ggplot(mpg, aes(cty, hwy))\n",
    "\n",
    "# Scatterplot\n",
    "g + geom_point() + \n",
    "  geom_smooth(method=\"lm\", se=F) +\n",
    "  labs(subtitle=\"mpg: city vs highway mileage\", \n",
    "       y=\"hwy\", \n",
    "       x=\"cty\", \n",
    "       title=\"Scatterplot with overlapping points\", \n",
    "       caption=\"Source: midwest\")"
   ]
  },
  {
   "cell_type": "code",
   "execution_count": null,
   "metadata": {},
   "outputs": [],
   "source": [
    "data(\"midwest\", package = \"ggplot2\")"
   ]
  },
  {
   "cell_type": "code",
   "execution_count": null,
   "metadata": {},
   "outputs": [],
   "source": [
    "# Scatterplot\n",
    "gg <- ggplot(midwest, aes(x=area, y=poptotal)) + \n",
    "  geom_point(aes(col=state, size=popdensity)) + \n",
    "  geom_smooth(method=\"loess\", se=F) + \n",
    "  xlim(c(0, 0.1)) + \n",
    "  ylim(c(0, 500000)) + \n",
    "  labs(subtitle=\"Area Vs Population\", \n",
    "       y=\"Population\", \n",
    "       x=\"Area\", \n",
    "       title=\"Scatterplot\", \n",
    "       caption = \"Source: midwest\")\n",
    "\n",
    "plot(gg)"
   ]
  },
  {
   "cell_type": "code",
   "execution_count": null,
   "metadata": {},
   "outputs": [],
   "source": []
  }
 ],
 "metadata": {
  "kernelspec": {
   "display_name": "R",
   "language": "R",
   "name": "ir"
  },
  "language_info": {
   "codemirror_mode": "r",
   "file_extension": ".r",
   "mimetype": "text/x-r-source",
   "name": "R",
   "pygments_lexer": "r",
   "version": "3.6.2"
  },
  "toc-autonumbering": true,
  "toc-showcode": true,
  "toc-showmarkdowntxt": true,
  "toc-showtags": false
 },
 "nbformat": 4,
 "nbformat_minor": 4
}
