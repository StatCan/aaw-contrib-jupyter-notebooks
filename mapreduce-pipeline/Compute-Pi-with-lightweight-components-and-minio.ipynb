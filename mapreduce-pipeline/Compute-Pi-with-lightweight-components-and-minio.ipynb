{
 "cells": [
  {
   "cell_type": "markdown",
   "metadata": {},
   "source": [
    "**Difficulty: Intermediate**\n",
    "\n",
    "# Summary:\n",
    "\n",
    "This example demonstrates:\n",
    "* building a pipeline with lightweight components (components defined here in Python code)\n",
    "* Saving results to MinIO\n",
    "* Running parallel processes, where parallelism is defined at runtime\n",
    "\n",
    "In doing this, we build a **shareable** pipeline - one that you can share with others and they can rerun on a new problem without needing this notebook.\n",
    "\n",
    "This example builds on concepts from a few others - see those notebooks for more detail: \n",
    "* The problem solved here is from [Compute Pi](../mapreduce-pipeline/Compute-Pi.ipynb) \n",
    "* We use lightweight components, which have some important [quirks](../kfp-basics/demo_kfp_lightweight_components.ipynb)\n",
    "\n",
    "**Note:** Although we demonistrate how to make lightweight components that interact directly with minio, this reduces code reusability and makes things harder to test.  A more reusable/testable version of this is given in [Compute Pi with Reusable Components](Compute-Pi-with-reusable-components-and-minio.ipynb)."
   ]
  },
  {
   "cell_type": "code",
   "execution_count": 1,
   "metadata": {
    "execution": {
     "iopub.execute_input": "2021-06-16T18:11:38.879159Z",
     "iopub.status.busy": "2021-06-16T18:11:38.878808Z",
     "iopub.status.idle": "2021-06-16T18:11:39.619447Z",
     "shell.execute_reply": "2021-06-16T18:11:39.618648Z",
     "shell.execute_reply.started": "2021-06-16T18:11:38.879050Z"
    }
   },
   "outputs": [],
   "source": [
    "from typing import List\n",
    "\n",
    "import kfp\n",
    "from kfp import dsl, compiler\n",
    "from kfp.components import func_to_container_op\n",
    "\n",
    "# TODO: Move utilities to a central repo\n",
    "from utilities import get_minio_credentials, copy_to_minio\n",
    "from utilities import minio_find_files_matching_pattern"
   ]
  },
  {
   "cell_type": "markdown",
   "metadata": {},
   "source": [
    "# Problem Description\n",
    "\n",
    "Our task is to compute an estimate of Pi by:\n",
    "1. picking some random points\n",
    "1. evaluating whether the points are inside a unit circle\n",
    "1. aggregating (2) to estimate pi\n",
    "\n",
    "Our solution to this task here focuses on:\n",
    "* making a fully reusable pipeline:\n",
    "    * The pipeline should be sharable.  You should be able to share the pipeline by giving them the pipeline.yaml file **without** sharing this notebook\n",
    "    * All user inputs are adjustable at runtime (no editing the YAML, changing hard-coded settings in the Python code, etc.)\n",
    "* persisting data in MinIO\n",
    "* using existing, reusable components where possible\n",
    "    * Ex: rather than teach our sample function to store results in MinIO, we use an existing component to store results\n",
    "    * This helps improve testability and reduces work when building new pipelines"
   ]
  },
  {
   "cell_type": "markdown",
   "metadata": {},
   "source": [
    "# Pipeline pseudocode"
   ]
  },
  {
   "cell_type": "markdown",
   "metadata": {},
   "source": [
    "To solve our problem, we need to: \n",
    "* Generate N random seeds\n",
    "    * For each random seed, do a sample step\n",
    "    * For each sample step, store the result to a location in MinIO\n",
    "* Collect all sample results\n",
    "* Compute pi (by averaging the results)\n",
    "* Save the final result to MinIO"
   ]
  },
  {
   "cell_type": "markdown",
   "metadata": {},
   "source": [
    "In pseudocode our pipeline looks like:"
   ]
  },
  {
   "cell_type": "markdown",
   "metadata": {},
   "source": [
    "```python\n",
    "def compute_pi(n_samples: int,\n",
    "               output_location: str,\n",
    "               minio_credentials, \n",
    "              ):\n",
    "    seeds = create_seeds(n_samples)\n",
    "\n",
    "    for seed in seeds:\n",
    "        result = sample(seed, minio_credentials, output_location)\n",
    "    \n",
    "    all_sample_results = collect_all_results(minio_credentials,\n",
    "                                             sample_output_location\n",
    "                                            )\n",
    "    \n",
    "    final_result = average(all_sample_results)\n",
    "```"
   ]
  },
  {
   "cell_type": "markdown",
   "metadata": {},
   "source": [
    "where we've pulled anything the user might want to set at runtime (the number of samples, the location in MinIO for results to be placed, and their MinIO credentials) out as pipeline arguments.\n",
    "\n",
    "Now lets fill in all the function calls with components"
   ]
  },
  {
   "cell_type": "markdown",
   "metadata": {},
   "source": [
    "# Define Pipeline Operations as Functions"
   ]
  },
  {
   "cell_type": "markdown",
   "metadata": {},
   "source": [
    "## create_seeds"
   ]
  },
  {
   "cell_type": "code",
   "execution_count": 2,
   "metadata": {
    "execution": {
     "iopub.execute_input": "2021-06-16T18:11:40.635127Z",
     "iopub.status.busy": "2021-06-16T18:11:40.634868Z",
     "iopub.status.idle": "2021-06-16T18:11:40.640329Z",
     "shell.execute_reply": "2021-06-16T18:11:40.639452Z",
     "shell.execute_reply.started": "2021-06-16T18:11:40.635102Z"
    }
   },
   "outputs": [],
   "source": [
    "def create_seeds_func(n_samples: int) -> list:\n",
    "    \"\"\"\n",
    "    Creates n_samples seeds and returns as a list\n",
    "\n",
    "    Note: When used as an operation in a KF pipeline, the list is serialized\n",
    "    to a string.  Can deserialize with strip and split or json package\n",
    "    This sort of comma separated list will work natively with KF Pipelines'\n",
    "    parallel for (we can feed this directly into a parallel for loop and it\n",
    "    breaks into elements for us)\n",
    "\n",
    "    \"\"\"\n",
    "    constant = 10  # just so I know something is happening\n",
    "    return [constant + i for i in range(n_samples)]"
   ]
  },
  {
   "cell_type": "markdown",
   "metadata": {},
   "source": [
    "By defining this function in Python first, we can test it here to make sure it works as expected (rigorous testing omitted here, but recommended for your own tasks)"
   ]
  },
  {
   "cell_type": "code",
   "execution_count": 3,
   "metadata": {
    "execution": {
     "iopub.execute_input": "2021-06-16T18:11:41.031667Z",
     "iopub.status.busy": "2021-06-16T18:11:41.031245Z",
     "iopub.status.idle": "2021-06-16T18:11:41.037718Z",
     "shell.execute_reply": "2021-06-16T18:11:41.036762Z",
     "shell.execute_reply.started": "2021-06-16T18:11:41.031616Z"
    }
   },
   "outputs": [
    {
     "name": "stdout",
     "output_type": "stream",
     "text": [
      "[10, 11, 12, 13, 14, 15, 16, 17, 18, 19]\n"
     ]
    }
   ],
   "source": [
    "# Very rigorous testing!\n",
    "print(create_seeds_func(10))"
   ]
  },
  {
   "cell_type": "markdown",
   "metadata": {},
   "source": [
    "And we can then convert our tested function to a task constructor using `func_to_container_op`"
   ]
  },
  {
   "cell_type": "code",
   "execution_count": 4,
   "metadata": {
    "execution": {
     "iopub.execute_input": "2021-06-16T18:11:41.444765Z",
     "iopub.status.busy": "2021-06-16T18:11:41.444533Z",
     "iopub.status.idle": "2021-06-16T18:11:41.449463Z",
     "shell.execute_reply": "2021-06-16T18:11:41.448730Z",
     "shell.execute_reply.started": "2021-06-16T18:11:41.444742Z"
    }
   },
   "outputs": [
    {
     "name": "stdout",
     "output_type": "stream",
     "text": [
      "This example notebook was executed using python 3.8.8\n",
      "Using base_image_python: python:3.8.8-buster\n"
     ]
    }
   ],
   "source": [
    "# Define the base image our code will run from.\n",
    "# This is reused in a few components\n",
    "import sys\n",
    "python_version_as_string = f\"{sys.version_info.major}.{sys.version_info.minor}.{sys.version_info.micro}\"\n",
    "base_image_python = f\"python:{python_version_as_string}-buster\"\n",
    "print(f\"This example notebook was executed using python {python_version_as_string}\")\n",
    "print(f\"Using base_image_python: {base_image_python}\")"
   ]
  },
  {
   "cell_type": "code",
   "execution_count": 5,
   "metadata": {
    "execution": {
     "iopub.execute_input": "2021-06-16T18:11:41.635533Z",
     "iopub.status.busy": "2021-06-16T18:11:41.635203Z",
     "iopub.status.idle": "2021-06-16T18:11:41.664817Z",
     "shell.execute_reply": "2021-06-16T18:11:41.663853Z",
     "shell.execute_reply.started": "2021-06-16T18:11:41.635505Z"
    }
   },
   "outputs": [],
   "source": [
    "create_seeds_op = func_to_container_op(create_seeds_func,\n",
    "                                       base_image=base_image_python,\n",
    "                                       packages_to_install =['cloudpickle']\n",
    "                                       )"
   ]
  },
  {
   "cell_type": "markdown",
   "metadata": {},
   "source": [
    "This task constructor `create_seeds_op` is what actually creates instances of these components in our pipeline.  "
   ]
  },
  {
   "cell_type": "markdown",
   "metadata": {},
   "source": [
    "## sample"
   ]
  },
  {
   "cell_type": "markdown",
   "metadata": {},
   "source": [
    "Similar to above, we have a sample function and corresponding task constructor.  For this, we need several helper functions for MinIO (kept in `utilities.py`).  These helpers are automatically passed to our pipeline by `func_to_container_op` "
   ]
  },
  {
   "cell_type": "code",
   "execution_count": 6,
   "metadata": {
    "execution": {
     "iopub.execute_input": "2021-06-16T18:11:42.401960Z",
     "iopub.status.busy": "2021-06-16T18:11:42.401628Z",
     "iopub.status.idle": "2021-06-16T18:11:42.410785Z",
     "shell.execute_reply": "2021-06-16T18:11:42.409901Z",
     "shell.execute_reply.started": "2021-06-16T18:11:42.401933Z"
    }
   },
   "outputs": [],
   "source": [
    "def sample_func(seed: int, minio_url: str, minio_bucket: str,\n",
    "                minio_access_key: str, minio_secret_key: str,\n",
    "                minio_output_path: str) -> str:\n",
    "    \"\"\"\n",
    "    Define the \"sample\" pipeline operation\n",
    "\n",
    "    Args:\n",
    "        seed (int): Seed for the sample operation\n",
    "        minio_settings (str): JSON string with:\n",
    "        minio_url: minio endpoint for storage, without \"http://, eg:\n",
    "                   minio.minio-standard-tenant-1\n",
    "        minio_bucket: minio bucket to use within the endpoint, eg:\n",
    "                      firstname-lastname\n",
    "        minio_access_key: minio access key (from\n",
    "                          /vault/secrets/minio-standard-tenant-1 on notebook\n",
    "                          server)\n",
    "        minio_secret_key: minio secret key (from \n",
    "                          /vault/secrets/minio-standard-tenant-1 on notebook\n",
    "                          server)\n",
    "        minio_output_path (str): Path in minio to put output data.  Will place\n",
    "                                 x.out, y.out, result.out, and seed.out in\n",
    "                                 ./seed_{seed}/\n",
    "\n",
    "    Returns:\n",
    "        (str): Minio path where data is saved (common convention in kfp to\n",
    "               return this, even if it was specified as an input like\n",
    "               minio_output_path)\n",
    "    \"\"\"\n",
    "    import json\n",
    "    from minio import Minio\n",
    "    import random\n",
    "    random.seed(seed)\n",
    "\n",
    "    print(\"Pick random point\")\n",
    "    # x,y ~ Uniform([-1,1])\n",
    "    x = random.random() * 2 - 1\n",
    "    y = random.random() * 2 - 1\n",
    "    print(f\"Sample selected: ({x}, {y})\")\n",
    "\n",
    "    if (x ** 2 + y ** 2) <= 1:\n",
    "        print(f\"Random point is inside the unit circle\")\n",
    "        result = 4\n",
    "    else:\n",
    "        print(f\"Random point is outside the unit circle\")\n",
    "        result = 0\n",
    "\n",
    "    to_output = {\n",
    "        'x': x,\n",
    "        'y': y,\n",
    "        'result': result,\n",
    "        'seed': seed,\n",
    "    }\n",
    "\n",
    "    # Store all results to bucket\n",
    "    # Store each of x, y, result, and seed to a separate file with name\n",
    "    #   {bucket}/output_path/seed_{seed}/x.out\n",
    "    #   {bucket}/output_path/seed_{seed}/y.out\n",
    "    #   ...\n",
    "    # where each file has just the value of the output.\n",
    "    #\n",
    "    # Could also have stored them all together in a single json file\n",
    "    for varname, value in to_output.items():\n",
    "        # TODO: Make this really a temp file...\n",
    "        tempfile = f\"{varname}.out\"\n",
    "        with open(tempfile, 'w') as fout:\n",
    "            fout.write(str(value))\n",
    "\n",
    "        destination = f\"{minio_output_path.rstrip('/')}/seed_{seed}/{tempfile}\"\n",
    "\n",
    "        # Put file in minio\n",
    "        copy_to_minio(minio_url=minio_url,\n",
    "                      bucket=minio_bucket,\n",
    "                      access_key=minio_access_key,\n",
    "                      secret_key=minio_secret_key,\n",
    "                      sourcefile=tempfile,\n",
    "                      destination=destination\n",
    "                      )\n",
    "\n",
    "    # Return path containing outputs (common pipeline convention)\n",
    "    return minio_output_path"
   ]
  },
  {
   "cell_type": "code",
   "execution_count": 7,
   "metadata": {
    "execution": {
     "iopub.execute_input": "2021-06-16T18:11:42.589425Z",
     "iopub.status.busy": "2021-06-16T18:11:42.589117Z",
     "iopub.status.idle": "2021-06-16T18:11:42.593246Z",
     "shell.execute_reply": "2021-06-16T18:11:42.592304Z",
     "shell.execute_reply.started": "2021-06-16T18:11:42.589382Z"
    }
   },
   "outputs": [],
   "source": [
    "# (insert your testing here)\n",
    "\n",
    "# # Example:\n",
    "# # NOTE: These tests actually write to minio!\n",
    "# minio_settings = get_minio_credentials(\"minimal\")\n",
    "# minio_settings['bucket'] = 'andrew-scribner'\n",
    "# sample = sample_func(5,\n",
    "#                      minio_url=minio_settings['url'],\n",
    "#                      minio_bucket=minio_settings['bucket'],\n",
    "#                      minio_access_key=minio_settings['access_key'],\n",
    "#                      minio_secret_key=minio_settings['secret_key'],\n",
    "#                      minio_output_path='test_functions'\n",
    "#                      )\n",
    "# # Check the bucket/output_path to see if things wrote correctly"
   ]
  },
  {
   "cell_type": "markdown",
   "metadata": {},
   "source": [
    "We set `modules_to_capture=['utilities']` and `use_code_pickling=True` because this will pass our helpers to our pipeline.  "
   ]
  },
  {
   "cell_type": "code",
   "execution_count": 8,
   "metadata": {
    "execution": {
     "iopub.execute_input": "2021-06-16T18:11:42.985330Z",
     "iopub.status.busy": "2021-06-16T18:11:42.985035Z",
     "iopub.status.idle": "2021-06-16T18:11:42.995919Z",
     "shell.execute_reply": "2021-06-16T18:11:42.994937Z",
     "shell.execute_reply.started": "2021-06-16T18:11:42.985305Z"
    }
   },
   "outputs": [],
   "source": [
    "sample_op = func_to_container_op(sample_func,\n",
    "                                 base_image=base_image_python,\n",
    "                                 use_code_pickling=True,  # Required because of helper functions\n",
    "                                 modules_to_capture=['utilities'],  # Required because of helper functions\n",
    "                                 packages_to_install=['minio','cloudpickle'],\n",
    "                                 )"
   ]
  },
  {
   "cell_type": "markdown",
   "metadata": {},
   "source": [
    "## collect_results"
   ]
  },
  {
   "cell_type": "markdown",
   "metadata": {},
   "source": [
    "To collect results from our sample operations, we glob from MinIO and output result data as a JSON list\n",
    "\n",
    "Again, we need a helper file that feels better housed in a shared repo"
   ]
  },
  {
   "cell_type": "code",
   "execution_count": 9,
   "metadata": {
    "execution": {
     "iopub.execute_input": "2021-06-16T18:11:43.626604Z",
     "iopub.status.busy": "2021-06-16T18:11:43.626232Z",
     "iopub.status.idle": "2021-06-16T18:11:43.633645Z",
     "shell.execute_reply": "2021-06-16T18:11:43.632897Z",
     "shell.execute_reply.started": "2021-06-16T18:11:43.626545Z"
    }
   },
   "outputs": [],
   "source": [
    "def collect_results_as_list(search_location: str, search_pattern: str,\n",
    "                            minio_url: str, minio_bucket: str,\n",
    "                            minio_access_key: str, minio_secret_key: str,\n",
    "                            ) -> List[float]:\n",
    "    \"\"\"\n",
    "    Concatenates all files in minio that match a pattern\n",
    "    \"\"\"\n",
    "    from minio import Minio\n",
    "    import json\n",
    "\n",
    "    obj_names = minio_find_files_matching_pattern(\n",
    "        minio_url=minio_url,\n",
    "        bucket=minio_bucket,\n",
    "        access_key=minio_access_key,\n",
    "        secret_key=minio_secret_key,\n",
    "        pattern=search_pattern,\n",
    "        prefix=search_location)\n",
    "\n",
    "    s3 = Minio(endpoint=minio_url,\n",
    "               access_key=minio_access_key,\n",
    "               secret_key=minio_secret_key,\n",
    "               secure=False,\n",
    "               region=\"us-west-1\",\n",
    "               )\n",
    "\n",
    "    # TODO: Use actual temp files\n",
    "    to_return = [None] * len(obj_names)\n",
    "    for i, obj_name in enumerate(obj_names):\n",
    "        tempfile = f\"./unique_temp_{i}\"\n",
    "        s3.fget_object(minio_bucket,\n",
    "                       object_name=obj_name,\n",
    "                       file_path=tempfile\n",
    "                       )\n",
    "        with open(tempfile, 'r') as fin:\n",
    "            to_return[i] = float(fin.read())\n",
    "\n",
    "    print(f\"Returning {to_return}\")\n",
    "    return to_return"
   ]
  },
  {
   "cell_type": "code",
   "execution_count": 10,
   "metadata": {
    "execution": {
     "iopub.execute_input": "2021-06-16T18:11:43.855791Z",
     "iopub.status.busy": "2021-06-16T18:11:43.855470Z",
     "iopub.status.idle": "2021-06-16T18:11:43.859834Z",
     "shell.execute_reply": "2021-06-16T18:11:43.858712Z",
     "shell.execute_reply.started": "2021-06-16T18:11:43.855765Z"
    }
   },
   "outputs": [],
   "source": [
    "# (insert your testing here)\n",
    "\n",
    "# # Example:\n",
    "# # This only works if you make a directory with some \"./something/result.out\"\n",
    "# # files in it\n",
    "# pattern = re.compile(r\".*/result.out$\")\n",
    "# collect_results_as_list(search_location='map-reduce-output/seeds/',\n",
    "#                         search_pattern=pattern,\n",
    "#                         minio_url=minio_settings['url'],\n",
    "#                         minio_bucket=minio_settings['bucket'],\n",
    "#                         minio_access_key=minio_settings['access_key'],\n",
    "#                         minio_secret_key=minio_settings['secret_key'],\n",
    "#                         )\n",
    "# # (you should see all the result.out files in the bucket/location you're pointed to)"
   ]
  },
  {
   "cell_type": "code",
   "execution_count": 11,
   "metadata": {
    "execution": {
     "iopub.execute_input": "2021-06-16T18:11:44.055287Z",
     "iopub.status.busy": "2021-06-16T18:11:44.055005Z",
     "iopub.status.idle": "2021-06-16T18:11:44.063286Z",
     "shell.execute_reply": "2021-06-16T18:11:44.062400Z",
     "shell.execute_reply.started": "2021-06-16T18:11:44.055262Z"
    }
   },
   "outputs": [],
   "source": [
    "collect_results_op = func_to_container_op(collect_results_as_list,\n",
    "                                          base_image=base_image_python,\n",
    "                                          use_code_pickling=True,  # Required because of helper functions\n",
    "                                          modules_to_capture=['utilities'],  # Required because of helper functions\n",
    "                                          packages_to_install=[\"minio\",'cloudpickle'],\n",
    "                                          )"
   ]
  },
  {
   "cell_type": "markdown",
   "metadata": {},
   "source": [
    "## average"
   ]
  },
  {
   "cell_type": "markdown",
   "metadata": {},
   "source": [
    "Average takes a JSON list of numbers and returns their mean as a float"
   ]
  },
  {
   "cell_type": "code",
   "execution_count": 12,
   "metadata": {
    "execution": {
     "iopub.execute_input": "2021-06-16T18:11:44.815923Z",
     "iopub.status.busy": "2021-06-16T18:11:44.815586Z",
     "iopub.status.idle": "2021-06-16T18:11:44.820714Z",
     "shell.execute_reply": "2021-06-16T18:11:44.819739Z",
     "shell.execute_reply.started": "2021-06-16T18:11:44.815897Z"
    }
   },
   "outputs": [],
   "source": [
    "def average_func(numbers) -> float:\n",
    "    \"\"\"\n",
    "    Computes the average value of a JSON list of numbers, returned as a float\n",
    "    \"\"\"\n",
    "    import json\n",
    "    print(numbers)\n",
    "    print(type(numbers))\n",
    "    numbers = json.loads(numbers)\n",
    "    return sum(numbers) / len(numbers)"
   ]
  },
  {
   "cell_type": "code",
   "execution_count": 13,
   "metadata": {
    "execution": {
     "iopub.execute_input": "2021-06-16T18:11:45.003092Z",
     "iopub.status.busy": "2021-06-16T18:11:45.002796Z",
     "iopub.status.idle": "2021-06-16T18:11:45.012301Z",
     "shell.execute_reply": "2021-06-16T18:11:45.011551Z",
     "shell.execute_reply.started": "2021-06-16T18:11:45.003067Z"
    }
   },
   "outputs": [],
   "source": [
    "average_op = func_to_container_op(average_func,\n",
    "                                  base_image=base_image_python,\n",
    "                                  )"
   ]
  },
  {
   "cell_type": "markdown",
   "metadata": {},
   "source": [
    "# Define and Compile Pipeline"
   ]
  },
  {
   "cell_type": "markdown",
   "metadata": {},
   "source": [
    "With our component constructors defined, we build our full pipeline.  Remember that while we use a Python function to define our pipeline here, anything that depends on a KFP-specific entity (an input argument, a component result, etc) is computed at runtime in kubernetes.  This means we can't do things like \n",
    "```\n",
    "for seed in seeds:\n",
    "    sample_op = sample_op(seed)\n",
    "```\n",
    "because Python would try to interpret seeds, which is a *placeholder* object for a future value, as an iterable."
   ]
  },
  {
   "cell_type": "code",
   "execution_count": 14,
   "metadata": {
    "execution": {
     "iopub.execute_input": "2021-06-16T18:11:45.548835Z",
     "iopub.status.busy": "2021-06-16T18:11:45.548365Z",
     "iopub.status.idle": "2021-06-16T18:11:45.555370Z",
     "shell.execute_reply": "2021-06-16T18:11:45.554652Z",
     "shell.execute_reply.started": "2021-06-16T18:11:45.548807Z"
    }
   },
   "outputs": [],
   "source": [
    "@dsl.pipeline(\n",
    "    name=\"Estimate Pi w/Minio\",\n",
    "    description=\"Extension of the Map-Reduce example using dynamic number of samples and Minio for storage\"\n",
    ")\n",
    "def compute_pi(n_samples: int, output_location: str, minio_bucket: str, minio_url,\n",
    "               minio_access_key: str, minio_secret_key: str):\n",
    "    seeds = create_seeds_op(n_samples)\n",
    "\n",
    "    # We add the KFP RUN_ID here in the output location so that we don't\n",
    "    # accidentally overwrite another run.  There's lots of ways to manage\n",
    "    # data, this is just one possibility.\n",
    "    # Ensure you avoid double \"/\"s in the path - minio does not like this\n",
    "    this_run_output_location = f\"{str(output_location).rstrip('/')}\" \\\n",
    "                               f\"/{kfp.dsl.RUN_ID_PLACEHOLDER}\"\n",
    "\n",
    "    sample_output_location = f\"{this_run_output_location}/seeds\"\n",
    "\n",
    "    sample_ops = []\n",
    "    with kfp.dsl.ParallelFor(seeds.output) as seed:\n",
    "        sample_op_ = sample_op(seed, minio_url, minio_bucket, minio_access_key,\n",
    "                               minio_secret_key, sample_output_location)\n",
    "        # Make a list of sample_ops so we can do result collection after they finish\n",
    "        sample_ops.append(sample_op_)\n",
    "\n",
    "        # NOTE: A current limitation of the ParallelFor loop in KFP is that it\n",
    "        # does not give us an easy way to collect the results afterwards.  To\n",
    "        # get around this problem, we store results in a known place in minio\n",
    "        # and later glob the result files back out\n",
    "\n",
    "    # Find result files that exist in the seed output location\n",
    "    # Note that a file in the bucket root does not have a preceeding slash, so\n",
    "    # to handle the (unlikely) event we've put all results in the bucket root,\n",
    "    # check for either ^result.out (eg, entire string is just the result.out)\n",
    "    # or /result.out.  This is to avoid matching something like\n",
    "    # '/path/i_am_not_a_result.out'\n",
    "    search_pattern = r'.*(^|/)result.out'\n",
    "\n",
    "    # Collect all result.txt files in the sample_output_location and read them\n",
    "    # into a list\n",
    "    collect_results_op_ = collect_results_op(\n",
    "        search_location=sample_output_location,\n",
    "        search_pattern=search_pattern,\n",
    "        minio_url=minio_url,\n",
    "        minio_bucket=minio_bucket,\n",
    "        minio_access_key=minio_access_key,\n",
    "        minio_secret_key=minio_secret_key,\n",
    "    )\n",
    "\n",
    "    # collect_results requires all sample_ops to be done before running (all\n",
    "    # results must be generated first).  Enforce this by setting files_to_cat\n",
    "    # to be .after() all copy_op tasks\n",
    "    for s in sample_ops:\n",
    "        collect_results_op_.after(s)\n",
    "\n",
    "    average_op(collect_results_op_.output)"
   ]
  },
  {
   "cell_type": "markdown",
   "metadata": {},
   "source": [
    "Compile our pipeline into a reusable YAML file"
   ]
  },
  {
   "cell_type": "code",
   "execution_count": 15,
   "metadata": {
    "execution": {
     "iopub.execute_input": "2021-06-16T18:11:46.047882Z",
     "iopub.status.busy": "2021-06-16T18:11:46.047543Z",
     "iopub.status.idle": "2021-06-16T18:11:46.188821Z",
     "shell.execute_reply": "2021-06-16T18:11:46.187858Z",
     "shell.execute_reply.started": "2021-06-16T18:11:46.047854Z"
    }
   },
   "outputs": [
    {
     "name": "stdout",
     "output_type": "stream",
     "text": [
      "Exported pipeline definition to compute-pi-with-lightweight.zip\n"
     ]
    }
   ],
   "source": [
    "experiment_name = \"compute-pi-with-lightweight\"\n",
    "experiment_yaml_zip = experiment_name + '.zip'\n",
    "compiler.Compiler().compile(\n",
    "    compute_pi,\n",
    "    experiment_yaml_zip\n",
    ")\n",
    "print(f\"Exported pipeline definition to {experiment_yaml_zip}\")"
   ]
  },
  {
   "cell_type": "markdown",
   "metadata": {},
   "source": [
    "# Run"
   ]
  },
  {
   "cell_type": "markdown",
   "metadata": {},
   "source": [
    "Use our above pipeline definition to do our task.  Note that anything below here can be done **without** the above code.  All we need is the yaml file from the last step.  We can even do this from the Kubeflow Pipelines UI or from a terminal."
   ]
  },
  {
   "cell_type": "markdown",
   "metadata": {},
   "source": [
    "## User settings\n",
    "Check what MinIO Instances are available"
   ]
  },
  {
   "cell_type": "code",
   "execution_count": null,
   "metadata": {},
   "outputs": [],
   "source": [
    "ls --ignore='*.json' /vault/secrets"
   ]
  },
  {
   "cell_type": "markdown",
   "metadata": {},
   "source": [
    "Update the next block to match your own setup.  bucket will be your namespace (likely your firstname-lastname), and output_location is where inside the bucket you want to put your results"
   ]
  },
  {
   "cell_type": "code",
   "execution_count": 16,
   "metadata": {
    "execution": {
     "iopub.execute_input": "2021-06-16T18:11:47.219807Z",
     "iopub.status.busy": "2021-06-16T18:11:47.219446Z",
     "iopub.status.idle": "2021-06-16T18:11:47.224024Z",
     "shell.execute_reply": "2021-06-16T18:11:47.223137Z",
     "shell.execute_reply.started": "2021-06-16T18:11:47.219765Z"
    }
   },
   "outputs": [],
   "source": [
    "import os\n",
    "# Python Minio SDK expects bucket and output_location to be separate\n",
    "bucket =os.environ['NB_NAMESPACE']\n",
    "output_location = \"map-reduce-output-lw\"\n",
    "n_samples = 10\n",
    "minio_tenant = \"minio-standard\"  # NOTE: can be changed to an instance from the previous step"
   ]
  },
  {
   "cell_type": "markdown",
   "metadata": {},
   "source": [
    "## Other settings\n",
    "(leave this as is)"
   ]
  },
  {
   "cell_type": "code",
   "execution_count": 17,
   "metadata": {
    "execution": {
     "iopub.execute_input": "2021-06-16T18:11:47.858770Z",
     "iopub.status.busy": "2021-06-16T18:11:47.858385Z",
     "iopub.status.idle": "2021-06-16T18:11:47.865178Z",
     "shell.execute_reply": "2021-06-16T18:11:47.864501Z",
     "shell.execute_reply.started": "2021-06-16T18:11:47.858746Z"
    }
   },
   "outputs": [
    {
     "name": "stdout",
     "output_type": "stream",
     "text": [
      "Trying to access minio credentials from:\n",
      "/vault/secrets/minio-standard-tenant-1.json\n",
      "Trying to access minio credentials from:\n",
      "/vault/secrets/minio-standard-tenant-1.json\n"
     ]
    }
   ],
   "source": [
    "# Get minio credentials using a helper\n",
    "minio_settings = get_minio_credentials(minio_tenant)\n",
    "minio_url = minio_settings[\"url\"]\n",
    "minio_access_key = minio_settings[\"access_key\"]\n",
    "minio_secret_key = minio_settings[\"secret_key\"]"
   ]
  },
  {
   "cell_type": "code",
   "execution_count": 18,
   "metadata": {
    "execution": {
     "iopub.execute_input": "2021-06-16T18:11:48.607171Z",
     "iopub.status.busy": "2021-06-16T18:11:48.606907Z",
     "iopub.status.idle": "2021-06-16T18:11:49.115309Z",
     "shell.execute_reply": "2021-06-16T18:11:49.114423Z",
     "shell.execute_reply.started": "2021-06-16T18:11:48.607146Z"
    }
   },
   "outputs": [
    {
     "data": {
      "text/html": [
       "<a href=\"/_/pipeline/#/experiments/details/d8e8041c-1b6f-445e-a045-6b712b565a69\" target=\"_blank\" >Experiment details</a>."
      ],
      "text/plain": [
       "<IPython.core.display.HTML object>"
      ]
     },
     "metadata": {},
     "output_type": "display_data"
    },
    {
     "data": {
      "text/html": [
       "<a href=\"/_/pipeline/#/runs/details/52f1be4e-b098-4215-bb18-823671ec50d4\" target=\"_blank\" >Run details</a>."
      ],
      "text/plain": [
       "<IPython.core.display.HTML object>"
      ]
     },
     "metadata": {},
     "output_type": "display_data"
    }
   ],
   "source": [
    "client = kfp.Client()\n",
    "result = client.create_run_from_pipeline_func(\n",
    "    compute_pi,\n",
    "    arguments={\"n_samples\": n_samples,\n",
    "               \"output_location\": output_location,\n",
    "               \"minio_bucket\": bucket,\n",
    "               \"minio_url\": minio_url,\n",
    "               \"minio_access_key\": minio_access_key,\n",
    "               \"minio_secret_key\": minio_secret_key,\n",
    "               },\n",
    "    )"
   ]
  },
  {
   "cell_type": "markdown",
   "metadata": {},
   "source": [
    "(Optional)\n",
    "\n",
    "Wait for the run to complete, then print that it is done"
   ]
  },
  {
   "cell_type": "code",
   "execution_count": 19,
   "metadata": {
    "execution": {
     "iopub.execute_input": "2021-06-16T18:11:49.691941Z",
     "iopub.status.busy": "2021-06-16T18:11:49.691603Z",
     "iopub.status.idle": "2021-06-16T18:12:50.615246Z",
     "shell.execute_reply": "2021-06-16T18:12:50.614084Z",
     "shell.execute_reply.started": "2021-06-16T18:11:49.691900Z"
    }
   },
   "outputs": [],
   "source": [
    "wait_result = result.wait_for_run_completion(timeout=300)"
   ]
  },
  {
   "cell_type": "code",
   "execution_count": 20,
   "metadata": {
    "execution": {
     "iopub.execute_input": "2021-06-16T18:12:50.617402Z",
     "iopub.status.busy": "2021-06-16T18:12:50.617059Z",
     "iopub.status.idle": "2021-06-16T18:12:50.623580Z",
     "shell.execute_reply": "2021-06-16T18:12:50.622442Z",
     "shell.execute_reply.started": "2021-06-16T18:12:50.617361Z"
    },
    "tags": []
   },
   "outputs": [
    {
     "name": "stdout",
     "output_type": "stream",
     "text": [
      "Run 52f1be4e-b098-4215-bb18-823671ec50d4\n",
      "\tstarted at \t2021-06-16 18:11:49+00:00\n",
      "\tfinished at \t2021-06-16 18:12:36+00:00\n",
      "\twith status Succeeded\n"
     ]
    }
   ],
   "source": [
    "print(f\"Run {wait_result.run.id}\\n\\tstarted at \\t{wait_result.run.created_at}\\n\\tfinished at \\t{wait_result.run.finished_at}\\n\\twith status {wait_result.run.status}\")"
   ]
  }
 ],
 "metadata": {
  "kernelspec": {
   "display_name": "Python 3",
   "language": "python",
   "name": "python3"
  },
  "language_info": {
   "codemirror_mode": {
    "name": "ipython",
    "version": 3
   },
   "file_extension": ".py",
   "mimetype": "text/x-python",
   "name": "python",
   "nbconvert_exporter": "python",
   "pygments_lexer": "ipython3",
   "version": "3.8.8"
  }
 },
 "nbformat": 4,
 "nbformat_minor": 4
}
