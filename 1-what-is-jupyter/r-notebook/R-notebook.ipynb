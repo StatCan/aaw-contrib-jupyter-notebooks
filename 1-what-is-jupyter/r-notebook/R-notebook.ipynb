{
 "cells": [
  {
   "cell_type": "markdown",
   "metadata": {},
   "source": [
    "# R Example Notebook\n",
    "\n",
    "Adapted from\n",
    "\n",
    "https://www.r-graph-gallery.com/183-choropleth-map-with-leaflet.html\n",
    "\n"
   ]
  },
  {
   "cell_type": "markdown",
   "metadata": {},
   "source": [
    "## Download and Extract the data"
   ]
  },
  {
   "cell_type": "code",
   "execution_count": 1,
   "metadata": {},
   "outputs": [
    {
     "data": {
      "text/html": [
       "<style>\n",
       ".list-inline {list-style: none; margin:0; padding: 0}\n",
       ".list-inline>li {display: inline-block}\n",
       ".list-inline>li:not(:last-child)::after {content: \"\\00b7\"; padding: 0 .5ex}\n",
       "</style>\n",
       "<ol class=list-inline><li>'DATA'</li><li>'R-notebook.ipynb'</li><li>'Readme.txt'</li><li>'TM_WORLD_BORDERS_SIMPL-0.3.dbf'</li><li>'TM_WORLD_BORDERS_SIMPL-0.3.prj'</li><li>'TM_WORLD_BORDERS_SIMPL-0.3.shp'</li><li>'TM_WORLD_BORDERS_SIMPL-0.3.shx'</li></ol>\n"
      ],
      "text/latex": [
       "\\begin{enumerate*}\n",
       "\\item 'DATA'\n",
       "\\item 'R-notebook.ipynb'\n",
       "\\item 'Readme.txt'\n",
       "\\item 'TM\\_WORLD\\_BORDERS\\_SIMPL-0.3.dbf'\n",
       "\\item 'TM\\_WORLD\\_BORDERS\\_SIMPL-0.3.prj'\n",
       "\\item 'TM\\_WORLD\\_BORDERS\\_SIMPL-0.3.shp'\n",
       "\\item 'TM\\_WORLD\\_BORDERS\\_SIMPL-0.3.shx'\n",
       "\\end{enumerate*}\n"
      ],
      "text/markdown": [
       "1. 'DATA'\n",
       "2. 'R-notebook.ipynb'\n",
       "3. 'Readme.txt'\n",
       "4. 'TM_WORLD_BORDERS_SIMPL-0.3.dbf'\n",
       "5. 'TM_WORLD_BORDERS_SIMPL-0.3.prj'\n",
       "6. 'TM_WORLD_BORDERS_SIMPL-0.3.shp'\n",
       "7. 'TM_WORLD_BORDERS_SIMPL-0.3.shx'\n",
       "\n",
       "\n"
      ],
      "text/plain": [
       "[1] \"DATA\"                           \"R-notebook.ipynb\"              \n",
       "[3] \"Readme.txt\"                     \"TM_WORLD_BORDERS_SIMPL-0.3.dbf\"\n",
       "[5] \"TM_WORLD_BORDERS_SIMPL-0.3.prj\" \"TM_WORLD_BORDERS_SIMPL-0.3.shp\"\n",
       "[7] \"TM_WORLD_BORDERS_SIMPL-0.3.shx\""
      ]
     },
     "metadata": {},
     "output_type": "display_data"
    }
   ],
   "source": [
    "# Download the shapefile. (note that I store it in a folder called DATA. You have to change that if needed.)\n",
    "download.file(\"http://thematicmapping.org/downloads/TM_WORLD_BORDERS_SIMPL-0.3.zip\" , destfile=\"DATA/world_shape_file.zip\")\n",
    "# You now have it in your current working directory, have a look!"
   ]
  },
  {
   "cell_type": "code",
   "execution_count": 5,
   "metadata": {},
   "outputs": [],
   "source": [
    "# Unzip this file. You can do it with R (as below), or clicking on the object you downloaded.\n",
    "\n",
    "system(\"cd DATA; unzip -d world_shape_file world_shape_file.zip; cd ..\")\n",
    "#  -- > You now have 4 files. One of these files is a .shp file! (TM_WORLD_BORDERS_SIMPL-0.3.shp)"
   ]
  },
  {
   "cell_type": "markdown",
   "metadata": {},
   "source": [
    "## Plot the data"
   ]
  },
  {
   "cell_type": "code",
   "execution_count": 6,
   "metadata": {},
   "outputs": [
    {
     "name": "stderr",
     "output_type": "stream",
     "text": [
      "\n",
      "Attaching package: ‘dplyr’\n",
      "\n",
      "\n",
      "The following objects are masked from ‘package:stats’:\n",
      "\n",
      "    filter, lag\n",
      "\n",
      "\n",
      "The following objects are masked from ‘package:base’:\n",
      "\n",
      "    intersect, setdiff, setequal, union\n",
      "\n",
      "\n"
     ]
    }
   ],
   "source": [
    "# Read this shape file with the rgdal library. \n",
    "library(rgdal)\n",
    "world_spdf <- readOGR( \n",
    "  dsn= paste0(getwd(),\"/DATA/world_shape_file/\") , \n",
    "  layer=\"TM_WORLD_BORDERS_SIMPL-0.3\",\n",
    "  verbose=FALSE\n",
    ")\n",
    "\n",
    "# Clean the data object\n",
    "library(dplyr)\n",
    "world_spdf@data$POP2005[ which(world_spdf@data$POP2005 == 0)] = NA\n",
    "world_spdf@data$POP2005 <- as.numeric(as.character(world_spdf@data$POP2005)) / 1000000 %>% round(2)\n",
    "\n",
    "# -- > Now you have a Spdf object (spatial polygon data frame). You can start doing maps!"
   ]
  },
  {
   "cell_type": "code",
   "execution_count": 28,
   "metadata": {},
   "outputs": [
    {
     "data": {
      "text/html": [
       "<style>\n",
       ".list-inline {list-style: none; margin:0; padding: 0}\n",
       ".list-inline>li {display: inline-block}\n",
       ".list-inline>li:not(:last-child)::after {content: \"\\00b7\"; padding: 0 .5ex}\n",
       "</style>\n",
       "<ol class=list-inline><li>'#470E61'</li><li>'#470D60'</li></ol>\n"
      ],
      "text/latex": [
       "\\begin{enumerate*}\n",
       "\\item '\\#470E61'\n",
       "\\item '\\#470D60'\n",
       "\\end{enumerate*}\n"
      ],
      "text/markdown": [
       "1. '#470E61'\n",
       "2. '#470D60'\n",
       "\n",
       "\n"
      ],
      "text/plain": [
       "[1] \"#470E61\" \"#470D60\""
      ]
     },
     "metadata": {},
     "output_type": "display_data"
    },
    {
     "data": {
      "text/html": [
       "<iframe src=\"demo.html\" style=\"min-height: 600px; width: 100%;\"></iframe>"
      ]
     },
     "metadata": {},
     "output_type": "display_data"
    }
   ],
   "source": [
    "# Library\n",
    "library(leaflet)\n",
    "library(IRdisplay)\n",
    "library(htmlwidgets)\n",
    "\n",
    "# Create a color palette for the map:\n",
    "mypalette <- colorNumeric( palette=\"viridis\", domain=world_spdf@data$POP2005, na.color=\"transparent\")\n",
    "mypalette(c(45,43))\n",
    "\n",
    "# Basic choropleth with leaflet?\n",
    "m <- leaflet(world_spdf, height=\"1000px\") %>% \n",
    "  addTiles()  %>% \n",
    "  setView( lat=10, lng=0 , zoom=2) %>%\n",
    "  addPolygons( fillColor = ~mypalette(POP2005), stroke=FALSE )\n",
    "\n",
    "\n",
    "saveWidget(m, 'demo.html', selfcontained = FALSE)\n",
    "display_html('<iframe src=\"demo.html\" style=\"min-height: 600px; width: 100%;\"></iframe>')\n",
    "\n",
    "# save the widget in a html file if needed.\n",
    "# library(htmlwidgets)\n",
    "# saveWidget(m, file=paste0( getwd(), \"/HtmlWidget/choroplethLeaflet1.html\"))"
   ]
  },
  {
   "cell_type": "code",
   "execution_count": 29,
   "metadata": {},
   "outputs": [
    {
     "name": "stderr",
     "output_type": "stream",
     "text": [
      "Warning message:\n",
      "“Removed 18 rows containing non-finite values (stat_bin).”\n"
     ]
    },
    {
     "data": {
      "image/png": "[encoded data removed]",
      "text/plain": [
       "plot without title"
      ]
     },
     "metadata": {
      "image/png": {
       "height": 420,
       "width": 420
      },
      "text/plain": {
       "height": 420,
       "width": 420
      }
     },
     "output_type": "display_data"
    }
   ],
   "source": [
    "# load ggplot2\n",
    "library(ggplot2)\n",
    "\n",
    "# Distribution of the population per country?\n",
    "world_spdf@data %>% \n",
    "  ggplot( aes(x=as.numeric(POP2005))) + \n",
    "    geom_histogram(bins=20, fill='#69b3a2', color='white') +\n",
    "    xlab(\"Population (M)\") + \n",
    "    theme_bw()"
   ]
  },
  {
   "cell_type": "markdown",
   "metadata": {
    "toc-hr-collapsed": true,
    "toc-nb-collapsed": true
   },
   "source": [
    "## Make the plots pretty"
   ]
  },
  {
   "cell_type": "code",
   "execution_count": 31,
   "metadata": {},
   "outputs": [
    {
     "data": {
      "text/html": [
       "<iframe src=\"demo-colorized.html\" style=\"min-height: 600px; width: 100%;\"></iframe>"
      ]
     },
     "metadata": {},
     "output_type": "display_data"
    }
   ],
   "source": [
    "m <- leaflet(world_spdf)%>% addTiles()  %>% setView( lat=10, lng=0 , zoom=2) %>%\n",
    "  addPolygons( stroke = FALSE, fillOpacity = 0.5, smoothFactor = 0.5, color = ~colorQuantile(\"YlOrRd\", POP2005)(POP2005) )\n",
    "\n",
    "\n",
    "saveWidget(m, 'demo-colorized.html', selfcontained = FALSE)\n",
    "display_html('<iframe src=\"demo-colorized.html\" style=\"min-height: 600px; width: 100%;\"></iframe>')\n"
   ]
  },
  {
   "cell_type": "markdown",
   "metadata": {},
   "source": [
    "## Conclusion\n",
    "\n",
    "\n",
    "R and Jupyter work really well together!!! Notice that the noteboks have spellshck (two previous words will be highlighted red).\n",
    "\n",
    "If you are not familiar with `markdown` it's a simple formatting language, kind of like what you have in confluence.\n",
    "\n",
    "- You\n",
    "- Can\n",
    "- Make\n",
    "- Lists\n",
    "\n",
    "**Tables** also work. *and did you notice the bold and italics?*\n",
    "\n",
    "| Stretch/Untouched | ProbDistribution | Accuracy |\n",
    "| --- | --- | --- |\n",
    "| Stretched | Gaussian | .843 |\n",
    "| Stretched | Gaussian | .843 |\n",
    "| Stretched | Gaussian | .843 |\n",
    "\n",
    "[Hyperlinks also work](https://github.com/adam-p/markdown-here/wiki/Markdown-Cheatsheet)\n"
   ]
  },
  {
   "cell_type": "markdown",
   "metadata": {},
   "source": [
    "# R-Shiny\n",
    "\n",
    "We also have an [R-Shiny server](shiny.covid.cloud.statcan.ca)\n",
    "\n",
    "You can add your dashboard by submitting it to [this folder](https://github.com/StatCan/shiny/tree/master/mountpoints/apps) as a Github Pull Request.\n",
    "\n",
    "![Screenshot](shiny.png)\n"
   ]
  },
  {
   "cell_type": "code",
   "execution_count": null,
   "metadata": {},
   "outputs": [],
   "source": []
  }
 ],
 "metadata": {
  "kernelspec": {
   "display_name": "R",
   "language": "R",
   "name": "ir"
  },
  "language_info": {
   "codemirror_mode": "r",
   "file_extension": ".r",
   "mimetype": "text/x-r-source",
   "name": "R",
   "pygments_lexer": "r",
   "version": "3.6.2"
  },
  "toc-autonumbering": true,
  "toc-showcode": true,
  "toc-showmarkdowntxt": true,
  "toc-showtags": false
 },
 "nbformat": 4,
 "nbformat_minor": 4
}
